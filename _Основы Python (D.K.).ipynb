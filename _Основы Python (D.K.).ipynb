{
 "cells": [
  {
   "cell_type": "markdown",
   "id": "a4394510",
   "metadata": {},
   "source": [
    "___\n",
    "1) `Списки`, то есть `List` изменяемые, в то время как `кортеж`, то есть `tuple` - неизменяемые.   \n",
    "И кортеж работает быстрее чем список.    "
   ]
  },
  {
   "cell_type": "code",
   "execution_count": null,
   "id": "f18392cf",
   "metadata": {},
   "outputs": [],
   "source": [
    "my_tuple = (1, 2, 3)\n",
    "print(my_tuple[0])     # Вывод: 1\n",
    "my_tuple[0] = 10       # Ошибка, так как кортежи нельзя изменять.\n",
    "\n",
    "my_list = [1, 2, 3]\n",
    "print(my_list[1])      # Вывод: 2"
   ]
  },
  {
   "cell_type": "markdown",
   "id": "48b9b4a0",
   "metadata": {},
   "source": [
    "У Списков (`List`) есть следующие основные методы:   \n",
    "В то время как у `Кортежа` (`Tuple`) есть только методы `count()` и `index()`."
   ]
  },
  {
   "cell_type": "code",
   "execution_count": null,
   "id": "8053d378",
   "metadata": {},
   "outputs": [],
   "source": [
    "my_list.append(4)            # добавляет элемент в конец списка.\n",
    "my_list.extend([4, 5])       # добавляет все элементы из другого итерируемого объекта.\n",
    "my_list.insert(6, 5)         # вставляет элемент 6 на позицию 5.\n",
    "my_list.remove(5)            # удаляет значение, которые вы указали.\n",
    "my_list.pop([0])             # удаляет элемент по индексу. Если индекс не указан, удаляется последний элемент.\n",
    "my_list.clear()              # очищает список\n",
    "my_list.count(2)             # считает сколько значений 2 в списке.\n",
    "my_list.sort()               # сортирует список\n",
    "my_list.reverse()            # меняет порядок на обратный"
   ]
  },
  {
   "cell_type": "markdown",
   "id": "cef507ea",
   "metadata": {},
   "source": [
    "`Set`, то есть `Множества` это уникальные элементы, без дубликатов.   \n",
    "Также у set есть методы:"
   ]
  },
  {
   "cell_type": "code",
   "execution_count": null,
   "id": "1cab25f3",
   "metadata": {},
   "outputs": [],
   "source": [
    "my_set = {1, 2, 3, 3, 4}\n",
    "my_set_2 = {2, 3, 7}\n",
    "print(my_set)                         # Вывод: {1, 2, 3, 4} — дубликаты удалены\n",
    "\n",
    "#Методы set:\n",
    "my_set.add(5)                         # Добавить элемент в конец\n",
    "my_set.remove(2)                      # Удалить (ошибка, если нет числа 2)\n",
    "my_set.discard(6)                     # Удалить (без ошибки)\n",
    "my_set.clear()                        # Очистить множество\n",
    "my_set.difference(my_set_2)           # Различия между двумя множествами\n",
    "my_set.difference_update(my_set_2)    # Вернет 1 множество, убрав элементы, найденные во втором множестве\n",
    "my_set.intersection(my_set_2)         # Пересечения первого и второго множества\n",
    "my_set.isdisjoint(my_set_2)           # Выдаст True если нет пересечений\n",
    "my_set.union(my_set_2)                # Выдаст уникальные значения из двух множеств\n",
    "my_set_2.issubset(my_set)             # Является ли один набор (множество) подмножеством другого, то есть все ли элементы одного множества содержатся в другом"
   ]
  },
  {
   "cell_type": "markdown",
   "id": "d82363bc",
   "metadata": {},
   "source": [
    "`Dictionaries`. То есть словари. Работают как пара ключ - значение.   "
   ]
  },
  {
   "cell_type": "code",
   "execution_count": null,
   "id": "6c8a2397",
   "metadata": {},
   "outputs": [],
   "source": [
    "d = {'a': 1, 'b': 2}\n",
    "\n",
    "d.keys()                # Все ключи\n",
    "d.values()              # Все значения\n",
    "d.items()               # Пары (ключ - значение)\n",
    "d.clear()               # Удалит всё\n",
    "\n",
    "for k in d.keys():\n",
    "    print(k)            # Вывод будет a, b\n",
    "\n",
    "d['b'] = 3\n",
    "d                       # Заменит 2 на 3 в b\n",
    "\n",
    "# Не так часто используется, но полезно знать\n",
    "{x:x**2 for x in range(10)}"
   ]
  },
  {
   "cell_type": "markdown",
   "id": "c5760ca0",
   "metadata": {},
   "source": [
    "___\n",
    "2) `4` вида значений:    \n",
    "Булевые значения (`Booleans`) это `>`, `<`, `<=` , `==` , `!=` , `>=`   \n",
    "Числовые `int`,    \n",
    "С плавающим значением `float`,   \n",
    "Текстовой `str`.   "
   ]
  },
  {
   "cell_type": "code",
   "execution_count": null,
   "id": "e18597dd",
   "metadata": {},
   "outputs": [],
   "source": [
    "# Основные методы с integer:   \n",
    "abs(2)\t               # Возвращает абсолютное значение   \n",
    "pow(2, 3)\t           # Возводит в степень 2**3   \n",
    "\n",
    "# Основные методы с string:\n",
    "str()                  # Преобразует любой объект в строку    \n",
    "\n",
    "s = 'I like you'\n",
    "s1 = 'Me'\n",
    "s2 = ['i', 'k', 'b'] \n",
    "\n",
    "s.lower()\t           # Преобразует в нижний регистр   \n",
    "s.upper()\t           # Преобразует в верхний регистр   \n",
    "s.capitalize()         # Делает первую букву заглавной   \n",
    "s.title()\t           # Каждое слово с заглавной   \n",
    "s.strip()\t           # Удаляет пробелы по краям   \n",
    "s.replace(s, s1)       # Заменяет одну подстроку на другую   \n",
    "s.split()\t           # Делит строку на список подстрок (будет ['I', 'like', 'you'])   \n",
    "','.join(s2)\t       # Склеивает строки из списка в одну. Результат будет 'i,k,b'\n",
    "s2.zfill(8)            # 8 это итоговая длинна строчки. zfill добавляет нули к строке в начало. Вывод будет '000000Me'\n",
    "s.count('o')           # Сколько раз встречается буква 'o' в тексте.\n",
    "\n",
    "# Основные методы с float:\n",
    "float(1)\t           # Преобразует 1 в число с плавающей точкой   \n",
    "round(2.222, 1)  \t   # Округляет 2.222 до 1 знаков после точки   \n",
    "abs(-1)\t               # Абсолютное значение (будет 1)   "
   ]
  },
  {
   "cell_type": "markdown",
   "id": "cb871320",
   "metadata": {},
   "source": [
    "___\n",
    "3) `If`, `Elif`, `Else`:"
   ]
  },
  {
   "cell_type": "code",
   "execution_count": null,
   "id": "695f6588",
   "metadata": {},
   "outputs": [],
   "source": [
    "person = 'David'\n",
    "\n",
    "if person == 'Denis':\n",
    "    print('Welcome Denis!')\n",
    "elif person =='David':\n",
    "    print('Welcome David!')\n",
    "else:\n",
    "    print(\"Welcome, what's your name?\")"
   ]
  },
  {
   "cell_type": "markdown",
   "id": "63b60822",
   "metadata": {},
   "source": [
    "___\n",
    "3) `For loops` and `while loops` это операторы цикла.   \n",
    "For loop может использоваться и с кортежом.   "
   ]
  },
  {
   "cell_type": "code",
   "execution_count": null,
   "id": "8c03efbb",
   "metadata": {},
   "outputs": [],
   "source": [
    "list1 = [1,2,3,4,5,6,7,8,9,10]\n",
    "\n",
    "for num in list1:\n",
    "    if num % 2 == 0:\n",
    "        print(num)\n",
    "    else:\n",
    "        print('Odd number')\n",
    "\n",
    "# Второй пример выведет нам (2,4) (6,8) (10,12)\n",
    "list2 = [(2,4),(6,8),(10,12)]\n",
    "for tup in list2:\n",
    "    print(tup)\n",
    "\n",
    "#Или можно еще больше развить, и вывод будет 2 6 10\n",
    "for (t1,t2) in list2:\n",
    "    print(t1)"
   ]
  },
  {
   "cell_type": "markdown",
   "id": "3be2695d",
   "metadata": {},
   "source": [
    "Пример со `словарями` (`dictionary`), (ключ - значение)"
   ]
  },
  {
   "cell_type": "code",
   "execution_count": null,
   "id": "feb562de",
   "metadata": {},
   "outputs": [],
   "source": [
    "d = {'k1':1,'k2':2,'k3':3}\n",
    "\n",
    "for item in d:\n",
    "    print(item)\n",
    "\n",
    "d.items()                # Метод, которые показывает все значения в словаре\n",
    "d.values()               # Метод, показывающий значения\n",
    "d.keys()                 # Метод, показывающий ключи\n",
    "sorted(d.values())       # Так отсортированный словарь, но сам словарь не меняется"
   ]
  },
  {
   "cell_type": "markdown",
   "id": "0840aa1c",
   "metadata": {},
   "source": [
    "___\n",
    "4) `While loop` включает в себя: \n",
    "\n",
    "`Continue` продолжает цикл   \n",
    "`Pass` когда нам нужно чтобы он ничего не делал (важно в случае чтобы не выходила ошибка)   \n",
    "`Break` когда нужно закончить цикл   "
   ]
  },
  {
   "cell_type": "code",
   "execution_count": null,
   "id": "d913425a",
   "metadata": {},
   "outputs": [],
   "source": [
    "i = 0\n",
    "\n",
    "while i < 10:\n",
    "    i += 1\n",
    "    if i == 3:\n",
    "        print(\"Пропускаем 3\")\n",
    "        continue  # Пропускаем всё ниже, переходим к следующей итерации\n",
    "    if i == 5:\n",
    "        print(\"Просто pass при 5\")\n",
    "        pass  # Ничего не делает, просто заглушка\n",
    "    if i == 7:\n",
    "        print(\"Останавливаем цикл на 7\")\n",
    "        break  # Полностью прерывает цикл\n",
    "    print(f\"Текущее значение: {i}\")"
   ]
  },
  {
   "cell_type": "markdown",
   "id": "6299afbb",
   "metadata": {},
   "source": [
    "___\n",
    "5) Полезные и основные операторы:   "
   ]
  },
  {
   "cell_type": "code",
   "execution_count": null,
   "id": "8f33f20a",
   "metadata": {},
   "outputs": [],
   "source": [
    "list(range(0,11))   # Выдаст список от 0 до 10 (11 не включается)\n",
    "\n",
    "list(range(0,11,2)) # То же самое, но с шагом 2\n",
    "\n",
    "# enumerate присваевает индекс ( в нашем случае а = 0, b = 1 и т.д.)\n",
    "for i,letter in enumerate('abcde'):\n",
    "    print(f\"At index {i} the letter is {letter}\")\n",
    "\n",
    "# zip объединяет два списка\n",
    "mylist1 = [1,2,3,4,5]\n",
    "mylist2 = ['a','b','c','d','e']\n",
    "\n",
    "list(zip(mylist1,mylist2))\n",
    "\n",
    "for item1, item2 in zip(mylist1,mylist2):\n",
    "    print(f'First item is {item1} and second is {item2}')"
   ]
  },
  {
   "cell_type": "code",
   "execution_count": null,
   "id": "39d9b0a1",
   "metadata": {},
   "outputs": [],
   "source": [
    "'x' in ['x','y','z']                # Вывод True\n",
    "'x' not in [1,2,3]                  # Вывод True\n",
    "\n",
    "mylist = [10,20,30,40,100]\n",
    "min(mylist)                         # Вывод 10\n",
    "max(mylist)                         # Вывод 100\n",
    "\n",
    "input('Введите число: ')\n",
    "int(input('Введите число: '))       # Если нужно чтобы ввод был именно с цифрой"
   ]
  },
  {
   "cell_type": "markdown",
   "id": "8f5080b2",
   "metadata": {},
   "source": [
    "`! Очень полезно знать про следующие моменты:`"
   ]
  },
  {
   "cell_type": "code",
   "execution_count": null,
   "id": "7e41a994",
   "metadata": {},
   "outputs": [],
   "source": [
    "# Если мы забыли что делает встроенная функция или надо освежить в памяти:\n",
    "print(help(abs))   # Например если забыли что делает abs\n",
    "\n",
    "# Также работает с испортируемыми модулями. Сначала импортируем и потом печатаем. \n",
    "from random import randint\n",
    "print(randint.__doc__)     # Это даст нам более короткое описание, чем с помощью help\n",
    "\n",
    "import calendar\n",
    "print(dir(calendar))       # Это покажет нам все функции какие есть из импортируемого модуля"
   ]
  },
  {
   "cell_type": "markdown",
   "id": "30e67b19",
   "metadata": {},
   "source": [
    "___\n",
    "6) Есть еще импортируемые модули и их много, вот примеры:"
   ]
  },
  {
   "cell_type": "code",
   "execution_count": null,
   "id": "fa0cfb84",
   "metadata": {},
   "outputs": [],
   "source": [
    "from random import shuffle # shuffle(mylist) перемешивает список\n",
    "from random import randint # randint(0,100) выдает рандомное число от 0 до 100\n",
    "\n",
    "import os\t               # Работа с операционной системой, путями, файлами\n",
    "os.path.isfile()           # В скобках нужно будет указать путь, и нам вернет булево это файл или нет\n",
    "os.path.isdir()            # В скобках нужно будет указать путь, и нам вернет булево это директория или нет\n",
    "os.path.getsize()          # В скобках путь к файлу, и он выдаст размер в байтах. \n",
    "\n",
    "\n",
    "\n",
    "import sys\t               # Работа с системными параметрами и аргументами командной строки\n",
    "import math\t               # Математические функции (sqrt, sin, log, pi и т.д.)\n",
    "math.gcd(2, 4)             # Наибольший общий делитель\n",
    "math.sqrt(2)               # Квадратный корень из 2\n",
    "\n",
    "import random\t           # Генерация случайных чисел и выбор случайных элементов\n",
    "\n",
    "import datetime\t           # Работа с датами и временем\n",
    "datetime.datetime.now()                                # Текущее время\n",
    "datetime.datetime.strptime()                           # Преобразует строку в дату\n",
    "datetime.datetime.strftime()                           # Преобразует дату в строку  \"%Y-%m-%d %H:%M:%S\"\n",
    "print(datetime.now().strftime(\"%Y-%m-%d %H:%M:%S\"))    # Выдаст 2025-06-05 19:13:28\n",
    "datetime.datetime.today()                              # Выдаст (2025, 6, 6, 14, 47, 31, 617766)\n",
    "datetime.datetime.today().year                         # Выдаст 2025\n",
    "\n",
    "from datetime import date\n",
    "date(2025, 1, 23)\n",
    "date.days                  # Работа с днями из даты     \n",
    "\n",
    "import calendar\n",
    "calendar.month(2025, 11)   # Вернет календарь на 11 ноября 2025 года    \n",
    "\n",
    "import time\t               # Таймеры, замедление выполнения и метки времени\n",
    "import json\t               # Работа с JSON: загрузка, сохранение, парсинг\n",
    "import re\t               # Регулярные выражения\n",
    "\n",
    "\n",
    "import collections         # Дополнительные структуры данных (Counter, defaultdict, deque и т.д.)\n",
    "from collections import defaultdict\n",
    "d = defaultdict(list)      # defaultdict — это расширение обычного словаря, которое автоматически создаёт значение по умолчанию, если ключа ещё нет.\n",
    "\n",
    "pairs = [(\"a\", 1), (\"b\", 2), (\"a\", 3)]\n",
    "for key, value in pairs:\n",
    "    d[key].append(value)\n",
    "\n",
    "print(d)                   # {'a': [1, 3], 'b': [2]}    \n",
    "\n",
    "\n",
    "import itertools           # Функции для итераций, комбинаторика (Итерация это грубо говоря перебор всех элементов)\n",
    "data = [1, 2, 3]\n",
    "word = \"abc\"                                    # Работает и со строками\n",
    "result = list(itertools.permutations(data))     # Все возможные перестановки выдаст списком\n",
    "result = list(itertools.permutations(data, 2))  # То же самое, но комбинации из двух цифр списком\n",
    "\n",
    "from itertools import product                   # product возвращает декартово произведение. То есть все возможные комбинации из разных списков. (Может работать с множествами, кортежами, библиотеками)\n",
    "\n",
    "for combo in product(['a', 'b'], ['1', '2']):\n",
    "    print(combo)\n",
    "\n",
    "from itertools import combinations              # combinations(iterable, r) генерирует все возможные комбинации длины r из элементов (списка например) iterable\n",
    "\n",
    "\n",
    "import functools           # Функции высшего порядка (например, lru_cache, partial)\n",
    "from functools import reduce\n",
    "numbers = [1, 2, 3, 4]\n",
    "result = reduce(lambda x, y: x + y, numbers)    # reduce последовательно применяет функцию к элементам последовательности (списка например. Тут вывод будет 10\n",
    "\n",
    "def add(x, y):                                  # recude выполняет операции, такие как сумм., умножение или поиск максимума, поочередно обрабатывая элементы списка и сохраняя промежут. результаты.\n",
    "    return x + y\n",
    "\n",
    "numbers = [1, 2, 3, 4]\n",
    "result = reduce(add, numbers)                   # Тот же пример без lambda.  \n",
    "\n",
    "lst = [47,11,42,13]\n",
    "max_find = lambda a,b: a if (a > b) else b      # Тут поиск максимума\n",
    "reduce(max_find,lst)    \n",
    "\n",
    "\n",
    "import typing\t           # Аннотации типов\n",
    "import pathlib\t           # Современная работа с путями (альтернатива os.path)\n",
    "import logging\t           # Ведение логов\n",
    "\n",
    "import string              # Работа с текстом\n",
    "string.ascii_uppercase     # Все буквы алфавита заглавные\n",
    "string.ascii_lowercase     # Все буквы алфавита строчные\n",
    "string.ascii_letters       # Вообще все буквы\n",
    "string.digits              # Цифры\n",
    "string.punctuation         # Символы\n",
    " \n",
    "import pprint\t           # Красивая печать вложенных структур\n",
    "\n",
    "import unittest            # Встроенный модуль для юнит-тестов\n",
    "import pytest\t           # Популярная библиотека для тестирования\n",
    "import mock\t               # Моки, заглушки для тестов\n",
    "import coverage\t           # Проверка покрытия тестами\n",
    "\n",
    "from collections import deque\n",
    "\n",
    "d = deque([1, 2, 3])\n",
    "d.append(4)       # [1, 2, 3, 4]\n",
    "d.appendleft(0)   # [0, 1, 2, 3, 4]\n",
    "d.pop()           # 4 → [0, 1, 2, 3]\n",
    "d.popleft()       # 0 → [1, 2, 3]\n",
    "d.rotate(1)       # [3, 1, 2]\n",
    "d.rotate(-1)      # [1, 2, 3]"
   ]
  },
  {
   "cell_type": "markdown",
   "id": "c7eeb055",
   "metadata": {},
   "source": [
    "___\n",
    "7) `List comprehensions` (или генераторы списков) — это способ создания списков в Python с использованием компактного синтаксиса, который заменяет более длинные циклы for"
   ]
  },
  {
   "cell_type": "code",
   "execution_count": null,
   "id": "aa287def",
   "metadata": {},
   "outputs": [],
   "source": [
    "lst = [x**2 for x in range(0,11)]                   # Возведение в степень всех чисел от 0 до 10\n",
    "lst = [x for x in range(11) if x % 2 == 0]          # Вывести все числа которые делятся на 2 без отстатка. \n",
    "lst = [ x**2 for x in [x**2 for x in range(11)]]    # Можно еще сложнее, 4 степень, но мудренее."
   ]
  },
  {
   "cell_type": "markdown",
   "id": "ea406300",
   "metadata": {},
   "source": [
    "___\n",
    "8) `Функция` в программировании — это набор команд, объединённый под одним именем, который можно вызывать многократно, чтобы выполнять определённую задачу."
   ]
  },
  {
   "cell_type": "code",
   "execution_count": null,
   "id": "3bc250df",
   "metadata": {},
   "outputs": [],
   "source": [
    "def check_even_list(num_list):\n",
    "    even_numbers = []\n",
    "    for number in num_list:\n",
    "        if number % 2 == 0:\n",
    "            even_numbers.append(number)\n",
    "        else:\n",
    "            pass\n",
    "    return even_numbers"
   ]
  },
  {
   "cell_type": "markdown",
   "id": "27422205",
   "metadata": {},
   "source": [
    "___\n",
    "9) `Lambda`, `Map` и `Filter`   \n",
    "`Map` применяет функцию ко всем элементам списка.   \n",
    "`Filter` делает примерно то же самое, но оставляет только те элементы, которые подходят по условию функции.   \n",
    "`Lambda` это одно из самых полезных и часто абсурдных для новичков функций. Это анонимная функция, она нужна когда быстро надо создать функцию без `def`.   "
   ]
  },
  {
   "cell_type": "code",
   "execution_count": null,
   "id": "60e3ca9d",
   "metadata": {},
   "outputs": [],
   "source": [
    "def square(num):\n",
    "    return num**2\n",
    "\n",
    "my_nums = [1,2,3,4,5]\n",
    "\n",
    "list(map(square,my_nums)) # Вывод будет [1, 4, 9, 16, 25]. То есть он применил функцию возведения в степень к числам my_nums."
   ]
  },
  {
   "cell_type": "code",
   "execution_count": null,
   "id": "5e3f6a8d",
   "metadata": {},
   "outputs": [],
   "source": [
    "a = [1,2,3,4]\n",
    "b = [5,6,7,8]\n",
    "c = [9,10,11,12]\n",
    "\n",
    "list(map(lambda x,y,z:x+y+z,a,b,c))  # Вывод будет [15, 18, 21, 24]."
   ]
  },
  {
   "cell_type": "code",
   "execution_count": null,
   "id": "ba3221af",
   "metadata": {},
   "outputs": [],
   "source": [
    "def check_even(num):\n",
    "    return num % 2 == 0 \n",
    "\n",
    "nums = [0,1,2,3,4,5,6,7,8,9,10]\n",
    "\n",
    "list(filter(check_even,nums)) # Вывод будет [0, 2, 4, 6, 8, 10], так как он отфильтровал только те, которые делятся на 2. Если бы мы использовали map, нам бы выдало True или False."
   ]
  },
  {
   "cell_type": "code",
   "execution_count": null,
   "id": "56d0af2b",
   "metadata": {},
   "outputs": [],
   "source": [
    "# Без def, а с помощью lambda всё это выглядит приятнее и короче. Вот те же примеры:\n",
    "list(map(lambda num: num ** 2, my_nums))  # Вывод будет [1, 4, 9, 16, 25]\n",
    "\n",
    "# filter отбирает элементы по условию. Без него было бы просто True или False\n",
    "list(filter(lambda n: n % 2 == 0,nums))   # Вывод будет [0, 2, 4, 6, 8, 10]\n",
    "\n",
    "# Lambda говорит, что если ей дать два значения, она их сложит:\n",
    "add = lambda x, y: x + y\n",
    "print(add(4, 3))  # Вывод будет 7"
   ]
  },
  {
   "cell_type": "code",
   "execution_count": null,
   "id": "83ea4bd1",
   "metadata": {},
   "outputs": [],
   "source": [
    "months = ['March','April','May','June']\n",
    "\n",
    "list(enumerate(months,start=3))            # Наглядно enumerate [(3, 'March'), (4, 'April'), (5, 'May'), (6, 'June')]. Start это мы присвоили чтобы начинал не с 0, а с 3."
   ]
  },
  {
   "cell_type": "code",
   "execution_count": null,
   "id": "87c3430f",
   "metadata": {},
   "outputs": [],
   "source": [
    "lst = [True,True,False,True]\n",
    "\n",
    "all(lst) # Вывод будет False, так как не все элементы в списке \"True\"\n",
    "any(lst) # Вывод будет True, так как кое-какие элементы в списке \"True\"\n",
    "\n",
    "isinstance(1, int) # Вывод будет True, так как 1 это integer"
   ]
  },
  {
   "cell_type": "code",
   "execution_count": null,
   "id": "cf4d82d4",
   "metadata": {},
   "outputs": [],
   "source": [
    "# Комплексные числа не особо нужны, но полезно помнить о них (x**2 + 1 = 0)\n",
    "complex(10,1) # Вывод будет (10+1j)\n",
    "complex('12+2j') # Вывод будет (12+2j)"
   ]
  },
  {
   "cell_type": "markdown",
   "id": "586c59b8",
   "metadata": {},
   "source": [
    "___\n",
    "10) Глобальные и локальные переменные."
   ]
  },
  {
   "cell_type": "code",
   "execution_count": null,
   "id": "b76ca85a",
   "metadata": {},
   "outputs": [
    {
     "name": "stdout",
     "output_type": "stream",
     "text": [
      "x у нас 50\n",
      "Поменяли х на:  2\n",
      "x всё ещё 50\n"
     ]
    }
   ],
   "source": [
    "x = 50             # Это глобальная переменная \n",
    "\n",
    "def func(x):\n",
    "    print('x у нас', x)\n",
    "    x = 2         # Это локальная переменная\n",
    "    print('Поменяли х на: ', x)\n",
    "\n",
    "func(x)\n",
    "print('x всё ещё', x)\n",
    "\n",
    "# Очередность выполнения можете наблюдать по выводу снизу."
   ]
  },
  {
   "cell_type": "markdown",
   "id": "8be7ee41",
   "metadata": {},
   "source": [
    "___\n",
    "11) `*args` и `**kwargs`. Просто надо запомнить, что если мы их используем вместе, args должен идти впереди kwargs.   \n",
    "Плюс важно знать что args и kwargs могуть быть и числами и строками.   \n",
    "`*args` — всё, что передаётся без имени (позиционно)    \n",
    "`**kwargs` — всё, что передаётся по ключу (имя=значение)   "
   ]
  },
  {
   "cell_type": "code",
   "execution_count": null,
   "id": "f105a6e8",
   "metadata": {},
   "outputs": [],
   "source": [
    "def myfunc(a,b):                # Представим что у нас не а и b только, а 100 значений. Для этого нужен *args (нужен когда мы работаем с большим количеством цифр)\n",
    "    return sum((a,b))*2\n",
    "\n",
    "myfunc(40,60)\n",
    "\n",
    "# Так выглядит с args:\n",
    "def myfunc(*args):\n",
    "    return sum(args)*2\n",
    "\n",
    "myfunc(1,2,3,4,5,6,7,8,9,10)   # Можем передавать сколько угодно значений."
   ]
  },
  {
   "cell_type": "code",
   "execution_count": null,
   "id": "277875cb",
   "metadata": {},
   "outputs": [],
   "source": [
    "# **kwargs в свою очередь передает в функцию любое количество аргументов как словарь.\n",
    "\n",
    "def boxer(**kwargs):\n",
    "    if \"name\" in kwargs:\n",
    "        print(\"Hi!,\", kwargs[\"name\"])\n",
    "    if \"hobby\" in kwargs:\n",
    "        print(\"Your hobby:\", kwargs[\"hobby\"])\n",
    "\n",
    "boxer(name=\"David\", hobby=\"Boxing\")\n",
    "\n",
    "# Вывод:\n",
    "# Hi!, David  \n",
    "# Your hobby: Boxing"
   ]
  },
  {
   "cell_type": "code",
   "execution_count": null,
   "id": "d01ca54b",
   "metadata": {},
   "outputs": [],
   "source": [
    "# Пример работы args и kwargs вместе.   \n",
    "def order_summary(*args, **kwargs):\n",
    "    total = 0\n",
    "    for item in args:\n",
    "        total += kwargs.get(item, 0)\n",
    "    return total\n",
    "\n",
    "print(order_summary(\"кола\", \"молоко\", кола = 50, молоко = 100))  # Вывод 150\n",
    "\n",
    "print(order_summary(\"хлеб\", \"сыр\", хлеб = 50))                   # Вывод 50, так как сыра нет "
   ]
  },
  {
   "cell_type": "markdown",
   "id": "2211253c",
   "metadata": {},
   "source": [
    "___\n",
    "12) OOП (Объектно-ориентированное программирование)"
   ]
  },
  {
   "cell_type": "code",
   "execution_count": null,
   "id": "cf1febe9",
   "metadata": {},
   "outputs": [],
   "source": [
    "# В Python всё объекты.\n",
    "print(type(1))    # Вывод будет <class 'int'>\n",
    "print(type([]))   # Вывод будет <class 'list'>\n",
    "\n",
    "\n",
    "# Для создания собственного объекта нам нужны Классы (Class)\n",
    "class Sample:\n",
    "    pass\n",
    "\n",
    "x = Sample()\n",
    "\n",
    "print(type(x)) # Вывод будет <class '__main__.Sample'>"
   ]
  },
  {
   "cell_type": "code",
   "execution_count": null,
   "id": "6c992e18",
   "metadata": {},
   "outputs": [],
   "source": [
    "class Circle:                                                       # Создали класс\n",
    "    pi = 3.14                                                       # Это атрибут класса. То есть он общий для всех объектов.\n",
    "\n",
    "    def __init__(self, radius=1):                                   # __init__ это базовый метод\n",
    "        self.radius = radius                                        # Создали аргумент\n",
    "        self.area = radius * radius * Circle.pi\n",
    "\n",
    "    def setRadius(self, new_radius):                                # Другой метод\n",
    "        self.radius = new_radius\n",
    "        self.area = new_radius * new_radius * self.pi\n",
    "\n",
    "    def getCircumference(self):                                     # Ещё один метод\n",
    "        return self.radius * self.pi * 2\n",
    "\n",
    "c = Circle()\n",
    "\n",
    "print('Radius is: ',c.radius)\n",
    "print('Area is: ',c.area)\n",
    "print('Circumference is: ',c.getCircumference())"
   ]
  },
  {
   "cell_type": "markdown",
   "id": "b50d6217",
   "metadata": {},
   "source": [
    "`Наследование`. Смысл заключается в том, чтобы создавать новые классы из уже существующих классов.   "
   ]
  },
  {
   "cell_type": "code",
   "execution_count": null,
   "id": "39f49e89",
   "metadata": {},
   "outputs": [],
   "source": [
    "class Animal:\n",
    "    def __init__(self):\n",
    "        print(\"Animal created\")\n",
    "\n",
    "    def whoAmI(self):\n",
    "        print(\"Animal\")\n",
    "\n",
    "    def eat(self):\n",
    "        print(\"Eating\")\n",
    "\n",
    "\n",
    "class Dog(Animal):                # Animal базовый класс, а Dog наследованный.  \n",
    "    def __init__(self):\n",
    "        Animal.__init__(self)\n",
    "        print(\"Dog created\")\n",
    "\n",
    "    def whoAmI(self):\n",
    "        print(\"Dog\")\n",
    "\n",
    "    def bark(self):\n",
    "        print(\"Woof!\")"
   ]
  },
  {
   "cell_type": "markdown",
   "id": "1358620f",
   "metadata": {},
   "source": [
    "`Полиморфизм`. Это когда один и тот же метод ведёт себя по-разному в разных классах."
   ]
  },
  {
   "cell_type": "code",
   "execution_count": null,
   "id": "2d16f016",
   "metadata": {},
   "outputs": [],
   "source": [
    "class Dog:\n",
    "    def __init__(self, name):\n",
    "        self.name = name\n",
    "\n",
    "    def speak(self):\n",
    "        return 'Гав'\n",
    "    \n",
    "class Cat:\n",
    "    def __init__(self, name):\n",
    "        self.name = name\n",
    "\n",
    "    def speak(self):\n",
    "        return 'Мяу' \n",
    "    \n",
    "niko = Dog('Niko')\n",
    "felix = Cat('Felix')\n",
    "\n",
    "print(niko.speak())\n",
    "print(felix.speak())\n",
    "\n",
    "# Либо так\n",
    "for pet in [niko,felix]:\n",
    "    print(pet.speak())\n",
    "\n",
    "# Вывод будет:\n",
    "# Мяу\n",
    "# Гав"
   ]
  },
  {
   "cell_type": "markdown",
   "id": "0cc55fc6",
   "metadata": {},
   "source": [
    "`Абстрактные классы`.  Правильнее создавать так, и логичнее. Это более профессиональный подход.   "
   ]
  },
  {
   "cell_type": "code",
   "execution_count": null,
   "id": "885a4f8d",
   "metadata": {},
   "outputs": [],
   "source": [
    "class Animal:\n",
    "    def __init__(self, name):    # Создаем класс \"животное\"\n",
    "        self.name = name\n",
    "\n",
    "    def speak(self):              # Абстрактный метод\n",
    "        raise NotImplementedError(\"Subclass must implement abstract method\")\n",
    "\n",
    "\n",
    "class Dog(Animal):\n",
    "    \n",
    "    def speak(self):\n",
    "        return self.name+' says Woof!'\n",
    "    \n",
    "class Cat(Animal):\n",
    "\n",
    "    def speak(self):\n",
    "        return self.name+' says Meow!'\n",
    "    \n",
    "fido = Dog('Fido')\n",
    "isis = Cat('Isis')\n",
    "\n",
    "print(fido.speak())\n",
    "print(isis.speak())"
   ]
  },
  {
   "cell_type": "markdown",
   "id": "a797fd14",
   "metadata": {},
   "source": [
    "Специальные методы."
   ]
  },
  {
   "cell_type": "code",
   "execution_count": null,
   "id": "42cd8120",
   "metadata": {},
   "outputs": [],
   "source": [
    "class Book:\n",
    "    def __init__(self, title, author, pages):\n",
    "        print(\"A book is created\")\n",
    "        self.title = title\n",
    "        self.author = author\n",
    "        self.pages = pages\n",
    "\n",
    "    def __str__(self):\n",
    "        return \"Title: %s, author: %s, pages: %s\" %(self.title, self.author, self.pages)\n",
    "\n",
    "    def __len__(self):\n",
    "        return self.pages\n",
    "\n",
    "    def __del__(self):\n",
    "        print(\"A book is destroyed\")\n",
    "\n",
    "book = Book(\"Самоучитель языков\", \"Давид\", 200)\n",
    "\n",
    "print(book)"
   ]
  },
  {
   "cell_type": "markdown",
   "id": "13e7bd79",
   "metadata": {},
   "source": [
    "___\n",
    "13) `Try`, `except` и `finally` это основа обработки ошибок в Python. Они позволяют перехватывать ошибки и выполнять код в любом случае, даже если произошла ошибка.   \n",
    "Основные виды ошибок:   \n",
    "`SyntaxError` — синтаксическая ошибка   \n",
    "`NameError` — переменная не найдена    \n",
    "`TypeError` — неправильный тип данных   \n",
    "`ValueError` — правильный тип, но неправильное значение      \n",
    "`ZeroDivisionError` — деление на ноль   \n",
    "`IndexError` — индекс вне диапазона   \n",
    "`KeyError` — нет такого ключа в словаре   \n",
    "`FileNotFoundError` или `IOError`. - Нет такого файла."
   ]
  },
  {
   "cell_type": "code",
   "execution_count": null,
   "id": "57d867ae",
   "metadata": {},
   "outputs": [],
   "source": [
    "def askint():\n",
    "    while True:\n",
    "        try:\n",
    "            val = int(input(\"Please enter an integer: \"))\n",
    "        except:\n",
    "            print(\"Looks like you did not enter an integer!\")\n",
    "            continue\n",
    "        else:\n",
    "            print(\"Yep that's an integer!\")\n",
    "            print(val)\n",
    "            break\n",
    "        finally:\n",
    "            print(\"Finally, I executed!\")\n",
    "\n",
    "askint()"
   ]
  },
  {
   "cell_type": "code",
   "execution_count": null,
   "id": "b1531d7a",
   "metadata": {},
   "outputs": [],
   "source": [
    "try:\n",
    "    f = open('testfile','r')\n",
    "    f.write('Test write this')\n",
    "except IOError:\n",
    "    print(\"Error: Could not find file or read data\")\n",
    "else:\n",
    "    print(\"Content written successfully\")\n",
    "    f.close()"
   ]
  },
  {
   "cell_type": "markdown",
   "id": "c313d009",
   "metadata": {},
   "source": [
    "___\n",
    "14) `Декараторы` это функция, которая дополняет или меняет другую, уже готовую функции. Они помогают сделать твой код короче и понятнее.   \n",
    "Декоратор это словно обертка. И сначала, логически мы пишем именно декоратор, а потом только функцию.    "
   ]
  },
  {
   "cell_type": "code",
   "execution_count": null,
   "id": "f6d335b7",
   "metadata": {},
   "outputs": [],
   "source": [
    "def my_decorator(func):                                   \n",
    "    def wrapper(a, b):\n",
    "        return a * b\n",
    "    return wrapper\n",
    "\n",
    "@my_decorator  # Когда мы пишем @my_decorator, это значит то, что ниже, будет заменено тем что выше под декоратором.\n",
    "def wrapper(a, b):\n",
    "    return a + b\n",
    "\n",
    "print(\"Результат:\", wrapper(2, 3))\n",
    "\n",
    "\n",
    "#Тот же пример, но более логичный\n",
    "def multiply_decorator(func):                                   \n",
    "    def wrapper(a, b):\n",
    "        return a * b  # Внутри декоратора меняем поведение на умножение\n",
    "    return wrapper  # Возвращаем изменённую функцию\n",
    "\n",
    "@multiply_decorator\n",
    "def add(a, b):\n",
    "    return a + b  # Изначальная функция складывает числа\n",
    "\n",
    "print(\"Результат:\", add(2, 3))  # Ожидаемый вывод: 6 (умножение вместо сложения)"
   ]
  },
  {
   "cell_type": "markdown",
   "id": "9369e308",
   "metadata": {},
   "source": [
    "___\n",
    "15) Генераторы и Итераторы.   \n",
    "Итератор - объект, по которому можно перебирать (for, next()), и у него есть методы __iter__() и __next__().   \n",
    "`Генератор` - упрощённый способ создать итератор с помощью yield. Генератор это умный список, который дает по одному элементу именно когда тебе нужно и не расходует память просто так.   \n",
    "Как пример можно привести две ситуации. Коробка из спичек. Список это все спички ты положил на стол сразу, а генератор, это когда ты достаешь по одной спичке когда нужно.   "
   ]
  },
  {
   "cell_type": "code",
   "execution_count": null,
   "id": "b1bbdabd",
   "metadata": {},
   "outputs": [],
   "source": [
    "lst = [1, 2, 3]\n",
    "it = iter(lst)       # итератор\n",
    "print(next(it))      # 1\n",
    "print(next(it))      # 2\n",
    "\n",
    "\n",
    "def gen():\n",
    "    yield 1\n",
    "    yield 2\n",
    "\n",
    "g = gen()\n",
    "print(next(g))       # 1\n",
    "print(next(g))       # 2"
   ]
  },
  {
   "cell_type": "code",
   "execution_count": null,
   "id": "5b4cde93",
   "metadata": {},
   "outputs": [],
   "source": [
    "def genfibon(n):\n",
    "    a = 1\n",
    "    b = 1\n",
    "    for i in range(n):\n",
    "        yield a\n",
    "        a,b = b,a+b\n",
    "\n",
    "for num in genfibon(10):\n",
    "    print(num)            # Генератор не вычисляет ничего заранее, отдает по одному значению когда его просят.  \n",
    "\n",
    "# В то время как обычная функция выглядит так:\n",
    "def fibon(n):\n",
    "    a = 1\n",
    "    b = 1\n",
    "    output = []\n",
    "    \n",
    "    for i in range(n):\n",
    "        output.append(a)\n",
    "        a,b = b,a+b\n",
    "        \n",
    "    return output\n",
    "\n",
    "fibon(10)                  # Обычная функция сразу вычесляет все n числен Фибоначчи, сохраняет их в список и возвращает нам. И занимает память для хранения. "
   ]
  },
  {
   "cell_type": "markdown",
   "id": "280873d8",
   "metadata": {},
   "source": [
    "___\n",
    "16) Более продвинутые методы.   "
   ]
  },
  {
   "cell_type": "markdown",
   "id": "880b100e",
   "metadata": {},
   "source": [
    "`Counter` - Как словарь, который считает количество каждого жлемента."
   ]
  },
  {
   "cell_type": "code",
   "execution_count": null,
   "id": "ae4a8ed9",
   "metadata": {},
   "outputs": [],
   "source": [
    "from collections import Counter\n",
    "\n",
    "lst = [1,2,2,2,2,3,3,3,1,2,1,12,3,2,32,1,21,1,223,1]\n",
    "\n",
    "Counter(lst)\n",
    "\n",
    "# Вывод:  Counter({1: 6, 2: 6, 3: 4, 12: 1, 21: 1, 32: 1, 223: 1})\n",
    "\n",
    "# Работает и с текстом тоже и по словам.\n",
    "s = 'How many times does each word show up in this sentence word times each each word'\n",
    "\n",
    "words = s.split()\n",
    "\n",
    "Counter(words)\n",
    "\n",
    "c = Counter(words)\n",
    "\n",
    "c.most_common(2)\n",
    "\n",
    "sum(c.values())                 # Итоговое значение всех подсчетов\n",
    "c.clear()                       # Очистить подсчет \n",
    "list(c)                         # Список из уникальных элементов\n",
    "set(c)                          # Конвертировать во множество\n",
    "dict(c)                         # В словарь\n",
    "c.items()                       # Конвертировать в список (элемент, подсчет) парами\n",
    "c.most_common()[:-n-1:-1]       # n количство меньше всего встречающихся значений\n",
    "c += Counter()                  # Удалить отрицательные и нулевые"
   ]
  },
  {
   "cell_type": "markdown",
   "id": "adfdf1ac",
   "metadata": {},
   "source": [
    "`Defaultdict` это как словарь, но расширенный. Он не выдает ошибку, а подставляет значение.   "
   ]
  },
  {
   "cell_type": "code",
   "execution_count": null,
   "id": "a8956d34",
   "metadata": {},
   "outputs": [],
   "source": [
    "d = {}       # Обычный словарь \n",
    "d['a'] += 1  # KeyError — ключа 'a' ещё нет\n",
    "\n",
    "\n",
    "from collections import defaultdict\n",
    "\n",
    "d = defaultdict(int)\n",
    "d['a'] += 1  # Всё работает — 'a' создаётся со значением 0\n",
    "\n",
    "\n",
    "counter = defaultdict(int)\n",
    "\n",
    "for char in \"hello world\":\n",
    "    counter[char] += 1\n",
    "\n",
    "print(counter)  # Вывод будет {'h': 1, 'e': 1, 'l': 3, ...}\n"
   ]
  },
  {
   "cell_type": "markdown",
   "id": "02a2cc91",
   "metadata": {},
   "source": [
    "`namedtuple`. Если обычный кортеж использует индексы чтобы получить нужный элемент. А `namedtuple` — это как обычный кортеж (tuple), но у него есть имена для полей, как у объектов.   \n",
    "То есть можно обращаться не по индексу, а по именам, как к атрибутам."
   ]
  },
  {
   "cell_type": "code",
   "execution_count": null,
   "id": "ed3c7f43",
   "metadata": {},
   "outputs": [],
   "source": [
    "from collections import namedtuple\n",
    "\n",
    "Dog = namedtuple('Dog',['age','breed','name'])\n",
    "\n",
    "sam = Dog(age=2,breed='Lab',name='Sammy')\n",
    "\n",
    "frank = Dog(age=2,breed='Shepard',name=\"Frankie\")\n",
    "\n",
    "sam.age # Вывод будет 2"
   ]
  },
  {
   "cell_type": "markdown",
   "id": "d0b34416",
   "metadata": {},
   "source": [
    "___\n",
    "17) Чтение и работа с файлами.   "
   ]
  },
  {
   "cell_type": "code",
   "execution_count": null,
   "id": "18d4f2b2",
   "metadata": {},
   "outputs": [],
   "source": [
    "# Выбираем в терминале cd например наш Desktop.\n",
    "f = open('practice.txt','w+')           # Создали файл (w+ значит для записи и чтения)\n",
    "f.write('test')                         # Прописали в этом файле строчку test\n",
    "f.close()                               # Закрыли файл"
   ]
  },
  {
   "cell_type": "code",
   "execution_count": null,
   "id": "12f6d98f",
   "metadata": {},
   "outputs": [],
   "source": [
    "import os\n",
    "\n",
    "print(os.listdir(r'C:\\\\')) # Перечисляем что у нас в директории C\n",
    "print(os.listdir(r'C:\\\\Users'))\n",
    "\n",
    "import shutil\n",
    "\n",
    "shutil.move('practice.txt', r'C:\\Users\\mirse\\Desktop\\Files')   #Переносим наш файл с рабочего стола (обязательно надо быть в этой директории при работе) в папку Files.   \n",
    "\n",
    "\n",
    "import send2trash                     # Надо установить через pip \n",
    "\n",
    "send2trash.send2trash('practice.txt') # Удаляем файл"
   ]
  },
  {
   "cell_type": "markdown",
   "id": "5b19d67b",
   "metadata": {},
   "source": [
    "___\n",
    "18) `datetime` модуль.   "
   ]
  },
  {
   "cell_type": "code",
   "execution_count": null,
   "id": "8c21a4ef",
   "metadata": {},
   "outputs": [],
   "source": [
    "from datetime import datetime, timedelta\n",
    "\n",
    "t = datetime.time(4, 20, 1)\n",
    "\n",
    "print(t)                                   # 04:20:01\n",
    "print('hour  :', t.hour)                   # hour  : 4\n",
    "print('minute:', t.minute)                 # minute: 20\n",
    "print('second:', t.second)                 # second: 1\n",
    "print('microsecond:', t.microsecond)       # microsecond: 0\n",
    "print('tzinfo:', t.tzinfo)                 # tzinfo: None\n",
    "\n",
    "\n",
    "today = datetime.date.today()\n",
    "print(today)                               # 2025-06-10\n",
    "print('ctime:', today.ctime())             # ctime: Wed Jun 10 00:00:00 2025\n",
    "print('tuple:', today.timetuple())         # tuple: time.struct_time(tm_year=2020, tm_mon=6, tm_mday=10, tm_hour=0, tm_min=0, tm_sec=0, tm_wday=2, tm_yday=162, tm_isdst=-1)\n",
    "print('ordinal:', today.toordinal())       # ordinal: 737586 сколько прошло с 1 января 1 года\n",
    "print('Year :', today.year)                # Year : 2025\n",
    "print('Month:', today.month)               # Month: 6\n",
    "print('Day  :', today.day)                 # Day  : 10\n",
    "\n",
    "d1 = datetime.date(2015, 3, 11)\n",
    "print('d1:', d1)                           # d1: 2015-03-11\n",
    "\n",
    "d2 = d1.replace(year=1990)                 # replace тоже может быть использован\n",
    "print('d2:', d2)\n",
    "\n",
    "FORMAT = \"%d.%m.%Y\"                          # День.Месяц.Год (например, 16.05.2015)\n",
    "datetime.now()                               # Текущее время\n",
    "datetime.strptime(\"2025-05-02\", \"%Y-%m-%d\")  # Парсим строку в формат нужный\n",
    "datetime.strftime(\"%d.%m.%Y\")                # Дату в строку\n",
    "datetime.now().date()                        # Получаем только дату\n",
    "datetime.now().time()                        # Получаем только время\n",
    "future = datetime.now() + timedelta(days=7)  # Через 7 дней будет\n",
    "\n",
    "dt = datetime(2025, 5, 2, 14, 30)\n",
    "\n",
    "print(dt.year)                               # 2025\n",
    "print(dt.month)                              # 5\n",
    "print(dt.day)                                # 2\n",
    "print(dt.hour)                               # 14\n",
    "print(dt.minute)                             # 30"
   ]
  },
  {
   "cell_type": "markdown",
   "id": "494a3fef",
   "metadata": {},
   "source": [
    "___\n",
    "19) `Math` и `Random` модули.   "
   ]
  },
  {
   "cell_type": "code",
   "execution_count": null,
   "id": "51a30ecd",
   "metadata": {},
   "outputs": [],
   "source": [
    "import math\n",
    "\n",
    "value = 4.35\n",
    "math.floor(value)                          # Вывод будет 4 (Округление вниз)\n",
    "math.ceil(value)                           # Вывод будет 5 (Округление вверх)\n",
    "\n",
    "from math import pi\n",
    "\n",
    "import random\n",
    "random.randint(0,100)                      # Вывод может быть любым (рандомное число)\n",
    "\n",
    "\n",
    "mylist = list(range(0,20))\n",
    "random.choices(population=mylist,k=10)     # Как в игре лото. Числа - от 0 до 20. k = 10 значит что возьмет 10 цифр (и они могут повторятся).\n",
    "random.sample(population=mylist,k=10)      # Без повторения.\n",
    "\n",
    "random.shuffle(mylist)                     # Перемешать мой список.\n",
    "random.uniform(a=0,b=100)                  # Случайное число с плавающей точкой между 0 и 100."
   ]
  },
  {
   "cell_type": "markdown",
   "id": "d9345068",
   "metadata": {},
   "source": [
    "___\n",
    "20) `Python Debugger (pdb)`. Это отладчик. Обычно используется при длинном и сложном коде чтобы быстро найти ошибки построчно. Так как после команды set_trace() мы ищем ошибки построчно. "
   ]
  },
  {
   "cell_type": "code",
   "execution_count": null,
   "id": "2805deb1",
   "metadata": {},
   "outputs": [],
   "source": [
    "import pdb\n",
    "\n",
    "def test(x):\n",
    "    pdb.set_trace()   # Отсюда начинается\n",
    "    y = x + 2\n",
    "    z = y * 3\n",
    "    return z\n",
    "\n",
    "print(test(5))\n",
    "\n",
    "# -> y = x + 2     После запуска нам даст первую строчку\n",
    "# (Pdb) p x        p х значит что мы запрашиваем значение х и терминал нам выдает 5\n",
    "# 5\n",
    "# (Pdb) p y    \n",
    "# *** NameError: name 'y' is not defined      на p y терминал выдал ошибку, так как у не определен, как и z\n",
    "# (Pdb) p z\n",
    "# *** NameError: name 'z' is not defined      \n",
    "# (Pdb) c                                     c продолжает выполнение программы  \n",
    "# 21"
   ]
  },
  {
   "cell_type": "markdown",
   "id": "02117f4c",
   "metadata": {},
   "source": [
    "___\n",
    "21) `Regular Expressions` (regex) или регулярные выражения это серьезный инструмент для работы с текстом. Можно найти все что угодно по нужным нам параметрам. "
   ]
  },
  {
   "cell_type": "code",
   "execution_count": null,
   "id": "608d5a91",
   "metadata": {},
   "outputs": [],
   "source": [
    "text = \"my phone is a new phone\"   # Допустим у нас есть такой текст\n",
    "import re                          # Импортируем regex\n",
    "match = re.search(\"phone\",text)    # Нам нужно найти совпадение\n",
    "match.span()                       # span показывает индекс найденного, вывод будет (3, 8). Он показывает нам только первое найденное.\n",
    "matches = re.findall(\"phone\",text) # findall показывает все совпадения. \n",
    "\n",
    "for match in re.finditer(\"phone\",text):\n",
    "    print(match.span())\n",
    "\n",
    "# Вывод будет:\n",
    "# (3, 8)\n",
    "# (18, 23)"
   ]
  },
  {
   "cell_type": "markdown",
   "id": "72d65d83",
   "metadata": {},
   "source": [
    "Основные символы и конструкции:   \n",
    "\n",
    "`.`\t    Любой символ (кроме новой строки)   \n",
    "`\\d`\tЦифра (0–9)   \n",
    "`\\w`\tБуква, цифра или подчёркивание   \n",
    "`\\s`\tПробельный символ   \n",
    "`+`\t    Один или более   \n",
    "`*`\t    Ноль или более   \n",
    "`?`\t    Ноль или один   \n",
    "`[]`\tОдин из символов внутри скобок   \n",
    "`[^]`\tВсё, кроме символов внутри   \n",
    "`^`\t    Начало строки (Начинается с)   \n",
    "`$`\t    Конец строки (Заканчивается на)   \n",
    "`()`\tГруппа   \n",
    "`{n}`\tРовно n повторений   \n",
    "`{n,m}`\tОт n до m повторений   "
   ]
  },
  {
   "cell_type": "code",
   "execution_count": null,
   "id": "e5bccfc4",
   "metadata": {},
   "outputs": [],
   "source": [
    "text = \"My telephone number is 408-555-1234\"\n",
    "phone_pattern = re.compile(r'(\\d{3})-(\\d{3})-(\\d{4})')\n",
    "results = re.search(phone_pattern,text)\n",
    "results.group()                                            # Вывод будет 408-555-1234\n",
    "results.group(1)                                           # Вывод будет 408"
   ]
  },
  {
   "cell_type": "code",
   "execution_count": null,
   "id": "6950f377",
   "metadata": {},
   "outputs": [],
   "source": [
    "re.findall(r\"man|woman\",\"This man was here.\")              # | это подчеркивание значит первое либо второе\n",
    "re.findall(r\".at\",\"The cat in the hat sat here.\")          # Точка значит что ОДИН символ будет на его месте будет. ['cat', 'hat', 'sat'].\n",
    "re.findall(r'\\S+at',\"The bat went splat\")                  # Вывод будет ['bat', 'splat'] \n",
    "re.findall(r'\\d$','This ends with a number 2')             # Знак доллара показывает конец строки. Вывод будет ['2']\n",
    "re.findall(r'^\\d','1 is the loneliest number.')            # ^ Показывает начало строки. Вывод будет ['1']\n",
    "\n",
    "phrase = \"there are 3 numbers 34 inside 5 this sentence.\"\n",
    "re.findall(r'[^\\d]+',phrase)                               # Вывод ['there are ', ' numbers ', ' inside ', ' this sentence.']. Выведет только слова.\n",
    "\n",
    "test_phrase = 'This is a string! But it has punctuation. How can we remove it?'\n",
    "re.findall('[^!.? ]+',test_phrase)                         # Это удалит всю пунктуацию\n",
    "\n",
    "text = 'Only find the hypen-words in this sentence. But you do not know how long-ish they are'\n",
    "re.findall(r'[\\w]+-[\\w]+',text)                            # Найдет нам слова, соответствующие определенному параметру. Вывод будет ['hypen-words', 'long-ish']\n",
    "\n",
    "re.fullmatch(r'01{0,1}0*1*')                               # fullmatch это строка, которая строго соответствует заданному регулярному выражени."
   ]
  },
  {
   "cell_type": "markdown",
   "id": "c8bbbad9",
   "metadata": {},
   "source": [
    "___\n",
    "22) Время, которая тратится на запуск кода. Иногда очень полезно узнать за какое время запускается код, или строчка кода, чтобы понимать где можно что-то усовершенствовать.   "
   ]
  },
  {
   "cell_type": "code",
   "execution_count": null,
   "id": "05bd120e",
   "metadata": {},
   "outputs": [],
   "source": [
    "# У нас есть два кода, которые делают одно и то же, но по-разному\n",
    "def func_one(n):\n",
    "    return [str(num) for num in range(n)]\n",
    "\n",
    "def func_two(n):\n",
    "    return list(map(str,range(n)))\n",
    "\n",
    "import time                                        # Импортируем нужный модуль\n",
    "\n",
    "start_time = time.time()\n",
    "result = func_one(1000000)                         # Первая функция\n",
    "end_time = time.time() - start_time\n",
    "\n",
    "end_time                                           # Покажет время, за сколько выполняется первая функция"
   ]
  },
  {
   "cell_type": "code",
   "execution_count": null,
   "id": "af4fb47f",
   "metadata": {},
   "outputs": [],
   "source": [
    "# Но более профессионально и точнее использовать timeit.   \n",
    "import timeit\n",
    "\n",
    "code1 = \"sum(range(1000000))\"\n",
    "code2 = \"\"\"\n",
    "total = 0\n",
    "for i in range(1000000):\n",
    "    total += i\n",
    "\"\"\"\n",
    "\n",
    "t1 = timeit.timeit(stmt=code1, number=10)   # 10 значит сколько раз выполнить код. То есть он даст нам время за 10 запусков.\n",
    "t2 = timeit.timeit(stmt=code2, number=10)\n",
    "\n",
    "print(f\"sum(range()): {t1:.5f} сек\")\n",
    "print(f\"Цикл for:     {t2:.5f} сек\")\n",
    "\n",
    "# sum(range()): 0.23758 сек\n",
    "# Цикл for:     0.70055 сек"
   ]
  },
  {
   "cell_type": "markdown",
   "id": "cacc9082",
   "metadata": {},
   "source": [
    "___\n",
    "23) Zip файлы. Первый вариант через `zipfile` второй через `shutil`."
   ]
  },
  {
   "cell_type": "code",
   "execution_count": null,
   "id": "a9de6468",
   "metadata": {},
   "outputs": [],
   "source": [
    "import zipfile\n",
    "\n",
    "with zipfile.ZipFile(\"archive.zip\", \"w\") as zipf:  # w это режим записи\n",
    "    zipf.write(\"file1.txt\")                        # Добавили 1 файл\n",
    "    zipf.write(\"file2.txt\")                        # Добавили 2 файл\n",
    "\n",
    "\n",
    "# А так выглядит распаковка\n",
    "with zipfile.ZipFile(\"archive.zip\", \"r\") as zipf:\n",
    "    zipf.extractall(\"destination_folder\")          # Распаковать всё\n",
    "\n",
    "# Просмотр содержимого архива\n",
    "with zipfile.ZipFile(\"archive.zip\", \"r\") as zipf:\n",
    "    print(zipf.namelist())                         # Вывод будет ['file1.txt', 'file2.txt']"
   ]
  },
  {
   "cell_type": "code",
   "execution_count": null,
   "id": "729b4eea",
   "metadata": {},
   "outputs": [],
   "source": [
    "import shutil\n",
    "\n",
    "directory_to_zip='C:\\\\Users\\\\Mirse\\\\Desktop'\n",
    "\n",
    "output_filename = 'example'\n",
    "shutil.make_archive(output_filename,'zip',directory_to_zip)"
   ]
  },
  {
   "cell_type": "markdown",
   "id": "621a1ba2",
   "metadata": {},
   "source": [
    "___\n",
    "24) `WEB парсинг`. Мы будем использовать основные модули для парсинга: `requests` и `bs4`. Установить можно через pip install."
   ]
  },
  {
   "cell_type": "code",
   "execution_count": null,
   "id": "aee41a6e",
   "metadata": {},
   "outputs": [],
   "source": [
    "import requests\n",
    "import bs4\n",
    "\n",
    "res = requests.get(\"http://quotes.toscrape.com/\")  # Это сайт с высказываниями авторов\n",
    "soup = bs4.BeautifulSoup(res.text,'lxml')\n",
    "soup.select(\".author\")                             # Выбираем только авторов\n",
    "\n",
    "authors = set()                                    # Так как авторы могут повторяться, ставим set  \n",
    "for name in soup.select(\".author\"):\n",
    "    authors.add(name.text)\n",
    "\n",
    "quotes = []\n",
    "for quote in soup.select(\".text\"):\n",
    "    quotes.append(quote.text)                      # А теперь выводим высказывания списком\n",
    "\n",
    "for item in soup.select(\".tag-item\"):\n",
    "    print(item.text)                               # Печатаем, например, тэги"
   ]
  },
  {
   "cell_type": "code",
   "execution_count": null,
   "id": "ff9d8428",
   "metadata": {},
   "outputs": [],
   "source": [
    "# Например, если нам надо перечислить всех авторов со всех страниц сайта, но мы не знаем сколько страниц:\n",
    "url = 'http://quotes.toscrape.com/page/'\n",
    "\n",
    "page_url = url+str(9999999)    # Выбрали какую-то большую страницу, которой знаем что не существует.\n",
    "\n",
    "res = requests.get(page_url)   # Получаем страницу\n",
    "\n",
    "soup = bs4.BeautifulSoup(res.text,'lxml') # Переделываем в вид Soup. В выводе видим что на странице где нет высказываний есть строчка - No quotes found! Нам остается дописать наш код, используя While loop."
   ]
  },
  {
   "cell_type": "code",
   "execution_count": null,
   "id": "32640da9",
   "metadata": {},
   "outputs": [],
   "source": [
    "page_still_valid = True\n",
    "authors = set()\n",
    "page = 1\n",
    "\n",
    "while page_still_valid:\n",
    "\n",
    "    page_url = url+str(page)\n",
    "    \n",
    "    res = requests.get(page_url)\n",
    "    \n",
    "    if \"No quotes found!\" in res.text:\n",
    "        break\n",
    "    \n",
    "    soup = bs4.BeautifulSoup(res.text,'lxml')\n",
    "    \n",
    "    for name in soup.select(\".author\"):\n",
    "        authors.add(name.text)\n",
    "        \n",
    "    page += 1\n",
    "\n",
    "authors"
   ]
  },
  {
   "cell_type": "markdown",
   "id": "e6918719",
   "metadata": {},
   "source": [
    "___\n",
    "25) Работа с картинками. Через pip install установить pillow.   "
   ]
  },
  {
   "cell_type": "code",
   "execution_count": null,
   "id": "8a998ee3",
   "metadata": {},
   "outputs": [],
   "source": [
    "from PIL import Image\n",
    "\n",
    "mac = Image.open('example.jpg')\n",
    "\n",
    "mac.show()                                # Покажет нам картинку.\n",
    "mac.filename\n",
    "mac.format_description\n",
    "\n",
    "mac.size                                  # Получим высоту и длину 1993 1257\n",
    "half = 1993/2                             # Определим половину картинки сверху\n",
    "mac.crop((800,800,1200,1257))             # Crop обрезает по координатам. (x1(С какой точки обрезаем длину), y1(с какой точки обрезаем высоту), x2(Длина), y2(Высота))\n",
    "computer = mac.crop((800,800,1200,1257))  # Вырезаем нужный нам фрагмент, чтобы далее вставить куда хотим\n",
    "mac.paste(im=computer,box=(0,0))          # Вставляем по координатам 0,0 (Слева с краю сверху)\n",
    "\n",
    "h,w = mac.size\n",
    "new_h = int(h/3)\n",
    "new_w = int(w/3)\n",
    "mac.resize((new_h,new_w))                 # Меняем размер на тот который хотим\n",
    "mac.resize((3000,500))                    # Или так (Растягиваем, вытягиваем)\n",
    "\n",
    "mac.rotate(90)                            # Вращаем\n",
    "\n",
    "mac.putalpha(128)                         # 0 значит картинка полностью прозрачная (белая), 255 значит что картинка как была так и остается\n",
    "\n",
    "mac.save('mac2.jpg')                      # Сохраняем изменения новым файлом"
   ]
  },
  {
   "cell_type": "markdown",
   "id": "179b33d4",
   "metadata": {},
   "source": [
    "___\n",
    "26) Работа с `CSV` и `PDF` файлами."
   ]
  },
  {
   "cell_type": "code",
   "execution_count": null,
   "id": "dd2f8672",
   "metadata": {},
   "outputs": [],
   "source": [
    "import csv\n",
    "\n",
    "data = open('example.csv',encoding=\"utf-8\")  # Важно ставить utf-8, так как часто файл не читается.\n",
    "csv_data = csv.reader(data)\n",
    "data_lines = list(csv_data)\n",
    "data_lines[:3]\n",
    "\n",
    "for line in data_lines[:5]:                  # Вывод будет построчный\n",
    "    print(line)\n",
    "\n",
    "len(data_lines)                              # Сколько всего строк\n",
    "\n",
    "all_emails = []\n",
    "for line in data_lines[1:15]:\n",
    "    all_emails.append(line[3])               # Вывести с первой по 15 строчку почты (3 символ)\n",
    "\n",
    "\n",
    "full_names = []\n",
    "\n",
    "for line in data_lines[1:15]:\n",
    "    full_names.append(line[1]+' '+line[2])   # Вывести полное имя (First name + Last name)"
   ]
  },
  {
   "cell_type": "code",
   "execution_count": null,
   "id": "8e545c4e",
   "metadata": {},
   "outputs": [],
   "source": [
    "# newline контролирует то, как новые строки будут работать. Может быть None, '', '\\n', '\\r', and '\\r\\n'. \n",
    "# Также стоит помнить что если файл с таким именем уже существовал, то он будет переписан, поэтому надо быть осторожнее.   \n",
    "file_to_output = open('new_file.csv','w',newline='')\n",
    "csv_writer = csv.writer(file_to_output,delimiter=',')\n",
    "csv_writer.writerow(['a','b','c'])\n",
    "file_to_output.close()\n",
    "\n",
    "# С уже существующим файлом все проще\n",
    "f = open('new_file''.csv','a',newline='')\n",
    "csv_writer = csv.writer(f)\n",
    "csv_writer.writerow(['new','new','new'])\n",
    "f.close()"
   ]
  },
  {
   "cell_type": "markdown",
   "id": "201fd52a",
   "metadata": {},
   "source": [
    "Для работы с pdf файлами достаточно много библиотек. Самая популярная это `PyPDF2`, которую мы установим через pip install.   "
   ]
  },
  {
   "cell_type": "code",
   "execution_count": null,
   "id": "1d5dcf79",
   "metadata": {},
   "outputs": [],
   "source": [
    "import PyPDF2\n",
    "\n",
    "f = open('Proposal.pdf','rb')                      # Важно понимать, что rb используем. Это read binary, то есть мы работаем не с текстовым файлом. (Используется в основном для фото, zip, pdf файлов)\n",
    "pdf_reader = PyPDF2.PdfReader(f)\n",
    "len(pdf_reader.pages)                              # Вывод будет сколько страниц содержит этот pdf файл\n",
    "\n",
    "page_number = 0\n",
    "page_one = pdf_reader.pages[0]                     \n",
    "page_one_text = page_one.extract_text()            # Выводим текст с первой страницы например\n",
    "\n",
    "\n",
    "f = open('Proposal.pdf','rb')                      # Или просто выведем весь текст из pdf файла\n",
    "\n",
    "pdf_text = []\n",
    "\n",
    "pdf_reader = PyPDF2.PdfReader(f)\n",
    "\n",
    "for p in range(len(pdf_reader.pages)):\n",
    "    \n",
    "    page = pdf_reader.pages[0]\n",
    "    \n",
    "    pdf_text.append(page.extract_text())\n"
   ]
  },
  {
   "cell_type": "markdown",
   "id": "b0f7d4a9",
   "metadata": {},
   "source": [
    "___\n",
    "27) **Отправка** и получение email.   "
   ]
  },
  {
   "cell_type": "code",
   "execution_count": null,
   "id": "7dbd39bc",
   "metadata": {},
   "outputs": [],
   "source": [
    "import smtplib            # Этот модуль позволяет создавать и отправлять email через Python.\n",
    "\n",
    "smtp_object = smtplib.SMTP('smtp.gmail.com',587)     # Если на компе не работает порт 587, можно использовать 465. (Иногда антивирус может ругаться)\n",
    "smtp_object.ehlo()                                   # Этой командой мы по факту запускаем сервер\n",
    "smtp_object.starttls()                               # Используя порт 587, мы используем TLS протокол, и должны ввести эту команду, а при использовании 465 SSL - устар. Тогда просто пропускаем шаг\n",
    "\n",
    "import getpass                                       # Нужно чтобы спрятать пароль\n",
    "result = getpass.getpass(\"Введите пароль: \")\n",
    "\n",
    "\n",
    "email = getpass.getpass(\"Enter your email: \")\n",
    "password = getpass.getpass(\"Enter your password: \")  # Для gmail пользователей, нужно будет создать новый пароль для приложений. https://support.google.com/accounts/answer/185833?hl=en/ вот инструкция.\n",
    "smtp_object.login(email,password)"
   ]
  },
  {
   "cell_type": "code",
   "execution_count": null,
   "id": "2ce9b3c0",
   "metadata": {},
   "outputs": [],
   "source": [
    "# Теперь можно отправлять письма.\n",
    "from_address = getpass.getpass(\"Enter your email: \")\n",
    "to_address = getpass.getpass(\"Enter the email of the recipient: \")\n",
    "subject = input(\"Enter the subject line: \")\n",
    "message = input(\"Type out the message you want to send: \")\n",
    "msg = \"Subject: \" + subject + '\\n' + message\n",
    "smtp_object.sendmail(from_address,to_address,msg)"
   ]
  },
  {
   "cell_type": "markdown",
   "id": "6eee5fc9",
   "metadata": {},
   "source": [
    "Рассмотрим то, как мы получаем, читаем и ищем полученные письма.   "
   ]
  },
  {
   "cell_type": "code",
   "execution_count": null,
   "id": "1b766661",
   "metadata": {},
   "outputs": [],
   "source": [
    "import imaplib\n",
    "import getpass\n",
    "\n",
    "M = imaplib.IMAP4_SSL('imap.gmail.com')\n",
    "user = input(\"Enter your email: \")\n",
    "password = getpass.getpass(\"Enter your password: \")   # Как и было ранее, вам понадобиться пароль для приложения, если вы пользуетесь gmail\n",
    "M.login(user,password)                                # Залогинились\n",
    "M.list()                                              # Все папки\n",
    "M.select(\"inbox\")                                     # Подключились к входящим\n",
    "\n",
    "typ ,data = M.search(None,'SUBJECT \"Test email\"')     # Если мы отправим себе такое письмо, в котором тема письма \"Test email\", то дальше можно найти\n",
    "result, email_data = M.fetch(data[0],\"(RFC822)\")      # Мы запрашиваем первое письмо, а RFC822 команда импорта imap, которая возвращает всё письмо (заголовок + тело)\n",
    "raw_email = email_data[0][1]                          # Байтовое представление письма\n",
    "raw_email_string = raw_email.decode('utf-8')          # Переводим байты в строку\n",
    "\n",
    "import email\n",
    "email_message = email.message_from_string(raw_email_string)   \n",
    "for part in email_message.walk():\n",
    "    if part.get_content_type() == \"text/plain\":       # Ищем простое текстовое содержание\n",
    "        body = part.get_payload(decode=True)          # Получаем и декодируем сам текст\n",
    "        print(body)                                   # Вывод текст из письма"
   ]
  }
 ],
 "metadata": {
  "kernelspec": {
   "display_name": "Python 3",
   "language": "python",
   "name": "python3"
  },
  "language_info": {
   "codemirror_mode": {
    "name": "ipython",
    "version": 3
   },
   "file_extension": ".py",
   "mimetype": "text/x-python",
   "name": "python",
   "nbconvert_exporter": "python",
   "pygments_lexer": "ipython3",
   "version": "3.13.1"
  }
 },
 "nbformat": 4,
 "nbformat_minor": 5
}
