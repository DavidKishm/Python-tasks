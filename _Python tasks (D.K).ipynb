{
 "cells": [
  {
   "cell_type": "markdown",
   "metadata": {},
   "source": [
    "___\n",
    "1) Прога, которая считает сумму чисел четырехзначного числа. (Если инпутом например ввели 8234 и это число, то ответ должен получится 17).    \n",
    "ENG: Write a  Python program to calculate sum of digits of a number."
   ]
  },
  {
   "cell_type": "code",
   "execution_count": null,
   "metadata": {},
   "outputs": [],
   "source": [
    "def summa():\n",
    "    num = input(\"Введите четырёхзначное число: \")\n",
    "    if len(num) == 4 and num.isdigit():\n",
    "        return sum(int(d) for d in num)\n",
    "    else:\n",
    "        return \"Ошибка: нужно ввести четырёхзначное число.\""
   ]
  },
  {
   "cell_type": "markdown",
   "metadata": {},
   "source": [
    "___\n",
    "2) Написать прогу которая принимает `int` значение `n` и считает значение n + nn + nnn (Это не умножение, а соединение). Если n = 5, то 5 + 55 + 555 = 615   \n",
    "ENG: Write a Python program that accepts an integer (n) and computes the value of n+nn+nnn."
   ]
  },
  {
   "cell_type": "code",
   "execution_count": null,
   "metadata": {},
   "outputs": [],
   "source": [
    "def concat(n: int) -> int:\n",
    "    n1 = int(str(n))\n",
    "    n2 = int(str(n) * 2)\n",
    "    n3 = int(str(n) * 3)\n",
    "    return n1+n2+n3\n",
    "\n",
    "concat(5)"
   ]
  },
  {
   "cell_type": "markdown",
   "metadata": {},
   "source": [
    "___\n",
    "3) Прога, которая будет считать и напечатает нам дни между двумя датами.  \n",
    "ENG: Write a  Python program to calculate the number of days between two dates."
   ]
  },
  {
   "cell_type": "code",
   "execution_count": null,
   "metadata": {},
   "outputs": [],
   "source": [
    "from datetime import date\n",
    "\n",
    "f_d = date(2025, 1, 12)\n",
    "l_d = date(2025, 1, 24)\n",
    "\n",
    "diff = l_d - f_d\n",
    "\n",
    "print(diff.days)"
   ]
  },
  {
   "cell_type": "markdown",
   "metadata": {},
   "source": [
    "___\n",
    "4) Прога, которая будет считать сколько цифр `4` в списке.   \n",
    "ENG: Write a  Python program to count the number 4 in a given list."
   ]
  },
  {
   "cell_type": "code",
   "execution_count": null,
   "metadata": {},
   "outputs": [],
   "source": [
    "def chetverka(nums):\n",
    "    count = 0\n",
    "    for num in nums:\n",
    "        if num == 4:\n",
    "            count += 1\n",
    "    return count\n",
    "\n",
    "chetverka([1, 2, 3, 4, 5, 4, 6, 2, 3])\n",
    "\n",
    "# Или\n",
    "def chetverka(nums):\n",
    "    return nums.count(4)"
   ]
  },
  {
   "cell_type": "markdown",
   "metadata": {},
   "source": [
    "___\n",
    "5) Прога, которая получает строку и n (неотрицательное целое число) копий первых двух символов заданной строки. Если длина строки меньше 2, вернуть n копий всей строки.   \n",
    "ENG: Write a  Python program to get n (non-negative integer) copies of the first 2 characters of a given string. Return n copies of the whole string if the length is less than 2."
   ]
  },
  {
   "cell_type": "code",
   "execution_count": null,
   "metadata": {},
   "outputs": [],
   "source": [
    "def dlinniy(text, n):\n",
    "    if not isinstance(n, int) or n < 0:\n",
    "        return \"n должно быть неотрицательным целым числом\"\n",
    "    if len(text) < 2:\n",
    "        return text * n\n",
    "    return text[:2] * n"
   ]
  },
  {
   "cell_type": "markdown",
   "metadata": {},
   "source": [
    "___\n",
    "6) Программа, которая проверяет в тексте все ли гласные присутствуют или нет?      \n",
    "ENG: Write a Python program to test whether a passed letter with all vowel or not."
   ]
  },
  {
   "cell_type": "code",
   "execution_count": null,
   "metadata": {},
   "outputs": [],
   "source": [
    "def vowels(text):\n",
    "    vowels = set('aeiou')\n",
    "    text_letters = set(text.lower())\n",
    "    if vowels.issubset(text_letters):\n",
    "        return True\n",
    "    return False"
   ]
  },
  {
   "cell_type": "markdown",
   "metadata": {},
   "source": [
    "___\n",
    "7) Прога, которая покажет сколько раз встречается то или иное число из списка.   \n",
    "ENG: Write a  Python program to create a histogram from a given list of integers."
   ]
  },
  {
   "cell_type": "code",
   "execution_count": null,
   "metadata": {},
   "outputs": [],
   "source": [
    "def povtor(nums):\n",
    "    counts = {}\n",
    "    for num in nums:\n",
    "        if num in counts:\n",
    "            counts[num] += 1                                      # counts[num] это ключ значения num\n",
    "        else:\n",
    "            counts[num] = 1\n",
    "    return counts\n",
    "\n",
    "nums = [1,2,3,3]\n",
    "\n",
    "povtor(nums)\n",
    "\n",
    "# Или так\n",
    "from collections import Counter\n",
    "\n",
    "def povtor(nums):\n",
    "    return Counter(nums)"
   ]
  },
  {
   "cell_type": "markdown",
   "metadata": {},
   "source": [
    "___\n",
    "8) Прога, которая объединяет все элементы в списке чисел и возвращает нам текстовым.   \n",
    "ENG: Write a  Python program that concatenates all elements in a list into a string and returns it."
   ]
  },
  {
   "cell_type": "code",
   "execution_count": null,
   "metadata": {},
   "outputs": [],
   "source": [
    "def textik(nums):\n",
    "    result = ''\n",
    "    for num in nums:\n",
    "        result += str(num)\n",
    "    return result\n",
    "\n",
    "# Или так\n",
    "def textik(nums):\n",
    "    return ''.join(map(str, nums))\n",
    "\n",
    "print(textik([1,2,3,5]))"
   ]
  },
  {
   "cell_type": "markdown",
   "metadata": {},
   "source": [
    "___\n",
    "9) Прога, которая вернет все четные числа из списка в том же порядке и перестанет печатать остальные цифры, после того, как встретит `25`.   \n",
    "ENG: Write a Python program to print all even numbers from a given list of numbers in the same order and stop printing any after 25 in the sequence.   "
   ]
  },
  {
   "cell_type": "code",
   "execution_count": null,
   "metadata": {},
   "outputs": [],
   "source": [
    "def odna_chetvertaya(nums):\n",
    "    result = []\n",
    "    for num in nums:\n",
    "        if num == 25:\n",
    "            result.append(num)\n",
    "            break                   # После break вообще все останавливается.\n",
    "        if num % 2 == 0:\n",
    "            result.append(num)\n",
    "    return result\n",
    "\n",
    "nums = [6, 46, 47, 18, 90, 34, 23, 75, 23, 27, 25, 11, 28, 15, 95, 34]\n",
    "print(odna_chetvertaya(nums))"
   ]
  },
  {
   "cell_type": "markdown",
   "metadata": {},
   "source": [
    "___\n",
    "10) Прога, которая будет считать наибольший общий делитель двух положительных чисел (наибольшее число, на которое можем поделить).   \n",
    "ENG: Write a  Python program that computes the greatest common divisor (GCD) of two positive integers."
   ]
  },
  {
   "cell_type": "code",
   "execution_count": null,
   "metadata": {},
   "outputs": [],
   "source": [
    "def delim(a,b):\n",
    "    for c in range(min(a, b), 0, -1):     # Перебираем с самого большого делителя, до нуля и с шагом -1.\n",
    "        if a % c == 0 and b % c == 0:\n",
    "            return c\n",
    "\n",
    "# Алгоритм Евклида самый лучший. Его смысл в том, что у нас есть два числа. Сравниваем их, и наибольшее из них заменяем на разность большего и меньшего.\n",
    "def gcd(a, b):\n",
    "    while b != 0:\n",
    "        a, b = b, a % b  # параллельное присваивание для смены значений. Python сначала выполняет правую часть, потом левую\n",
    "    return a\n",
    "\n",
    "#Либо через math, но это скучно\n",
    "import math\n",
    "\n",
    "def delitel(a, b):\n",
    "    return math.gcd(a, b)"
   ]
  },
  {
   "cell_type": "markdown",
   "metadata": {},
   "source": [
    "____\n",
    "11) Найти все делители двух положительных чисел   "
   ]
  },
  {
   "cell_type": "code",
   "execution_count": null,
   "metadata": {},
   "outputs": [],
   "source": [
    "def common_divisors(x, y):\n",
    "    divisors = []\n",
    "    limit = min(x, y)\n",
    "    for i in range(1, limit + 1):\n",
    "        if x % i == 0 and y % i == 0:\n",
    "            divisors.append(i)\n",
    "    return divisors"
   ]
  },
  {
   "cell_type": "markdown",
   "metadata": {},
   "source": [
    "____\n",
    "12) Найти наибольший общий делитель из произвольного количества чисел.   "
   ]
  },
  {
   "cell_type": "code",
   "execution_count": null,
   "metadata": {},
   "outputs": [],
   "source": [
    "def gcd(nums):\n",
    "    limit = min(nums)\n",
    "    for num in range(limit, 0, -1):\n",
    "        if all(n % num == 0 for n in nums):\n",
    "            return num\n",
    "    return 1\n",
    "\n",
    "# Так быстрее\n",
    "from math import gcd\n",
    "from functools import reduce\n",
    "\n",
    "def gcd_all(nums):\n",
    "    return reduce(gcd, nums)"
   ]
  },
  {
   "cell_type": "markdown",
   "metadata": {},
   "source": [
    "___\n",
    "13) Прога, которая печатает наименьшее общее кратное. (для 6 и 8 это будет 24)   \n",
    "ENG: Write a Python program to find the least common multiple (LCM) of two positive integers."
   ]
  },
  {
   "cell_type": "code",
   "execution_count": null,
   "metadata": {},
   "outputs": [],
   "source": [
    "def lcm(a, b):\n",
    "    c = max(a, b)\n",
    "    while True:                          # while это бесконечный цикл. Он будет идти вечно пока не встретит return или break.\n",
    "        if c % a == 0 and c % b == 0:\n",
    "            return c\n",
    "        c += max(a, b)\n",
    "\n",
    "# Или так быстрее и проще\n",
    "from math import gcd\n",
    "\n",
    "def lcm(a, b):\n",
    "    return a * b // gcd(a, b)\n",
    "\n",
    "# Так лучше и быстрее\n",
    "from math import lcm\n",
    "from functools import reduce\n",
    "\n",
    "def lcm_all(nums):\n",
    "    return reduce(lcm, nums)"
   ]
  },
  {
   "cell_type": "markdown",
   "metadata": {},
   "source": [
    "___\n",
    "14) Прога, которая возвращает сумму двух значений только если оба значения integer.   \n",
    "ENG: Write a  Python program to add two objects if both objects are integers."
   ]
  },
  {
   "cell_type": "code",
   "execution_count": null,
   "metadata": {},
   "outputs": [],
   "source": [
    "def summa(a, b):\n",
    "    if isinstance(a, int) and isinstance(b, int):\n",
    "        return a + b\n",
    "    return 'It has to be integer'\n",
    "\n",
    "summa(1,2)"
   ]
  },
  {
   "cell_type": "markdown",
   "metadata": {},
   "source": [
    "___\n",
    "15) Прога, которая покажет текущую директорию. Прога которая поменяет ее. И потом прога, которая проверяет существует ли файл.   \n",
    "ENG: Write a  Python program to check whether a file exists."
   ]
  },
  {
   "cell_type": "code",
   "execution_count": null,
   "metadata": {},
   "outputs": [],
   "source": [
    "import os\n",
    "print(os.getcwd())                    # Показывает директорию\n",
    "\n",
    "os.chdir('C:\\\\Users\\\\David\\\\Desktop')\n",
    "os.getcwd()\n",
    "print(os.path.isfile('holly.docx'))   # Выдаст True, если такой файл у нас существует"
   ]
  },
  {
   "cell_type": "markdown",
   "metadata": {},
   "source": [
    "___\n",
    "16) Прога, которая получает время выполнения 2 подсчетов любого кода.      \n",
    "ENG: Write a  Python program to get the execution time of a Python method."
   ]
  },
  {
   "cell_type": "code",
   "execution_count": null,
   "metadata": {},
   "outputs": [],
   "source": [
    "import timeit\n",
    "\n",
    "code_1 = '''\n",
    "total = 0\n",
    "for num in range(100000):\n",
    "    total += num\n",
    "'''\n",
    "\n",
    "time = timeit.timeit(code_1, number = 2)\n",
    "\n",
    "print(time)"
   ]
  },
  {
   "cell_type": "markdown",
   "metadata": {},
   "source": [
    "___\n",
    "17) Прога, которая получает секунды и возвращает сколько это в днях, часах, минутах и секундах. Вывод должен получиться 2000 секунд = 0 дней 0 часов 33 минуты и 20 секунд. Пользователь пусть вводит секунду инпутом.   \n",
    "ENG: Write a Python program that converts seconds into days, hours, minutes, and seconds."
   ]
  },
  {
   "cell_type": "code",
   "execution_count": null,
   "metadata": {},
   "outputs": [],
   "source": [
    "def convert_seconds(seconds):\n",
    "    days = seconds // (24 * 3600)\n",
    "    seconds %= (24 * 3600)\n",
    "    hours = seconds // 3600\n",
    "    seconds %= 3600\n",
    "    minutes = seconds // 60\n",
    "    seconds %= 60\n",
    "\n",
    "    return days, hours, minutes, seconds\n",
    "\n",
    "total_seconds = int(input(\"Enter seconds: \"))\n",
    "days, hours, minutes, seconds = convert_seconds(total_seconds)\n",
    "\n",
    "print(f\"{total_seconds} seconds is equivalent to {days} days, {hours} hours, {minutes} minutes, and {seconds} seconds.\")"
   ]
  },
  {
   "cell_type": "markdown",
   "metadata": {},
   "source": [
    "___\n",
    "18) Прога, которая считает индекс массы тела. (Вес / (Рост в метрах в степени 2)). И добавить классификатор на свой вкус.    \n",
    "ENG: Write a Python program to calculate the body mass index."
   ]
  },
  {
   "cell_type": "code",
   "execution_count": null,
   "metadata": {},
   "outputs": [],
   "source": [
    "def bmi(weight, height_cm):\n",
    "    height_m = height_cm / 100\n",
    "    return weight / (height_m ** 2)\n",
    "\n",
    "def classification(bmi_value):\n",
    "    if bmi_value < 18.5:\n",
    "        return 'Underweight'\n",
    "    elif 18.5 <= bmi_value <= 24.9:\n",
    "        return 'Normal weight'\n",
    "    elif 25 <= bmi_value <= 29.9:\n",
    "        return 'Overweight'\n",
    "    elif 30 <= bmi_value <= 40:\n",
    "        return 'Obesity'\n",
    "    else:\n",
    "        return 'Oh my GOD! Stop eating junk!'\n",
    "\n",
    "weight = float(input('Your weight in kg: '))\n",
    "height = float(input('Your height in cm: '))\n",
    "\n",
    "my_bmi = bmi(weight, height)\n",
    "\n",
    "print(f'Your BMI is: {my_bmi:.2f}')\n",
    "print(f'Classification: {classification(my_bmi)}')"
   ]
  },
  {
   "cell_type": "markdown",
   "metadata": {},
   "source": [
    "___\n",
    "19) Прога, которая сортирует три цифры без использования циклов и условных выражений. Еще input делаем.   \n",
    "ENG: Write a  Python program to sort three integers without using conditional statements and loops."
   ]
  },
  {
   "cell_type": "code",
   "execution_count": null,
   "metadata": {},
   "outputs": [],
   "source": [
    "def tri(a, b, c):\n",
    "    a = min(a, b, c)\n",
    "    c = max(a, b, c)\n",
    "    b = sum([a, b, c]) - a - c\n",
    "\n",
    "    return a, b, c\n",
    "\n",
    "x = int(input(\"Введите первое число: \"))\n",
    "y = int(input(\"Введите второе число: \"))\n",
    "z = int(input(\"Введите третье число: \"))\n",
    "\n",
    "sorted_numbers = tri(x, y, z)\n",
    "print(f'Sorted order: {sorted_numbers}')"
   ]
  },
  {
   "cell_type": "markdown",
   "metadata": {},
   "source": [
    "___\n",
    "20) Написать прогу, которая считает сумму всех элементов контейнера (список и словарь и кортеж и множество отдельно )   \n",
    "ENG: Write a Python program to calculate the sum of all items of a container (tuple, list, set, dictionary)."
   ]
  },
  {
   "cell_type": "code",
   "execution_count": null,
   "metadata": {},
   "outputs": [],
   "source": [
    "def calculate_sum(container):\n",
    "    if isinstance(container, (list, tuple, set)):\n",
    "        return sum(container)\n",
    "    elif isinstance(container, dict):\n",
    "        return sum(container.values())\n",
    "    else:\n",
    "        return \"Unsupported container type\"\n",
    "\n",
    "my_list = [1, 2, 3, 4]\n",
    "print(\"Sum of list items:\", calculate_sum(my_list))\n",
    "\n",
    "my_tuple = (1, 2, 3, 4)\n",
    "print(\"Sum of tuple items:\", calculate_sum(my_tuple))\n",
    "\n",
    "my_set = {1, 2, 3, 4}\n",
    "print(\"Sum of set items:\", calculate_sum(my_set))\n",
    "\n",
    "my_dict = {'a': 10, 'b': 20, 'c': 30}\n",
    "print(\"Sum of dictionary values:\", calculate_sum(my_dict))"
   ]
  },
  {
   "cell_type": "markdown",
   "metadata": {},
   "source": [
    "___\n",
    "21) Проверить все ли числа в списке больше определенного числа.   \n",
    "ENG: Write a Python program to test whether all numbers in a list are greater than a certain number."
   ]
  },
  {
   "cell_type": "code",
   "execution_count": null,
   "metadata": {},
   "outputs": [],
   "source": [
    "#Такой элегантный вариант\n",
    "def test(nums, n):\n",
    "    if n < min(nums):\n",
    "        return 'Да'\n",
    "    return 'Нет'\n",
    "\n",
    "# Или так\n",
    "def test(nums, num):\n",
    "    return all(n < num for n in nums)"
   ]
  },
  {
   "cell_type": "markdown",
   "metadata": {},
   "source": [
    "___\n",
    "22) Прога, которая вернет слова, начинающиеся на 's' в заранее заданном тексте. Надо учесть что с заглавными 'S' тоже надо вернуть      \n",
    "ENG: Use <code>for</code>, <code>.split()</code>, and <code>if</code> to create a Statement that will print out words that start with 's':"
   ]
  },
  {
   "cell_type": "code",
   "execution_count": null,
   "metadata": {},
   "outputs": [],
   "source": [
    "def sword(text):\n",
    "    s1 = text.split()\n",
    "    result = []\n",
    "    for word in s1:\n",
    "        if word.lower().startswith('s'):    # Можно еще word.lower()[0] == 's'\n",
    "            result.append(word)\n",
    "    return result\n",
    "\n",
    "text = 'Print only the words that start with s in this Sentence'\n",
    "sword(text)"
   ]
  },
  {
   "cell_type": "markdown",
   "metadata": {},
   "source": [
    "___\n",
    "23) Прога, которая использует списковое включение для создания списка из цифр между 1 и 50 и которые делятся на 3.   \n",
    "ENG: Use List comprehension to create a list of all numbers between 1 and 50 that are divisible by 3."
   ]
  },
  {
   "cell_type": "code",
   "execution_count": null,
   "metadata": {},
   "outputs": [],
   "source": [
    "[x for x in range(1,51) if x%3 == 0]"
   ]
  },
  {
   "cell_type": "markdown",
   "metadata": {},
   "source": [
    "___\n",
    "24) Прога которая проверяет заданный заранее текст и печатает слова, если длина слова четная.   \n",
    "ENG: Go through the string below and if the length of a word is even print \"even!\""
   ]
  },
  {
   "cell_type": "code",
   "execution_count": null,
   "metadata": {},
   "outputs": [],
   "source": [
    "def even_words(text):\n",
    "    words = text.split()\n",
    "    return [word for word in words if len(word) % 2 == 0]\n",
    "\n",
    "# Простая версия\n",
    "def even_words(text):\n",
    "    words = text.split()\n",
    "    result = []\n",
    "    for word in words:\n",
    "        if len(word) % 2 == 0:\n",
    "            result.append(word)\n",
    "    return result"
   ]
  },
  {
   "cell_type": "markdown",
   "metadata": {},
   "source": [
    "___\n",
    "25) Прога печатает цифры от 1 до 100, но вместо цифр пишет Fizz если цифра делится на 3, и Buzz если делится на 5. А если делится на то и на другое тогда FizzBuzz.    \n",
    "ENG: Write a program that prints the integers from 1 to 100. But for multiples of three print \"Fizz\" instead of the number, and for the multiples of five print \"Buzz\". For numbers which are multiples of both three and five print \"FizzBuzz\"."
   ]
  },
  {
   "cell_type": "code",
   "execution_count": null,
   "metadata": {},
   "outputs": [],
   "source": [
    "def fizzbuzz(n):\n",
    "    for i in range(1, n + 1):            # Если нужно от 1 до 100 просто n не определяем в функции, в а range (1,101)\n",
    "        if i % 3 == 0 and i % 5 == 0:    # Или просто 15\n",
    "            print(\"FizzBuzz\")\n",
    "        elif i % 3 == 0:\n",
    "            print(\"Fizz\")\n",
    "        elif i % 5 == 0:\n",
    "            print(\"Buzz\")\n",
    "        else:\n",
    "            print(i)\n",
    "\n",
    "fizzbuzz(15)"
   ]
  },
  {
   "cell_type": "markdown",
   "metadata": {},
   "source": [
    "___\n",
    "26) Прога возвращающая True если первые буквы всех слов из текста начинаются на одну и ту же букву.    \n",
    "ENG: Write a function which takes text and returns True if all words begin with same letter"
   ]
  },
  {
   "cell_type": "code",
   "execution_count": null,
   "metadata": {},
   "outputs": [],
   "source": [
    "def animal_cracker(text):\n",
    "    words = text.split()\n",
    "    if len(words) < 2:\n",
    "        return False\n",
    "    first_letter = words[0][0].lower()\n",
    "    return all(word[0].lower() == first_letter for word in words)\n",
    "\n",
    "# Или по другой логике можно\n",
    "def animal_crackers2(text):\n",
    "    words = text.split()\n",
    "    len_words = len(words)\n",
    "    lst = []\n",
    "    for word in words:\n",
    "        if word[0].lower() == words[0][0].lower():\n",
    "            lst.append(word)\n",
    "    return len(lst) == len_words"
   ]
  },
  {
   "cell_type": "markdown",
   "metadata": {},
   "source": [
    "___\n",
    "27) Прога, возвращает True если сумма цифр(не обязательно всех) равняется 20. Список цифр может быть большой, так что комбинации надо подобрать все.     "
   ]
  },
  {
   "cell_type": "code",
   "execution_count": null,
   "metadata": {},
   "outputs": [],
   "source": [
    "from itertools import combinations\n",
    "\n",
    "def has_sum_20(nums):\n",
    "    for r in range(1, len(nums)+1):\n",
    "        for combo in combinations(nums, r):\n",
    "            if sum(combo) == 20:\n",
    "                return True\n",
    "    return False\n",
    "\n",
    "\n",
    "# Динамическое программирование. Такое вариант быстрее и правильнее.\n",
    "def has_sum_20(nums, target=20):\n",
    "    dp = [False] * (target + 1)\n",
    "    dp[0] = True                    # сумма 0 достижима (пустое множество)\n",
    "\n",
    "    for num in nums:\n",
    "        for t in range(target, num - 1, -1):\n",
    "            if dp[t - num] == True:\n",
    "                dp[t] = True\n",
    "\n",
    "    return dp[target]\n",
    "\n",
    "has_sum_20([1,2,3,4,5,7])"
   ]
  },
  {
   "cell_type": "markdown",
   "metadata": {},
   "source": [
    "___\n",
    "28) Прога которая делает заглавными первую и четвертую буквы в имени.   \n",
    "ENG: Write a function that capitalizes the first and fourth letters of a name"
   ]
  },
  {
   "cell_type": "code",
   "execution_count": null,
   "metadata": {},
   "outputs": [],
   "source": [
    "def old_macdonald(name):\n",
    "    if len(name) > 3:\n",
    "        return name[:3].capitalize() + name[3:].capitalize()    # сначала индексы 0,1,2 потом 3 и до конца.\n",
    "    return 'Name is too short!'"
   ]
  },
  {
   "cell_type": "markdown",
   "metadata": {},
   "source": [
    "___\n",
    "29) Возвращаем сумму цифр из списка, но игнорируем все цифры которые начинаются с 6 и до 9. И после 9 снова считаем.      \n",
    "ENG: Return the sum of the numbers in the array, except ignore sections of numbers starting with a 6 and extending to the next 9 (every 6 will be followed by at least one 9). Return 0 for no numbers."
   ]
  },
  {
   "cell_type": "code",
   "execution_count": null,
   "metadata": {},
   "outputs": [],
   "source": [
    "def summer_69(nums):\n",
    "    total = 0\n",
    "    add = True\n",
    "    for num in nums:\n",
    "        if num == 6:\n",
    "            add = False\n",
    "        elif num == 9:\n",
    "            add = True\n",
    "        elif add == True:\n",
    "            total += num\n",
    "    return total"
   ]
  },
  {
   "cell_type": "markdown",
   "metadata": {},
   "source": [
    "___\n",
    "32) Прога, которая берет список из цифр и возвращает True, если в списке подряд идут `007`.   \n",
    "Write a function that takes in a list of integers and returns True if it contains 007 in order"
   ]
  },
  {
   "cell_type": "code",
   "execution_count": null,
   "metadata": {},
   "outputs": [],
   "source": [
    "def spy_game(nums):\n",
    "    check = [0, 0, 7]\n",
    "    index = 0\n",
    "    for num in nums:\n",
    "        if num == check[index]:\n",
    "            index += 1\n",
    "        if index == 3:\n",
    "            return True\n",
    "    return False\n",
    "\n",
    "#Или так\n",
    "def spy(nums):\n",
    "    for i in range(len(nums) - 2):\n",
    "        if nums[i] == 0 and nums[i+1] == 0 and nums[i+2] == 7:\n",
    "            return True\n",
    "    return False"
   ]
  },
  {
   "cell_type": "markdown",
   "metadata": {},
   "source": [
    "___\n",
    "33) Прога, которая печатает количество простых чисел и перечисляет все эти числа.   \n",
    "ENG: Write a function that returns the *number* of prime numbers that exist up to and including a given number"
   ]
  },
  {
   "cell_type": "code",
   "execution_count": null,
   "metadata": {},
   "outputs": [],
   "source": [
    "def list_primes(n):\n",
    "    if n < 2:\n",
    "        return 0\n",
    "    primes = []\n",
    "    for num in range(2, n + 1):\n",
    "        for i in range(2, int(num**0.5) + 1):\n",
    "            if num % i == 0:\n",
    "                break\n",
    "        else:\n",
    "            primes.append(num)\n",
    "    return primes\n",
    "\n",
    "# Так быстрее и это универсальное решение. Через решето Эратосфена.\n",
    "def sieve(n):\n",
    "    is_prime = [True] * (n + 1)                                       # суть в том, что изначально мы считаем что все числа простые, по решету Эратосфена поэтому все числа n = True\n",
    "    is_prime[0] = is_prime[1] = False                                 # 0, 1 исключения, им ставим False, так как они не простые\n",
    "\n",
    "    for i in range(2, int(n**0.5) + 1):                               # Перебор чисел от 2 до корень из числа + 1. Например у нас n = 30. int(30*0.5) = int(5.477..) = 5. range(2, 6) это 2,3,4,5\n",
    "        if is_prime[i]:                                               # Далее, если 2,3,4,5 помечены как True, перебор идет:\n",
    "            for j in range(i*i, n + 1, i):                            # Начинаем с i = 2. j = 4, n+1 это до 30, i = 2 то есть с шагом 2. j = 4,6,8,10,12,14,16,18 и так до 30.\n",
    "                is_prime[j] = False                                   # И все эти числа будут помечены как False. Дальше формула пройдет по i = 3. И поставит False кратным 3. И так далее до 5.\n",
    "\n",
    "    primes = []\n",
    "    for i in range(len(is_prime)):\n",
    "        if is_prime[i]:                                               # Если под индексом i стоит True добавляем в пустой список primes число под этим индексом\n",
    "            primes.append(i)\n",
    "\n",
    "    return primes\n",
    "\n",
    "sieve(10)"
   ]
  },
  {
   "cell_type": "markdown",
   "metadata": {},
   "source": [
    "___\n",
    "34) Прога, которая принимает текст, и считает сколько заглавных и сколько маленьких букв.   \n",
    "ENG: Write a Python function that accepts a string and calculates the number of upper case letters and lower case letters."
   ]
  },
  {
   "cell_type": "code",
   "execution_count": null,
   "metadata": {},
   "outputs": [],
   "source": [
    "def up_low(text):\n",
    "    lower = 0\n",
    "    upper = 0\n",
    "    for a in text:\n",
    "        if a.isupper():\n",
    "            upper += 1\n",
    "        else:\n",
    "            lower += 1\n",
    "\n",
    "    print(f'lowers are {lower}')\n",
    "    print(f'uppers are {upper}')\n",
    "\n",
    "text = 'You are John Wick. Ahaha, You wish'\n",
    "\n",
    "up_low(text)"
   ]
  },
  {
   "cell_type": "markdown",
   "metadata": {},
   "source": [
    "___\n",
    "35) Прога проверяющая текст панграмма это или нет. Импорт модуля `string`. Текст, который использует все буквы алфавита. Пунктуацию убрать.   \n",
    "ENG: Write a Python function to check whether a string is pangram or not. (Assume the string passed in does not have any punctuation)"
   ]
  },
  {
   "cell_type": "code",
   "execution_count": null,
   "metadata": {},
   "outputs": [],
   "source": [
    "import string\n",
    "\n",
    "def ispangram(str1, alphabet=string.ascii_lowercase):\n",
    "    str1 = str1.lower().replace(\" \", \"\")\n",
    "    for letter in alphabet:\n",
    "        if letter not in str1:\n",
    "            return False\n",
    "    return True\n",
    "\n",
    "# Или так, одной строчкой\n",
    "def ispangram(text):\n",
    "    return set(string.ascii_lowercase) <= set(text.lower())"
   ]
  },
  {
   "cell_type": "markdown",
   "metadata": {},
   "source": [
    "___\n",
    "36) Не создавая нового объекта, поменяйте первое и последнее слово местами. Еще надо проверить id.   "
   ]
  },
  {
   "cell_type": "code",
   "execution_count": null,
   "metadata": {},
   "outputs": [],
   "source": [
    "words = ['welcome', 'are', 'You']\n",
    "print(id(words))                                      # Проверяем id чтобы сверить в конце\n",
    "first_element = words.pop(0)\n",
    "last_element = words.pop()                            # Когда мы не указываем какой элемент удалять, pop удаляет последний элемент.\n",
    "\n",
    "words.append(first_element)\n",
    "words.insert(0, last_element)\n",
    "\n",
    "print(words)\n",
    "print(id(words))"
   ]
  },
  {
   "cell_type": "markdown",
   "metadata": {},
   "source": [
    "___\n",
    "37) Найдите количество уникальных символов в строке, без учёта пробелов."
   ]
  },
  {
   "cell_type": "code",
   "execution_count": null,
   "metadata": {},
   "outputs": [],
   "source": [
    "stroka = 'Джон Уик убил сто человек из-за собаки. Такие вот дела блин'\n",
    "\n",
    "count_char = len(set(stroka.replace(' ','')))\n",
    "print(count_char)\n",
    "\n",
    "\n",
    "# Если надо без set:\n",
    "def has_unique(s):\n",
    "    s = s.replace(\" \", \"\")\n",
    "    chars = {}\n",
    "    for ch in s:\n",
    "        if ch in chars:\n",
    "            chars[ch] += 1\n",
    "        chars[ch] = 1\n",
    "    return chars\n",
    "\n",
    "has_unique('Джон Уик')"
   ]
  },
  {
   "cell_type": "markdown",
   "metadata": {},
   "source": [
    "___\n",
    "38) Сравните скорость поиска числа 99999 в списке(list) и отдельно в множестве(set) возведения 10 в степени 6.   "
   ]
  },
  {
   "cell_type": "code",
   "execution_count": null,
   "metadata": {},
   "outputs": [],
   "source": [
    "import timeit                    # Я люблю timeit вместо time. Он короче, точнее и приятнее.\n",
    "\n",
    "import timeit\n",
    "\n",
    "N = 10**6                        # внешняя переменная (globals). Мы можем и без нее, но тогда было бы 999999 in set(range(10**6))\n",
    "code_set = \"999999 in set(range(N))\"\n",
    "code_list = \"999999 in list(range(N))\"\n",
    "\n",
    "set_time = timeit.timeit(code_set, globals=globals(), number = 1)\n",
    "list_time = timeit.timeit(code_list, globals=globals(), number = 1)\n",
    "\n",
    "print(f'Set search time is: {set_time}\\nList search time is: {list_time}')"
   ]
  },
  {
   "cell_type": "markdown",
   "metadata": {},
   "source": [
    "___\n",
    "39) У нас есть строка из цифр через пробел. Наша задача — удалить дубликаты и отсортировать список по **возрастанию**. Еще надо вывести дубликаты отдельно.   "
   ]
  },
  {
   "cell_type": "code",
   "execution_count": null,
   "metadata": {},
   "outputs": [],
   "source": [
    "def process(ids):\n",
    "    s_lst = ids.split()\n",
    "    lst = list(map(int, s_lst))\n",
    "    seen = set()\n",
    "    dubles = []\n",
    "    unique = []\n",
    "    for num in lst:\n",
    "        if num in seen:                                  # Если число уже есть в уникальном seen, и его нет в dubles, значит мы нашли дубликат, и печатаем его и добавляем в списко dubles\n",
    "            if num not in dubles:\n",
    "                print(f\"Найден дубликат ID {num}\")\n",
    "                dubles.append(num)\n",
    "        else:                                            # Если число не в уникальном seen,\n",
    "            seen.add(num)\n",
    "            unique.append(num)\n",
    "\n",
    "    return f'Отсортированный список по возрастанию: {sorted(unique)}'"
   ]
  },
  {
   "cell_type": "markdown",
   "metadata": {},
   "source": [
    "___\n",
    "40) Принимаем начальное и конечное число. И неограниченное количество чисел третьим аргументом. Надо проверить их, находятся ли они в диапазоне от 2 до 10. Печатаем, если они за пределами, и в итоге возвращаем список тех, которые в диапазоне.   "
   ]
  },
  {
   "cell_type": "code",
   "execution_count": null,
   "metadata": {},
   "outputs": [],
   "source": [
    "def test_range(start, end, *args):\n",
    "    result = []\n",
    "    for num in args:\n",
    "        if num in range(start, end + 1):\n",
    "            result.append(num)\n",
    "        else:\n",
    "            print(f\"{num} is out of range\")\n",
    "    return result\n",
    "\n",
    "start = 4\n",
    "end = 12\n",
    "\n",
    "print(test_range(start, end, 5, 16, 32, 6, 7, 1))   # Вместо *args можно просто nums просто передать список [5, 16, 32, 6, 7, 1]. *args не создает список."
   ]
  },
  {
   "cell_type": "markdown",
   "metadata": {},
   "source": [
    "___\n",
    "41) Прога получила на вход данные, это список кортежей: `[('Nick', '01.01.1992'), ('Mark', '01,02,1995')]`. Надо вернуть строку:  Nick, до др осталось {дней}.      "
   ]
  },
  {
   "cell_type": "code",
   "execution_count": null,
   "metadata": {},
   "outputs": [],
   "source": [
    "import datetime as dt\n",
    "\n",
    "FORMAT = '%d.%m.%Y'\n",
    "\n",
    "def get_days(name, bd):\n",
    "    bd = dt.datetime.strptime(bd, FORMAT).date()       # парсим в нужный формат. Формат можно как отдельно определить, так и в скобках написать.\n",
    "    today = dt.date.today()\n",
    "    bd = bd.replace(year=today.year)\n",
    "\n",
    "    if bd < today:                                     # Если день рождения меньше чем сегодняшний день (например 2 марта 2025 меньше чем 5 мая 2025 года)\n",
    "        bd = bd.replace(year=today.year + 1)           # Тогда мы понимаем что др будет уже в 2026 году и прибавляем 1 год к текущему и считаем количество дней до след др\n",
    "\n",
    "    days_to_birthday = bd - today\n",
    "    return f'{name}, до др осталось: {days_to_birthday.days} дней'\n",
    "\n",
    "\n",
    "birthdays = [\n",
    "    ('David', '02.10.1994'),\n",
    "    ('Artur', '16.12.1995'),\n",
    "    ('Mark', '12.06.1993')\n",
    "]\n",
    "\n",
    "for name, bd in birthdays:\n",
    "    result = get_days(name, bd)\n",
    "    print(result)"
   ]
  },
  {
   "cell_type": "markdown",
   "metadata": {},
   "source": [
    "___\n",
    "42) Прога с классами где есть владелец счета, баланс, депозит средств и вывод средств.   \n",
    "ENG: For this challenge, create a bank account class that has two attributes: `owner`, `balance` and two methods: `deposit`, `withdraw`. As an added requirement, withdrawals may not exceed the available balance. Instantiate your class, make several deposits and withdrawals, and test to make sure the account can't be overdrawn."
   ]
  },
  {
   "cell_type": "code",
   "execution_count": null,
   "metadata": {},
   "outputs": [],
   "source": [
    "class Account:\n",
    "    def __init__(self, owner, balance=0):\n",
    "        self.owner = owner\n",
    "        self.balance = balance\n",
    "\n",
    "    def __str__(self):\n",
    "        return f'Account owner is {self.owner}\\nAccount balance: {self.balance} $'\n",
    "\n",
    "    def deposit(self, dep):\n",
    "        self.balance += dep\n",
    "        print('Deposit accepted')\n",
    "\n",
    "    def withdraw(self, wd):\n",
    "        if self.balance < wd:\n",
    "            print('Funds Unavailable')\n",
    "        else:\n",
    "            self.balance -= wd\n",
    "            print('Withdrawal Accepted')\n",
    "\n",
    "\n",
    "acc = Account('David')\n",
    "\n",
    "print(acc)\n",
    "acc.deposit(1000)\n",
    "print(acc)\n",
    "acc.withdraw(500)\n",
    "print(acc)\n",
    "acc.withdraw(2000)"
   ]
  },
  {
   "cell_type": "markdown",
   "metadata": {},
   "source": [
    "___\n",
    "43) Используя reduce мы берем список чисел [1,2,3,4] и на выходе получаем 1234. Но важно получить именно число в итоге, а не текст.      \n",
    "Use reduce() to take a list of digits and return the number that they correspond to. `Do not convert the integers to strings!` "
   ]
  },
  {
   "cell_type": "code",
   "execution_count": null,
   "metadata": {},
   "outputs": [],
   "source": [
    "from functools import reduce\n",
    "\n",
    "def digits_to_num(digits):\n",
    "    return reduce(lambda x,y:x*10+y,digits)\n",
    "\n",
    "# Та же функция без lambda\n",
    "def multiply_and_add(x, y):\n",
    "    return x * 10 + y\n",
    "\n",
    "result = reduce(multiply_and_add, [1, 2, 3])\n",
    "\n",
    "#Так это будет выглядеть без lambda и без reduce.\n",
    "def digits_to_num(digits):\n",
    "    number = 0\n",
    "    for digit in digits:\n",
    "        number = number * 10 + digit\n",
    "    return number\n",
    "\n",
    "digits_to_num([1,2,3,4])"
   ]
  },
  {
   "cell_type": "markdown",
   "metadata": {},
   "source": [
    "___\n",
    "44) У нас есть предложение. Нужно сделать из него список из слов, которые начинаются с нужной нам буквы. Можно использовать filter() и lambda.      \n",
    "Use filter() to return the words from a list of words which start with a target letter."
   ]
  },
  {
   "cell_type": "code",
   "execution_count": null,
   "metadata": {},
   "outputs": [],
   "source": [
    "def find_letter(sentence, letter):\n",
    "    words = sentence.split()\n",
    "    lst = []\n",
    "    for word in words:\n",
    "        if word[0].lower() == letter.lower():\n",
    "            lst.append(word)\n",
    "    return lst\n",
    "\n",
    "# Второй вариант решения\n",
    "def find_letter2(sentence, letter):\n",
    "    words = sentence.split()\n",
    "    return [word for word in words if word[0].lower() == letter]\n",
    "\n",
    "\n",
    "# С filter. Filter отбирает значения по условию. То есть оставляет те элементы, для которых функция возвращает True.\n",
    "def find_letter3(sentence, letter):\n",
    "    words = sentence.split()\n",
    "    return list(filter(lambda word:word[0].lower() == letter, words))\n",
    "\n",
    "\n",
    "sentence = 'You Are so slow and I will win the race'\n",
    "letter = 'a'\n",
    "find_letter3(sentence, letter)"
   ]
  },
  {
   "cell_type": "markdown",
   "metadata": {},
   "source": [
    "___\n",
    "45) У нас есть два списка из слов `a` и `b`. Нужно объединить эти списки в новый и использовать `connector` (слово-разделитель). Воспользоваться можно zip() и list comprehension (генератор списка).   \n",
    "ENG: Use zip() and a list comprehension to return a list of the same length where each value is the two strings from L1 and L2 concatenated together with a connector between them."
   ]
  },
  {
   "cell_type": "code",
   "execution_count": null,
   "metadata": {},
   "outputs": [],
   "source": [
    "def vmeste(a,b,connector):\n",
    "    return [w1 + connector + w2 for w1,w2 in zip(b,a)]\n",
    "\n",
    "a = ['apple','banana','cherry']\n",
    "b = ['pie','smoothie','ice-cream']\n",
    "connector = ' with '\n",
    "\n",
    "result = vmeste(a, b, connector)\n",
    "print(result)"
   ]
  },
  {
   "cell_type": "markdown",
   "metadata": {},
   "source": [
    "____\n",
    "46) У нас есть список из уникальных слов. Нужно вернуть словарь, в котором есть значение и клюс с индексом. Использовать надо enumerate().       \n",
    "Use enumerate() and other skills to return a dictionary which has the values of the list as keys and the index as the value. You may assume that a value will only appear once in the given list.\n"
   ]
  },
  {
   "cell_type": "code",
   "execution_count": null,
   "metadata": {},
   "outputs": [],
   "source": [
    "def list_to_dict(lst):\n",
    "    return {key:value for value,key in enumerate(lst, start=1)}\n",
    "\n",
    "lst = ['Barca','Arsenal','Inter','PSG']\n",
    "\n",
    "list_to_dict(lst)"
   ]
  },
  {
   "cell_type": "markdown",
   "metadata": {},
   "source": [
    "____\n",
    "47) У нас есть список из цифр. Надо посчитать, сколько всего цифр, чье значение равно его индексу. Использовать enumerate().   \n",
    "Use enumerate() and other skills from above to return the count of the number of items in the list whose value equals its index.\n"
   ]
  },
  {
   "cell_type": "code",
   "execution_count": null,
   "metadata": {},
   "outputs": [],
   "source": [
    "def list_to_dict(lst):\n",
    "    return len([num for index, num in enumerate(lst) if num == index])\n",
    "\n",
    "lst = [1,2,3,4,4,5]\n",
    "\n",
    "list_to_dict(lst)"
   ]
  },
  {
   "cell_type": "markdown",
   "metadata": {},
   "source": [
    "___\n",
    "48) Прога, которая проверяет, является ли указанный путь файлом или каталогом (директорией). Использовать модуль os   \n",
    "ENG: Write a Python program to check whether a file path is a file or a directory."
   ]
  },
  {
   "cell_type": "code",
   "execution_count": null,
   "metadata": {},
   "outputs": [],
   "source": [
    "import os\n",
    "\n",
    "def check_path(my_path):\n",
    "    if os.path.isfile(my_path):\n",
    "        return f\"{path} is a file.\"\n",
    "    elif os.path.isdir(my_path):\n",
    "        return f\"{my_path} is a directory.\"\n",
    "    else:\n",
    "        return f\"{my_path} does not exist.\"\n",
    "\n",
    "path = input(\"Enter the file or directory path: \")   # Ввожу C:\\\\Users\\\\david\\\\Desktop\\\\suits.xlsx и вывод будет что это файл.\n",
    "print(check_path(path))"
   ]
  },
  {
   "cell_type": "markdown",
   "metadata": {},
   "source": [
    "___\n",
    "49) Прога, которая получает размер файла. Я для себя еще перевел в мегабайты.   \n",
    "ENG: Write a Python program to get the size of a file."
   ]
  },
  {
   "cell_type": "code",
   "execution_count": null,
   "metadata": {},
   "outputs": [],
   "source": [
    "import os\n",
    "\n",
    "file_size = os.path.getsize(\"C:\\\\Users\\\\david\\\\Desktop\\\\suits.xlsx\")\n",
    "print(f\"The size of suits.txt is: {file_size / (1024**2):.2f} MB\")"
   ]
  },
  {
   "cell_type": "markdown",
   "metadata": {},
   "source": [
    "___\n",
    "50) Прога, которая скопирует исходный код с одного файла и вставит его в другой. (В нашем случае файлы first.py и second.py в нужной директории).    \n",
    "ENG: Write a Python program to create a copy of its own source code."
   ]
  },
  {
   "cell_type": "code",
   "execution_count": null,
   "metadata": {},
   "outputs": [],
   "source": [
    "def file_copy(first, second):\n",
    "    with open(first, 'r') as f1:    # Открываем первый файл для чтения\n",
    "        content = f1.read()\n",
    "    with open(second, 'w') as f2:   # Открываем второй файл для записи\n",
    "        f2.write(content)\n",
    "\n",
    "first_p = \"C:\\\\Users\\\\david\\\\Desktop\\\\first.py\"\n",
    "second_p = \"C:\\\\Users\\\\david\\\\Desktop\\\\second.py\"\n",
    "\n",
    "file_copy(first_p, second_p)\n",
    "\n",
    "with open(second_p, 'r') as f:\n",
    "    for line in f:\n",
    "        print(line, end='')         # end в конце значит, чтобы после каждой напечатанной строчки не было отступа\n",
    "\n",
    "\n",
    "# Либо такой вариант с проверкой\n",
    "import os\n",
    "\n",
    "def file_copy(first, second):\n",
    "    if not os.path.exists(first):\n",
    "        print(f\"Файл {first} не существует.\")\n",
    "        return\n",
    "\n",
    "    try:\n",
    "        with open(first, 'r') as f1, open(second, 'w') as f2:\n",
    "            for line in f1:\n",
    "                f2.write(line)\n",
    "        print(f\"Файл успешно скопирован в {second}\")\n",
    "    except Exception as e:\n",
    "        print(f\"Ошибка при копировании: {e}\")"
   ]
  },
  {
   "cell_type": "markdown",
   "metadata": {},
   "source": [
    "___\n",
    "79) Написать прогу, которая меняет местами две переменные.    \n",
    "ENG: Write a Python program to swap two variables."
   ]
  },
  {
   "cell_type": "code",
   "execution_count": null,
   "metadata": {},
   "outputs": [],
   "source": [
    "a = 30\n",
    "b = 20\n",
    "\n",
    "a, b = b, a\n",
    "print(f\"After swapping a = {a} and b = {b}\")"
   ]
  },
  {
   "cell_type": "markdown",
   "metadata": {},
   "source": [
    "___\n",
    "80) Прога, которая проверяет строчку с try и except, она только с цифрами или нет.   \n",
    "ENG: Write a Python program to check whether a string is numeric."
   ]
  },
  {
   "cell_type": "code",
   "execution_count": null,
   "metadata": {},
   "outputs": [],
   "source": [
    "string = 'a123'\n",
    "\n",
    "try:\n",
    "    i = int(string)\n",
    "except (ValueError):        # Скобки нужны чтобы указать конкретрую ошибку. Но код будет работать и без, так как у нас только одно ошибка\n",
    "    print('Not numeric')\n",
    "else:\n",
    "    print('Numeric')"
   ]
  },
  {
   "cell_type": "markdown",
   "metadata": {},
   "source": [
    "___\n",
    "81) Прога, которая чистит экран терминала каждые 10 секунд.   \n",
    "ENG: Write a Python program to clear the screen or terminal."
   ]
  },
  {
   "cell_type": "code",
   "execution_count": null,
   "metadata": {},
   "outputs": [],
   "source": [
    "import os\n",
    "import time\n",
    "\n",
    "os.system(\"dir\")\n",
    "time.sleep(10)\n",
    "os.system('clear')"
   ]
  },
  {
   "cell_type": "markdown",
   "metadata": {},
   "source": [
    "___\n",
    "82) Название хоста, на котором выполняется программа. И еще IP адрес.   \n",
    "ENG: Write a Python program to get the name of the host on which the routine is running."
   ]
  },
  {
   "cell_type": "code",
   "execution_count": null,
   "metadata": {},
   "outputs": [],
   "source": [
    "import socket\n",
    "\n",
    "hostname = socket.gethostname()\n",
    "ip_address = socket.gethostbyname(hostname)\n",
    "\n",
    "print(\"Hostname:\", hostname)\n",
    "print(\"IP Address:\", ip_address)"
   ]
  },
  {
   "cell_type": "markdown",
   "metadata": {},
   "source": [
    "___\n",
    "83) Прога, которая получает что внутри URL сайта. (Фронтенд сайта, грубо говоря)   \n",
    "ENG: Write a Python program to access and print a URL's content to the console."
   ]
  },
  {
   "cell_type": "code",
   "execution_count": null,
   "metadata": {},
   "outputs": [],
   "source": [
    "import requests\n",
    "\n",
    "response = requests.get(\"https://pocketbook.ru/support/find-service-center/\")\n",
    "print(response.text)"
   ]
  },
  {
   "cell_type": "markdown",
   "metadata": {},
   "source": [
    "___\n",
    "84) Прога, которая получает числа которые делятся на 15 из данного списка из цифр, но надо использовать лямбду.   \n",
    "ENG:Write a  Python program to get numbers divisible by fifteen from a list using an anonymous function (lambda)."
   ]
  },
  {
   "cell_type": "code",
   "execution_count": null,
   "metadata": {},
   "outputs": [],
   "source": [
    "List = [1,2,35,45,55,65,70,75,85]\n",
    "\n",
    "result = list(filter(lambda x:x % 15 == 0, List))\n",
    "\n",
    "print(result)"
   ]
  },
  {
   "cell_type": "markdown",
   "metadata": {},
   "source": [
    "___\n",
    "85) Прога, которая удаляет первое значение из списка.   \n",
    "ENG: Write a  Python program to remove the first item from a specified list."
   ]
  },
  {
   "cell_type": "code",
   "execution_count": null,
   "metadata": {},
   "outputs": [],
   "source": [
    "top_singers = ['50cent','Eminem','Rihanna','Kadisheva']\n",
    "\n",
    "del top_singers[0]   # Можно и с pop, но del нужен когда мы не хотим больше использовать удаленный элемент\n",
    "\n",
    "print(top_singers)"
   ]
  },
  {
   "cell_type": "markdown",
   "metadata": {},
   "source": [
    "___\n",
    "86) Функция, которая принимает инпутом цифру, и выдает ошибку если это не цифра.   \n",
    "ENG: Write a  Python program that inputs a number and generates an error  message if it is not a number."
   ]
  },
  {
   "cell_type": "code",
   "execution_count": null,
   "metadata": {},
   "outputs": [],
   "source": [
    "def check_num():\n",
    "    try:\n",
    "        x = int(input('Введите число: '))\n",
    "    except ValueError:\n",
    "        print('Это не число')\n",
    "    else:\n",
    "        print(x, 'Это число')\n",
    "\n",
    "check_num()"
   ]
  },
  {
   "cell_type": "markdown",
   "metadata": {},
   "source": [
    "___\n",
    "87) Функция, которая фильтрует положительные цифры из списка.   \n",
    "ENG: Write a  Python program to filter positive numbers from a list."
   ]
  },
  {
   "cell_type": "code",
   "execution_count": null,
   "metadata": {},
   "outputs": [],
   "source": [
    "def polozh(nums):\n",
    "    return list(filter(lambda num: num > 0, nums))\n",
    "\n",
    "nums = [1, 2, 3, -1, -2, -3]\n",
    "\n",
    "print(polozh(nums))\n",
    "\n",
    "#Или\n",
    "def pol(nums):\n",
    "    return[num for num in nums if num > 0]"
   ]
  },
  {
   "cell_type": "markdown",
   "metadata": {},
   "source": [
    "___\n",
    "88) Без использования for цикла, надо умножить все цифры в списке. функция reduce () последовательно применяет что-то определенное ко всем элементам.   \n",
    "ENG: Write a Python program to compute the product of a list of integers (without using a for loop)."
   ]
  },
  {
   "cell_type": "code",
   "execution_count": null,
   "metadata": {},
   "outputs": [],
   "source": [
    "def umnozhit(nums):\n",
    "    result = 1\n",
    "    for num in nums:\n",
    "        result *= num\n",
    "    return result\n",
    "\n",
    "umnozhit([1,2,3])\n",
    "\n",
    "# А теперь как было в задании\n",
    "from functools import reduce\n",
    "\n",
    "def bez_for(nums):\n",
    "    return reduce(lambda x,y: x*y, nums)\n",
    "\n",
    "bez_for([1,2,3])"
   ]
  },
  {
   "cell_type": "markdown",
   "metadata": {},
   "source": [
    "___\n",
    "89) Прога, которая доказывает что две разные строки с одинаковым значением сохраняются в одном и том же месте в памяти.   \n",
    "ENG: Write a  Python program to prove that two string variables of the same value point to the same memory location."
   ]
  },
  {
   "cell_type": "code",
   "execution_count": null,
   "metadata": {},
   "outputs": [],
   "source": [
    "str1 = \"Potter\"\n",
    "str2 = \"Potter\"\n",
    "\n",
    "print(\"Memory location of str1 =\", hex(id(str1))) # Шестнадцатеричная система с помощью hex()\n",
    "print(\"Memory location of str2 =\", hex(id(str2)))"
   ]
  },
  {
   "cell_type": "markdown",
   "metadata": {},
   "source": [
    "___\n",
    "90) Проверить через try except есть ли значение у переменной или нет.   \n",
    "ENG: Write a  Python program to determine if a variable is defined or not."
   ]
  },
  {
   "cell_type": "code",
   "execution_count": null,
   "metadata": {},
   "outputs": [],
   "source": [
    "try:\n",
    "    x = 1\n",
    "except NameError:\n",
    "    print('Нет имени')\n",
    "else:\n",
    "    print('Есть имя')"
   ]
  },
  {
   "cell_type": "markdown",
   "metadata": {},
   "source": [
    "___\n",
    "91) У нас есть список из строки, библиотеки, списка, кортежа и цифры. Надо очистить список без удаления. type() возвращает тип объекта.          \n",
    "ENG: Write a  Python program to empty a variable without destroying it."
   ]
  },
  {
   "cell_type": "code",
   "execution_count": null,
   "metadata": {},
   "outputs": [],
   "source": [
    "def empty(lst):\n",
    "    return [type(i)() for i in lst]\n",
    "\n",
    "lst = [\"python\", {\"x\": 12}, [10, 12, \"abc\"], (4, 5), 200]\n",
    "\n",
    "print(f'Изначально было так: {lst}')\n",
    "print(f'Стало так: {empty(lst)}')"
   ]
  },
  {
   "cell_type": "markdown",
   "metadata": {},
   "source": [
    "___\n",
    "92) Прога, которая проверяет все ли значения в списке равны между собой.   \n",
    "ENG: Write a  Python program to check whether multiple variables have the same value."
   ]
  },
  {
   "cell_type": "code",
   "execution_count": null,
   "metadata": {},
   "outputs": [],
   "source": [
    "def prov(nums):\n",
    "    for num in nums:\n",
    "        if num != nums[0]:\n",
    "            return False\n",
    "    return True\n",
    "\n",
    "nums = [1, 2, 3, 4]\n",
    "print(prov(nums))\n",
    "\n",
    "# Или так короче\n",
    "def prov(nums):\n",
    "    return all(num == nums[0] for num in nums)\n",
    "\n",
    "# Или с set\n",
    "def prov(nums):\n",
    "    return len(set(nums)) == 1"
   ]
  },
  {
   "cell_type": "markdown",
   "metadata": {},
   "source": [
    "___\n",
    "93) Прога, которая проверяет есть ли в строке маленькие буквы.   \n",
    "ENG: Write a  Python program to check whether lowercase letters exist in a string."
   ]
  },
  {
   "cell_type": "code",
   "execution_count": null,
   "metadata": {},
   "outputs": [],
   "source": [
    "def check_lower(text):\n",
    "    for char in text:\n",
    "        if char.islower():\n",
    "            return True\n",
    "    return False\n",
    "\n",
    "check_lower('BARCa')"
   ]
  },
  {
   "cell_type": "markdown",
   "metadata": {},
   "source": [
    "___\n",
    "94) Прога, которая добавляет в начале строки нули.    \n",
    "ENG: Write a  Python program to add leading zeroes to a string."
   ]
  },
  {
   "cell_type": "code",
   "execution_count": null,
   "metadata": {},
   "outputs": [],
   "source": [
    "def adding_zeroes(text):\n",
    "    return text.zfill(8)\n",
    "\n",
    "adding_zeroes('Barca')"
   ]
  },
  {
   "cell_type": "markdown",
   "metadata": {},
   "source": [
    "___\n",
    "95) Реальный пример распаковки данных без ошибок. data содержит только два элемента - name и age. А нам нужно 3 (ещё country).   \n",
    "ENG: Write a Python program to split a variable length string into variables."
   ]
  },
  {
   "cell_type": "code",
   "execution_count": null,
   "metadata": {},
   "outputs": [],
   "source": [
    "data = ['John', 30]\n",
    "\n",
    "name, age, country = (data + [None] * 3)[:3]\n",
    "\n",
    "print(f\"Name: {name}, Age: {age}, Country: {country if country else 'Not provided'}\")"
   ]
  },
  {
   "cell_type": "markdown",
   "metadata": {},
   "source": [
    "___\n",
    "96) Прога, которая считает разницу между временем начала и текущего времени старта программы.   \n",
    "ENG: Write a Python program to calculate the time runs (difference between start and current time) of a program."
   ]
  },
  {
   "cell_type": "code",
   "execution_count": null,
   "metadata": {},
   "outputs": [],
   "source": [
    "from timeit import default_timer\n",
    "\n",
    "def timer(n):\n",
    "    start = default_timer()\n",
    "\n",
    "    total = 0\n",
    "    for row in range(n):         # Скорость выполнения 0 + 1 + 2 + 3 и так до 999, при n = 1000\n",
    "        total += row\n",
    "\n",
    "    end = default_timer()\n",
    "    print(f\"Execution time for n={n}: {end - start:.6f} seconds\")\n",
    "\n",
    "timer(1000)\n",
    "timer(1000000)"
   ]
  },
  {
   "cell_type": "markdown",
   "metadata": {},
   "source": [
    "___\n",
    "97) Прога c try и except, которая с помощью инпута две цифры `x` и `y` печатает одной строкой.   \n",
    "ENG: Write a  Python program to input two integers on a single line."
   ]
  },
  {
   "cell_type": "code",
   "execution_count": null,
   "metadata": {},
   "outputs": [],
   "source": [
    "print(\"Input the value of x & y\")\n",
    "\n",
    "try:\n",
    "    x, y = map(int, input().split())\n",
    "\n",
    "    print(\"The value of x & y are: \", x, y)\n",
    "except ValueError:\n",
    "    print(\"Please enter valid integers.\")"
   ]
  },
  {
   "cell_type": "markdown",
   "metadata": {},
   "source": [
    "___\n",
    "98) У нас есть словарь с ключом и значением. Надо перечислить списком значение и ключ выбранного элемента, например [0].   \n",
    "ENG: Write a Python program to extract a single key-value pair from a dictionary into variables."
   ]
  },
  {
   "cell_type": "code",
   "execution_count": null,
   "metadata": {},
   "outputs": [],
   "source": [
    "dict = {'Barca': '1', 'Chelsea': '2', 'Arsenal': '3', 'Inter': '4'}\n",
    "\n",
    "x, y = list(dict.items())[0]\n",
    "print(x, y)"
   ]
  },
  {
   "cell_type": "markdown",
   "metadata": {},
   "source": [
    "___\n",
    "99) Прога, которая проверяет чтобы сколько у нас `0` в строке, рядом столько же `1`. True или False.     \n",
    "ENG: Write a Python program to check if every consecutive sequence of zeroes is followed by a consecutive sequence of ones of same length in a given string. Return True/False."
   ]
  },
  {
   "cell_type": "code",
   "execution_count": null,
   "metadata": {},
   "outputs": [],
   "source": [
    "def check_zero(s):\n",
    "    i = 0\n",
    "    n = len(s)\n",
    "\n",
    "    while i < n:\n",
    "        if s[i] != '0':\n",
    "            return False                     # Проверяем, что текущий символ - '0'\n",
    "        zeros = 0\n",
    "        while i < n and s[i] == '0':         # Считаем количество подряд идущих нулей\n",
    "            zeros += 1\n",
    "            i += 1\n",
    "        ones = 0\n",
    "        while i < n and s[i] == '1':         # Считаем количество подряд идущих единиц\n",
    "            ones += 1\n",
    "            i += 1\n",
    "        if zeros != ones:                    # Проверяем, что количество нулей и единиц одинаково\n",
    "            return False\n",
    "    return True\n",
    "\n",
    "print(check_zero('00010111'))  # False\n",
    "\n",
    "# Ну или очень просто с regular expressions\n",
    "import re\n",
    "\n",
    "def zero_one(s):\n",
    "    return bool(re.fullmatch(r'01{0,1}0*1*', s))  # 0 — символ 0, который должен быть в начале строки, далее 1{0,1} значит что цифра 1 может встретиться 0 или 1 раз. 0* и 1* - 0 или больше раз.\n",
    "\n",
    "print(zero_one('01001'))\n",
    "\n",
    "# Этот код ищет чтобы сколько в строчке нулей, после шло столько же единиц.\n",
    "def test(txt):\n",
    "    return [len(i) for i in re.findall('0+', txt)] == [len(i) for i in re.findall('1+', txt)]"
   ]
  },
  {
   "cell_type": "markdown",
   "metadata": {},
   "source": [
    "___\n",
    "100) Прога, которая проверяет переменная n это список, кортеж или множество.   \n",
    "ENG: Write a  Python program to test if a variable is a list, tuple, or set."
   ]
  },
  {
   "cell_type": "code",
   "execution_count": null,
   "metadata": {},
   "outputs": [],
   "source": [
    "def check_type(nums):\n",
    "    if isinstance(x, tuple) == True:\n",
    "        return 'The variable x is a tuple'\n",
    "    elif isinstance(x, list) == True:\n",
    "        return 'The variable x is a list'\n",
    "    elif isinstance(x, set) == True:\n",
    "        return 'The variable x is a set'\n",
    "    else:\n",
    "        return 'Neither a list or a set or a tuple.'\n",
    "\n",
    "x = ('tuple', False, 3.2, 1)\n",
    "print(check_type(x))"
   ]
  },
  {
   "cell_type": "markdown",
   "metadata": {},
   "source": [
    "___\n",
    "142) Функция, проверяющая, делится ли одно число на другое без остатка.   \n",
    "ENG: Write a  Python function to check whether a number is divisible by another number. Accept two integer values from the user."
   ]
  },
  {
   "cell_type": "code",
   "execution_count": null,
   "metadata": {},
   "outputs": [],
   "source": [
    "def delitsa(a, b):\n",
    "    if a % b == 0:\n",
    "        return True\n",
    "    return False\n",
    "\n",
    "result = delitsa(1, 2)\n",
    "print(result)"
   ]
  },
  {
   "cell_type": "markdown",
   "metadata": {},
   "source": [
    "___\n",
    "101) Без встроенных функций `min` и `max` найти максимальное и минимальное число из списка.   \n",
    "ENG: Write a  Python function to find the maximum and minimum numbers from a sequence of numbers."
   ]
  },
  {
   "cell_type": "code",
   "execution_count": null,
   "metadata": {},
   "outputs": [],
   "source": [
    "def max_min(nums):\n",
    "    min_num = nums[0]\n",
    "    max_num = nums[0]\n",
    "\n",
    "    for num in nums:\n",
    "        if num < min_num:\n",
    "            min_num = num\n",
    "        if num > max_num:\n",
    "            max_num = num\n",
    "\n",
    "    return min_num, max_num\n",
    "\n",
    "max_min([2,7,98])"
   ]
  },
  {
   "cell_type": "markdown",
   "metadata": {},
   "source": [
    "___\n",
    "102) Функция, которая проверяет есть ли в последовательности целых чисел пара различных чисел, произведение которых нечётное.   \n",
    "ENG: Write a  Python function to check whether a distinct pair of numbers whose product is odd is present in a sequence of integer values."
   ]
  },
  {
   "cell_type": "code",
   "execution_count": null,
   "metadata": {},
   "outputs": [],
   "source": [
    "def odd_prod(nums):\n",
    "    for a in range(len(nums)):\n",
    "        for b in range(len(nums)):\n",
    "            if a != b:\n",
    "                prod = nums[a] * nums[b]\n",
    "                if prod & 1:\n",
    "                    return True\n",
    "    return False\n",
    "\n",
    "odd_prod([2,1,3,4])\n",
    "\n",
    "# Или так\n",
    "def odd_prod(nums):\n",
    "    count = sum(1 for x in nums if x % 2 == 1)   # То есть 1 за каждое подходящее для нас число. А sum суммирует эти числа, и если больше или равно 2, то возвращается True.\n",
    "    if count >= 2:\n",
    "        return True\n",
    "    return False\n",
    "\n",
    "odd_prod([1,2,3])"
   ]
  },
  {
   "cell_type": "markdown",
   "metadata": {},
   "source": [
    "___\n",
    "103) Функция, которая находит наибольшее нечетное произведение двух различных чисел из списка. Если такого нет - возвращает None"
   ]
  },
  {
   "cell_type": "code",
   "execution_count": null,
   "metadata": {},
   "outputs": [],
   "source": [
    "def max_odd_product(nums):\n",
    "    max_product = None                           # Инициализация переменной для максимального произведения(None ставим так как это в условии)\n",
    "    for i in range(len(nums)):\n",
    "        for j in range(i + 1, len(nums)):        # Перебираем все пары чисел\n",
    "            product = nums[i] * nums[j]\n",
    "            if product % 2 == 1:\n",
    "                if max_product is None or product > max_product:  # Сравниваем с максимальным\n",
    "                    max_product = product        # Обновляем максимальное произведение\n",
    "    return max_product"
   ]
  },
  {
   "cell_type": "markdown",
   "metadata": {},
   "source": [
    "___\n",
    "104) Дана последовательность чисел. Надо найти самую длинную непрерывную подпоследовательность, у которой произведение всех чисел нечётное и вернуть её длину."
   ]
  },
  {
   "cell_type": "code",
   "execution_count": null,
   "metadata": {},
   "outputs": [],
   "source": [
    "def longest_len(nums):\n",
    "    max_len = 0\n",
    "    c_len = 0\n",
    "    for num in nums:\n",
    "        if num % 2 == 1:\n",
    "            c_len += 1\n",
    "            max_len = max(max_len, c_len)\n",
    "        else:\n",
    "            c_len = 0\n",
    "    return max_len\n",
    "\n",
    "longest_len([1,2,3,5])"
   ]
  },
  {
   "cell_type": "markdown",
   "metadata": {},
   "source": [
    "___\n",
    "105) Проверить, можно ли разбить список на пары (каждое число используется один раз), так, чтобы произведение в каждой паре было нечётным."
   ]
  },
  {
   "cell_type": "code",
   "execution_count": null,
   "metadata": {},
   "outputs": [],
   "source": [
    "def pair_odd(nums):\n",
    "    odd_count = sum(1 for x in nums if x % 2 == 1)\n",
    "    return odd_count % 2 == 0 and len(nums) % 2 == 0   # У нас количество цифр должно быть четное\n",
    "\n",
    "pair_odd([1,2,3])"
   ]
  },
  {
   "cell_type": "markdown",
   "metadata": {},
   "source": [
    "___\n",
    "106) Функция, которая проверяет список из цифр на предмет того, все ли числа отличаются друг от друга. False или True использовать.   \n",
    "ENG: Write a Python function that takes a sequence of numbers and determines whether all the numbers are different from each other.  Use False and True"
   ]
  },
  {
   "cell_type": "code",
   "execution_count": null,
   "metadata": {},
   "outputs": [],
   "source": [
    "def chisla(nums):\n",
    "    if len(nums) == len(set(nums)):\n",
    "        return True\n",
    "    return False\n",
    "\n",
    "chisla([1,2,3])\n",
    "\n",
    "#Или можно так, но выше изящнее:\n",
    "def test_nums(nums):\n",
    "    for i in range(len(nums)):\n",
    "        for j in range(i + 1, len(nums)):\n",
    "            if nums[i] == nums[j]:\n",
    "                return False\n",
    "    return True"
   ]
  },
  {
   "cell_type": "markdown",
   "metadata": {},
   "source": [
    "___\n",
    "107) Нам дан список из букв через запятую, нужно сделать прогу, которая пишет при каждом вызове разные комбинации этих букв используя `random` и `shuffle`.   \n",
    "ENG: Write a  Python program that creates all possible strings using the letters 'a', 'e', 'i', 'o', and 'I'. Ensure that each character is used only once. Using random"
   ]
  },
  {
   "cell_type": "code",
   "execution_count": null,
   "metadata": {},
   "outputs": [],
   "source": [
    "import random\n",
    "\n",
    "char_list = ['a', 'b', 'c', 'd', 'e']\n",
    "\n",
    "random.shuffle(char_list)\n",
    "\n",
    "print(''.join(char_list))"
   ]
  },
  {
   "cell_type": "markdown",
   "metadata": {},
   "source": [
    "___\n",
    "108) Прога, которая удаляет каждое третье число и записывает его заново и делает это пока не удалит и не перепишет все цифры. (Задача Иосифа Флавея)   \n",
    "ENG: Write a Python program that removes and prints every third number from a list of numbers until the list is empty."
   ]
  },
  {
   "cell_type": "code",
   "execution_count": null,
   "metadata": {},
   "outputs": [],
   "source": [
    "def remove_nums(nums):\n",
    "    position = 3 - 1\n",
    "    index = 0\n",
    "\n",
    "    while len(nums) > 0:\n",
    "        index = (position + index) % len(nums)\n",
    "        print(nums.pop(index))\n",
    "\n",
    "\n",
    "nums = [10, 20, 30, 40, 50, 60, 70, 80, 90]\n",
    "remove_nums(nums)\n",
    "\n",
    "# Через deque быстрее и понятнее код. Плюс если список слишком большой будет, с deque лучше.\n",
    "from collections import deque\n",
    "\n",
    "def remove_nums_queue(nums, step=3):\n",
    "    dq = deque(nums)\n",
    "    step -= 1                                          # потому что отсчёт начинается с текущего элемента\n",
    "\n",
    "    while dq:\n",
    "        dq.rotate(-step)                               # сдвигаем влево на (step) элементов\n",
    "        print(dq.popleft())                            # удаляем текущий элемент\n",
    "\n",
    "nums = [10, 20, 30, 40, 50, 60, 70, 80, 90]\n",
    "remove_nums_queue(nums)"
   ]
  },
  {
   "cell_type": "markdown",
   "metadata": {},
   "source": [
    "____\n",
    "109) Написать прогу, которая идентифицирует уникальные 2 значения из списка, чья сумма равняется нулю.   "
   ]
  },
  {
   "cell_type": "code",
   "execution_count": null,
   "metadata": {},
   "outputs": [],
   "source": [
    "def find_pairs(nums, target):                                        # Решать можно как с target значением, так и без просто в коде вместо target прописываем нужную нам цифру, например 0\n",
    "\n",
    "    nums.sort()                                                      # Сначала сортируем\n",
    "    result = []                                                      # В каком виде будет наш результат, то есть мы получим список комбинаций\n",
    "\n",
    "    start, end = 0, len(nums) - 1                                    # То есть нулевый индекс списка и последний индекс списка\n",
    "\n",
    "    while start < end:\n",
    "        total = nums[start] + nums[end]\n",
    "\n",
    "        if total == target:\n",
    "            result.append([nums[start], nums[end]])\n",
    "            start += 1\n",
    "            end -= 1\n",
    "\n",
    "            while start < end and nums[start] == nums[start - 1]:     # Тут проверка на дубликаты, если вдруг в списке одинаковые числа есть (с учетом того что мы сортировали)\n",
    "                start += 1\n",
    "            while start < end and nums[end] == nums[end + 1]:\n",
    "                end -= 1\n",
    "\n",
    "        elif total < target:        # Сумма больше 0, сдвигаем индекс справа на один влево\n",
    "            start += 1\n",
    "        else:\n",
    "            end -= 1              # Сумма меньше 0, сдвигаем индекс слева вперед на один (Так мы изначально сортировали список, у нас в начале идут оттрицательные числа, если они есть)\n",
    "\n",
    "    return result\n",
    "\n",
    "find_pairs([1,2,3], 0)"
   ]
  },
  {
   "cell_type": "markdown",
   "metadata": {},
   "source": [
    "___\n",
    "110) Написать функцию, которая идентифицирует уникальные 3 значения из списка, чья сумма равняется нулю.   \n",
    "ENG: Write a Python program to identify unique triplets whose three elements sum to zero from an array of n integers."
   ]
  },
  {
   "cell_type": "code",
   "execution_count": null,
   "metadata": {},
   "outputs": [],
   "source": [
    "def find_triplets(nums, target):\n",
    "\n",
    "    nums.sort()                                                            # Сортируем список\n",
    "    result = []\n",
    "\n",
    "    for i in range(len(nums) - 2):                                         # Проходим по всем элементам до предпоследней пары\n",
    "        if i > 0 and nums[i] == nums[i - 1]:\n",
    "            continue                                                       # Пропускаем дубликаты первого элемента\n",
    "\n",
    "        start, end = i + 1, len(nums) - 1\n",
    "\n",
    "        while start < end:\n",
    "            total = nums[i] + nums[start] + nums[end]\n",
    "\n",
    "            if total == target:\n",
    "                result.append([nums[i], nums[start], nums[end]])\n",
    "                start += 1\n",
    "                end -= 1\n",
    "                while start < end and nums[start] == nums[start - 1]:\n",
    "                    start += 1\n",
    "                while start < end and nums[end] == nums[end + 1]:\n",
    "                    end -= 1\n",
    "            elif total < target:\n",
    "                start += 1\n",
    "            else:\n",
    "                end -= 1\n",
    "\n",
    "    return result\n",
    "\n",
    "print(find_triplets([1, 2, 3, -1, -2, -3, 5, -6, 4], 0))\n",
    "\n",
    "\n",
    "# Или так, но сверху код правильнее и быстрее работает\n",
    "def dialog(nums):\n",
    "    troyka = []\n",
    "    for a in range(len(nums)):\n",
    "        for b in range(a+1, len(nums)):\n",
    "            for c in range(b+1, len(nums)):\n",
    "                if nums[a] + nums[b] + nums[c] == 0:\n",
    "                    troyka.append((nums[a], nums[b], nums[c]))\n",
    "    return troyka\n",
    "\n",
    "print(dialog([1, 2, 3, -3, 0]))"
   ]
  },
  {
   "cell_type": "markdown",
   "metadata": {},
   "source": [
    "____\n",
    "111) Написать функцию, которая идентифицирует уникальные 4 значения из списка, чья сумма равняется нулю."
   ]
  },
  {
   "cell_type": "code",
   "execution_count": null,
   "metadata": {},
   "outputs": [],
   "source": [
    "def kvadrupl(nums, target):\n",
    "    nums.sort()\n",
    "    result = []\n",
    "\n",
    "    for x in range(len(nums) - 3):                                    # Фиксируем первое число\n",
    "        if x > 0 and nums[x] == nums[x - 1]:\n",
    "            continue\n",
    "\n",
    "        for y in range(x + 1, len(nums) - 2):                         # Фиксируем второе число\n",
    "            if y > x + 1 and nums[y] == nums[y - 1]:\n",
    "                continue\n",
    "\n",
    "            left, right = y + 1, len(nums) - 1                        # Указатели для двух оставшихся чисел\n",
    "\n",
    "            while left < right:\n",
    "                total = nums[x] + nums[y] + nums[left] + nums[right]\n",
    "\n",
    "                if total == target:\n",
    "                    result.append([nums[x], nums[y], nums[left], nums[right]])\n",
    "                    left += 1\n",
    "                    right -= 1\n",
    "\n",
    "                    while left < right and nums[left] == nums[left - 1]:\n",
    "                        left += 1\n",
    "                    while left < right and nums[right] == nums[right + 1]:\n",
    "                        right -= 1\n",
    "                elif total < target:\n",
    "                    left += 1\n",
    "                else:\n",
    "                    right -= 1\n",
    "\n",
    "    return result\n",
    "\n",
    "\n",
    "print(kvadrupl([1, 2, 3, -1, -2, -3, 5, -6, 4], 0))"
   ]
  },
  {
   "cell_type": "markdown",
   "metadata": {},
   "source": [
    "___\n",
    "112) Прога, которая создает список из строк, представляющих цифры от 0 до 999 и каждое число чтобы было дополнено нулями до длины 3.      \n",
    "ENG: Write a  Python program to make combinations of 3 digits."
   ]
  },
  {
   "cell_type": "code",
   "execution_count": null,
   "metadata": {},
   "outputs": [],
   "source": [
    "numbers = []\n",
    "\n",
    "for num in range(1000):\n",
    "    num_str = str(num).zfill(3)\n",
    "    numbers.append(num_str)\n",
    "\n",
    "print(numbers)"
   ]
  },
  {
   "cell_type": "markdown",
   "metadata": {},
   "source": [
    "___\n",
    "113) У нас есть строка длинная, нам надо прогу сделать, которая преобразует его в список из отдельных слов и печатает количество каждого слова.   \n",
    "113.1 Та же задача, только которая возвращает самое часто встречающееся слово и самое длинное.   \n",
    "ENG: Write a Python program that prints long text, converts it to a list, and prints `all the words` and the `frequency` of each word."
   ]
  },
  {
   "cell_type": "code",
   "execution_count": null,
   "metadata": {},
   "outputs": [],
   "source": [
    "def stroka(text):\n",
    "    words = text.split()\n",
    "    word_count = {}          # Словарь, так как у нас ключ - значение (слово - количество)\n",
    "\n",
    "    for word in words:\n",
    "        if word in word_count:\n",
    "            word_count[word] += 1\n",
    "        else:\n",
    "            word_count[word] = 1\n",
    "\n",
    "    return word_count\n",
    "\n",
    "result = stroka('I can eat something very special but I am good at eating anything')\n",
    "print(result)\n",
    "\n",
    "# Такой универсальный вариант с импортом Counter, так как он для этого создан\n",
    "from collections import Counter\n",
    "\n",
    "def most_common(text):\n",
    "    words = text.split()\n",
    "    count = Counter(words)\n",
    "    most_c = count.most_common(1)[0][0]                # 1 будет самое часто встречающееся слово, вот в таком формате [('I', 2)]. С помощью [0][0] мы извлекаем просто значение.\n",
    "    longest = max(words, key=len)                      # Самое длинное слово.\n",
    "    return most_c, longest\n",
    "\n",
    "most_common('I can eat something very special but I am good at eating anything')"
   ]
  },
  {
   "cell_type": "markdown",
   "metadata": {},
   "source": [
    "___\n",
    "114) Прога, которая считает количество каждого символа в текстовом файле(txt). Для ввода пусть будет input. Расположение и имя файла должно быть реальным, чтобы прога заработала.      \n",
    "ENG: Write a Python program to count the number of each character in a text file."
   ]
  },
  {
   "cell_type": "code",
   "execution_count": null,
   "metadata": {},
   "outputs": [],
   "source": [
    "from collections import Counter\n",
    "import pprint\n",
    "\n",
    "file_input = input('Введите путь к файлу: ')                                   # Либо введите название файла, если вы работаете уже в той директории, где файл. А так надо путь указать полный.\n",
    "\n",
    "with open(file_input, 'r', encoding = 'utf-8', errors = 'ignore') as info:     # Игнорировать ошибки можно и не писать\n",
    "    count = Counter(info.read())\n",
    "    value = pprint.pformat(count)\n",
    "\n",
    "print(value)"
   ]
  },
  {
   "cell_type": "markdown",
   "metadata": {},
   "source": [
    "___\n",
    "115) Прога, которая получает на вход список из уникальных чисел и возвращает все возможные перестановки этих чисел.   \n",
    "ENG: Write a Python program that generates a list of all possible permutations from a given collection of distinct numbers.\n",
    "\n"
   ]
  },
  {
   "cell_type": "code",
   "execution_count": null,
   "metadata": {},
   "outputs": [],
   "source": [
    "from itertools import permutations\n",
    "\n",
    "def permut(nums):\n",
    "    return list(permutations(nums))\n",
    "\n",
    "my_nums = [1,2,3]\n",
    "\n",
    "print(permut(my_nums))"
   ]
  },
  {
   "cell_type": "markdown",
   "metadata": {},
   "source": [
    "___\n",
    "116) Каждому числу присвоено 3 значения. Как у кнопочных телефонов. Нужно получить все возможные комбинации символов. Если вводим 13 например, или 157, нам должны вернутся все комбо из букв.    \n",
    "ENG: Write a  Python program to get all possible two-digit letter combinations from a 1-9 digit string."
   ]
  },
  {
   "cell_type": "code",
   "execution_count": null,
   "metadata": {},
   "outputs": [],
   "source": [
    "def letter_combinations(nums):\n",
    "\n",
    "    nums_maps = {\n",
    "        '2': 'abc', '3': 'def',\n",
    "        '4': 'ghi', '5': 'jkl', '6': 'mno',\n",
    "        '7': 'pqrs', '8': 'tuv', '9': 'wxyz'\n",
    "    }\n",
    "\n",
    "    result = ['']\n",
    "\n",
    "    for num in nums:\n",
    "        temporary = []\n",
    "\n",
    "        for x in result:                   # Сначала result = [''], поэтому x = ''\n",
    "            for y in nums_maps[num]:       # num — цифра, например '4'; nums_maps[num] — строка букв, например 'ghi'. То есть for y in 'ghi' мы получим 'g' 'h' 'i'\n",
    "                temporary.append(x + y)    # Склеиваем x и y, например '' + 'g' → 'g', затем 'g' + 'p' → 'gp'\n",
    "\n",
    "        result = temporary\n",
    "\n",
    "    return result\n",
    "\n",
    "letter_combinations('47')\n",
    "\n",
    "\n",
    "# С itertools\n",
    "from itertools import product\n",
    "\n",
    "def letter_combinations(digits):\n",
    "\n",
    "    string_maps = {\n",
    "        '2': 'abc', '3': 'def',\n",
    "        '4': 'ghi', '5': 'jkl', '6': 'mno',\n",
    "        '7': 'pqrs', '8': 'tuv', '9': 'wxyz'\n",
    "    }\n",
    "\n",
    "    letters = [string_maps[d] for d in digits if d in string_maps]\n",
    "    return [''.join(combo) for combo in product(*letters)]\n",
    "\n",
    "digit_string = \"47\"\n",
    "print(letter_combinations(digit_string))"
   ]
  },
  {
   "cell_type": "markdown",
   "metadata": {},
   "source": [
    "___\n",
    "117) Написать прогу которая проверяет три списка с тремя цифрами. И у нас есть таргет значение, и мы проверяем эти три списка с цифрами и подбираем комбинации, которые в сумме дадут таргет число.   \n",
    "ENG: Write a  Python program to check the sum of three elements (each from an array) from three arrays is equal to a target value. Print all those three-element combinations."
   ]
  },
  {
   "cell_type": "code",
   "execution_count": null,
   "metadata": {},
   "outputs": [],
   "source": [
    "def tri_massiva(a, b, c, targ):\n",
    "    combinations = []\n",
    "    for num1 in a:\n",
    "        for num2 in b:\n",
    "            for num3 in c:\n",
    "                if num1 + num2 + num3 == targ:\n",
    "                    combinations.append((num1, num2, num3))\n",
    "    if not combinations:\n",
    "        return 'Нет таких комбинаций'\n",
    "\n",
    "    return combinations\n",
    "\n",
    "tri_massiva([1,2,3],[1,2,1],[1,3,5], 10)"
   ]
  },
  {
   "cell_type": "markdown",
   "metadata": {},
   "source": [
    "___\n",
    "118) Найди медиану (среднее по порядку число) среди 3 чисел.   \n",
    "ENG: Write a Python program to find the median among three given numbers."
   ]
  },
  {
   "cell_type": "code",
   "execution_count": null,
   "metadata": {},
   "outputs": [],
   "source": [
    "def find_median(a, b, c):\n",
    "    if (a >= b and a <= c) or (a <= b and a >= c):\n",
    "        return a\n",
    "    elif (b >= a and b <= c) or (b <= a and b >= c):\n",
    "        return b\n",
    "    else:\n",
    "        return c\n",
    "\n",
    "print(find_median(10, 5, 8))"
   ]
  },
  {
   "cell_type": "markdown",
   "metadata": {},
   "source": [
    "___\n",
    "119) Написать прогу, которая получает на входе строку из цифр,и считает сколько последовательных степеней двойки подряд содержится в строке (например 248) и возвращает нам 3 (так как 8 = 2**3)   \n",
    "Write a  Python program that finds the value of n when n degrees of number 2 are written sequentially on a line without spaces between them."
   ]
  },
  {
   "cell_type": "code",
   "execution_count": null,
   "metadata": {},
   "outputs": [],
   "source": [
    "def ndegrees(num):\n",
    "    n = 2\n",
    "    i = 2\n",
    "\n",
    "    while str(n**i) in num:\n",
    "        i += 1                # i + 1 значит дальше посчитает 2 в степени 3 и т.д.\n",
    "\n",
    "    return i - 1              # i - 1 потому что мы уже прибавили + 1 и не нашли значения в строке, поэтому возвращаем последнее\n",
    "\n",
    "print(ndegrees(\"248163264\"))"
   ]
  },
  {
   "cell_type": "markdown",
   "metadata": {},
   "source": [
    "___\n",
    "120) Прога, которая считает количество нулей в конце факториала заданного положительного числа.   \n",
    "Write a  Python program to find the number of zeros at the end of a factorial of a given positive number.  "
   ]
  },
  {
   "cell_type": "code",
   "execution_count": null,
   "metadata": {},
   "outputs": [],
   "source": [
    "def factendzero(n):\n",
    "    x = n // 5       # Считаем, сколько чисел от 1 до n делятся на 5\n",
    "    y = x            # Начинаем с этого количества\n",
    "\n",
    "    while x > 0:     # Пока есть пятёрки в более высоких степенях (25, 125 и т.д.)\n",
    "        x //= 5      # Делим x на 5 нацело — получаем доп. пятёрки из 25, 125...\n",
    "        y += x       # Прибавляем к общему количеству пятёрок\n",
    "\n",
    "    return y\n",
    "\n",
    "print(factendzero(12))\n",
    "print(factendzero(100))"
   ]
  },
  {
   "cell_type": "markdown",
   "metadata": {},
   "source": [
    "___\n",
    "121) Написать прогу, которая считает сколько купюр нужно для выдачи нужной нам суммы без остатка. (Купюры в 10, 20, 50, 100, 200, 500)      \n",
    "Write a  Python program to find the number of notes (Samples of notes: 10, 20, 50, 100, 200, 500) against an amount.  "
   ]
  },
  {
   "cell_type": "code",
   "execution_count": null,
   "metadata": {},
   "outputs": [],
   "source": [
    "def no_notes(a):\n",
    "    bills = [500, 200, 100, 50, 20, 10]\n",
    "    bills.sort(reverse=True)                    # Сортировка на случай, если список не по убыванию\n",
    "\n",
    "    count = 0\n",
    "\n",
    "    for bill in bills:\n",
    "        count += a // bill                      # сколько купюр данного номинала можно взять\n",
    "        a %= bill                               # уменьшаем остаток\n",
    "\n",
    "    return count if a == 0 else \"Не получится собрать только купюрами\"\n",
    "\n",
    "print(no_notes(900))"
   ]
  },
  {
   "cell_type": "markdown",
   "metadata": {},
   "source": [
    "___\n",
    "122) Напиши программу на Python, которая создаёт последовательность, в которой первые четыре элемента равны единице. Каждый следующий элемент последовательности равен сумме четырёх предыдущих (но учтите что последнее число меняется при каждой итерации). Найди N-й член этой последовательности. Например введя 6 мы должны получить 7.      \n",
    "Write a  Python program to create a sequence where the first four members of the sequence are equal to one. Each successive term of the sequence is equal to the sum of the four previous ones. Find the Nth member of the sequence."
   ]
  },
  {
   "cell_type": "code",
   "execution_count": null,
   "metadata": {},
   "outputs": [],
   "source": [
    "def new_seq(n):\n",
    "    if n <= 4:\n",
    "        return 1\n",
    "    a = b = c = d = 1\n",
    "    for _ in range(5, n + 1):\n",
    "        e = a + b + c + d\n",
    "        a, b, c, d = b, c, d, e\n",
    "    return d\n",
    "\n",
    "new_seq(9)"
   ]
  },
  {
   "cell_type": "markdown",
   "metadata": {},
   "source": [
    "___\n",
    "123) Прога, которая принимает одно число, затем вычитает из этого числа сумму его цифр и так далее пока цифра положительная. То есть 23, он вычитает из 23 сумму 2+3 и так далее.   \n",
    "Write a Python program that accepts a positive number and subtracts from it the sum of its digits, and so on. Continue this operation until the number is positive."
   ]
  },
  {
   "cell_type": "code",
   "execution_count": null,
   "metadata": {},
   "outputs": [],
   "source": [
    "def zadacha(num):\n",
    "    while num > 0:\n",
    "        num_string = str(num)\n",
    "        digits_sum = sum(int(i) for i in num_string)\n",
    "        print(f\"Current num: {num}, sum of digits: {digits_sum}\")  # промежуточный вывод\n",
    "        num -= digits_sum\n",
    "\n",
    "    return num\n",
    "\n",
    "zadacha(236)"
   ]
  },
  {
   "cell_type": "markdown",
   "metadata": {},
   "source": [
    "___\n",
    "124) Прога, которая выводит количество делителей заданного числа. Например для цифры 3 будет 1 и 3 то есть вывод будет 2.   \n",
    "Write a Python program to find the total number of even or odd divisors of a given integer."
   ]
  },
  {
   "cell_type": "code",
   "execution_count": null,
   "metadata": {},
   "outputs": [],
   "source": [
    "def divisor(n):\n",
    "    x = len([i for i in range(1, n + 1) if (n % i) == 0])\n",
    "\n",
    "    return x\n",
    "\n",
    "print(divisor(15))  # Вывод будет 4 (1, 3, 5, 15)"
   ]
  },
  {
   "cell_type": "markdown",
   "metadata": {},
   "source": [
    "125) Написать функцию, которая ищет недостающие цифры из заданного мобильного номера. Например у нас есть номер списком 99687778654.   \n",
    "Write a Python program to find the digits that are missing from a given mobile number."
   ]
  },
  {
   "cell_type": "code",
   "execution_count": null,
   "metadata": {},
   "outputs": [],
   "source": [
    "def absent_digits(mobile_number):\n",
    "    all_digits = set('0123456789')                         # set, потому что поиск в множестве(set) работает быстрее, чем в списке или кортеже. Плюс set можно вычитать между собой.\n",
    "    present_digits = set(str(mobile_number))\n",
    "    missing_digits = sorted(all_digits - present_digits)\n",
    "    return missing_digits\n",
    "\n",
    "absent_digits(9876302219)"
   ]
  },
  {
   "cell_type": "markdown",
   "metadata": {},
   "source": [
    "___\n",
    "126) Найти сумму модулей разности всех уникальных пар элементов в массиве, без сортировки всякой. Например c [1,2,3] пары будут 1 2 , 1 3 и 2 3 и найти их абсолютную разницу. Будет 1 + 2 + 1 = 4    \n",
    "Write a  Python program to compute the summation of the absolute difference of all distinct pairs in a given array (non-decreasing order).  "
   ]
  },
  {
   "cell_type": "code",
   "execution_count": null,
   "metadata": {},
   "outputs": [],
   "source": [
    "# Медленный, но более читаемый вариант\n",
    "def sum_absolute_differences(nums):\n",
    "    total = 0\n",
    "    for i in range(len(nums)):\n",
    "        for j in range(i + 1, len(nums)):\n",
    "            total += abs(nums[i] - nums[j])\n",
    "    return total\n",
    "\n",
    "# Такой вариант самый логичный\n",
    "def sum_absolute_differences(nums):\n",
    "    nums.sort()\n",
    "    total = 0\n",
    "    prefix_sum = 0\n",
    "\n",
    "    for i in range(len(nums)):                  # Если nums = [1, 3, 6]\n",
    "        total += nums[i] * i - prefix_sum       # Формула будет работать так: total += 3 * индекс(то есть 1) - 1 = 2\n",
    "        prefix_sum += nums[i]                   # Обновляем prefix sum = уже ставим 3\n",
    "\n",
    "    return total\n",
    "\n",
    "# Или так, но это более математический подход\n",
    "def sum_absolute_differences_v2(arr):\n",
    "    arr.sort()\n",
    "    n = len(arr)\n",
    "    return sum((2 * i - n + 1) * arr[i] for i in range(n))"
   ]
  },
  {
   "cell_type": "markdown",
   "metadata": {},
   "source": [
    "127) Написать функцию, которая реверсит исходную цифру и если это не палиндром, прибавляет перевернутую цифру к исходной и снова проверяет до тех пор, пока не станит палиндромом. Например с 1234 + 4321 = 5555. Нам вернет 5555 и за сколько шагов мы пришли к этому. (То есть мы возвращаем палиндром цифру и шаги).   \n",
    "Write a  Python program to reverse the digits of a given number and add them to the original. Repeat this procedure if the sum is not a palindrome.  "
   ]
  },
  {
   "cell_type": "code",
   "execution_count": null,
   "metadata": {},
   "outputs": [],
   "source": [
    "def rev_number(n):\n",
    "    steps = 0\n",
    "    while True:\n",
    "        s = str(n)\n",
    "        if s == s[::-1]:\n",
    "            break\n",
    "        else:\n",
    "            m = int(s[::-1])\n",
    "            n += m\n",
    "            steps += 1\n",
    "    return n, steps\n",
    "\n",
    "number = int(input(\"Введите число: \"))\n",
    "palindrome, count = rev_number(number)\n",
    "print(f\"Палиндром: {palindrome}, получен за {count} шагов\")\n",
    "\n",
    "# Можно ещё так\n",
    "def rev_number(n, max_steps=1000):\n",
    "    for steps in range(max_steps):         # Ставим ограничение на всякий\n",
    "        s = str(n)\n",
    "        if s == s[::-1]:\n",
    "            return n, steps\n",
    "        n += int(s[::-1])\n",
    "    return None, max_steps                 # Если палиндром не найден"
   ]
  },
  {
   "cell_type": "markdown",
   "metadata": {},
   "source": [
    "128) Функция, которая возвращает нам количество переносов при покразрядном сложении (Как в столбик) например 11 + 23 нам вернет ноль, а 89 + 44 вернет 2.   \n",
    "Write a Python program to count the number of carry operations for each addition problem."
   ]
  },
  {
   "cell_type": "code",
   "execution_count": null,
   "metadata": {},
   "outputs": [],
   "source": [
    "def carry_number(x, y):\n",
    "    count = 0\n",
    "    perenos = 0\n",
    "\n",
    "    while x > 0 or y > 0:\n",
    "        total = x % 10 + y % 10 + perenos\n",
    "        if total > 9:\n",
    "            perenos = 1\n",
    "            count += 1\n",
    "        else:\n",
    "            perenos = 0\n",
    "        x //= 10                                                              # //= — это целочисленное деление с присваиванием. Если 123 то при данной операции 123//10 = 12 и while уже работает с 12.\n",
    "        y //= 10\n",
    "\n",
    "    return f\"{count} carry operations.\" if count else \"No carry operation.\"   # Либо классический вариант ниже\n",
    "\n",
    "    # if count:\n",
    "    #     return f'{count} carry operations'\n",
    "    # else:\n",
    "    #     return 'No carry operations'\n",
    "\n",
    "carry_number(119,2)\n",
    "\n",
    "# Можно еще так сделать\n",
    "def carry(a, b):\n",
    "    a = str(a)[::-1]\n",
    "    b = str(b)[::-1]\n",
    "    carry = count = 0                            # Переводим в строки и переворачиваем цифры, чтобы сложение было как в столбик справа налево.\n",
    "\n",
    "    for i in range(max(len(a), len(b))):\n",
    "        x = int(a[i]) if i < len(a) else 0       # Обязательно надо прописать, на случай если индекс больше длины, иначе выдаст ошибку.\n",
    "        y = int(b[i]) if i < len(b) else 0\n",
    "\n",
    "        if x + y + carry >= 10:\n",
    "            carry = 1\n",
    "            count += 1\n",
    "        else:\n",
    "            carry = 0\n",
    "\n",
    "    return f\"{count} carry operations.\" if count else \"No carry operation.\""
   ]
  },
  {
   "cell_type": "markdown",
   "metadata": {},
   "source": [
    "___\n",
    "129) Прога, которая принимает высоту зданий, например 8, и возвращает нам топ 3 самые высокие.   \n",
    "Write a Python program to find the heights of the top three buildings in descending order from eight given buildings."
   ]
  },
  {
   "cell_type": "code",
   "execution_count": null,
   "metadata": {},
   "outputs": [],
   "source": [
    "def top_three_buildings(heights):\n",
    "    sorted_heights = sorted(heights, reverse=True)    # Сортируем по убыванию\n",
    "    return sorted_heights[:3]                         # Возвращаем первые 3\n",
    "\n",
    "top_three_buildings([1,2,3,4,5,6,7,8])\n",
    "\n",
    "\n",
    "# Тоже полезно знать\n",
    "import heapq\n",
    "\n",
    "def top_three_buildings(heights):\n",
    "    return heapq.nlargest(3, heights)\n",
    "\n",
    "print(top_three_buildings([50, 120, 80, 95, 110, 75, 60, 130]))"
   ]
  },
  {
   "cell_type": "markdown",
   "metadata": {},
   "source": [
    "___\n",
    "130) Функция, которая прибавляет два числа и возвращает нам длину строки. Например 11 + 22 = 33 => вернем нам 2, длину строки.   \n",
    "Write a Python program to compute the digit number of the sum of two given integers."
   ]
  },
  {
   "cell_type": "code",
   "execution_count": null,
   "metadata": {},
   "outputs": [],
   "source": [
    "def digits_in_sum(a, b):\n",
    "    total = a + b\n",
    "    return len(str(total))\n",
    "\n",
    "a, b = 11, 22\n",
    "print(f'Digits of sum {a} and {b} is {digits_in_sum(a, b)}')"
   ]
  },
  {
   "cell_type": "markdown",
   "metadata": {},
   "source": [
    "___\n",
    "131) Написать прогу, которая получает 3 цифры (3 длины треугольника). Печатаем Yes если это прямоугольный треугольник, No если нет.   \n",
    "Write a  Python program to check whether three given lengths (integers) of three sides form a right triangle. Print \"Yes\" if the given sides form a right triangle otherwise print \"No\"."
   ]
  },
  {
   "cell_type": "code",
   "execution_count": null,
   "metadata": {},
   "outputs": [],
   "source": [
    "def is_pythagorean_triplet(a, b, c):\n",
    "    x, y, z = sorted([a, b, c])\n",
    "    return x**2 + y**2 == z**2\n",
    "\n",
    "a, b, c = 3, 4, 5\n",
    "if is_pythagorean_triplet(a, b, c):\n",
    "    print(\"Yes\")\n",
    "else:\n",
    "    print(\"No\")\n",
    "\n",
    "# Если нужен ввод, после функции можно прописать его:\n",
    "nums = input(\"Input exactly three integers (sides of a triangle), separated by commas: \").split(',')    # Тут отсебятина, чтобы ввод был через запятую\n",
    "try:\n",
    "    a, b, c = map(int, [num.strip() for num in nums])\n",
    "except ValueError:\n",
    "    print(\"Invalid input\")\n",
    "\n",
    "else:\n",
    "    if is_pythagorean_triplet(a, b, c):\n",
    "        print(\"Yes\")\n",
    "    else:\n",
    "        print(\"No\")"
   ]
  },
  {
   "cell_type": "markdown",
   "metadata": {},
   "source": [
    "___\n",
    "132) Функция, которая принимает значения a, b, c, d, e, f и возвращает нам x, y линейного уравнения {ax + by = c} {dx + ey = f}.      \n",
    "Write a Python program which solve the equation:  ax+by=c   dx+ey=f  Print the values of x, y where a, b, c, d, e and f are given."
   ]
  },
  {
   "cell_type": "code",
   "execution_count": null,
   "metadata": {},
   "outputs": [],
   "source": [
    "def solve(a, b, c, d, e, f):\n",
    "    n = a * e - b * d\n",
    "    if n != 0:\n",
    "        x = (c * e - b * f) / n\n",
    "        y = (a * f - c * d) / n\n",
    "        return round(x, 3), round(y, 3)\n",
    "    else:\n",
    "        return None\n",
    "\n",
    "\n",
    "print(\"Input the value of a, b, c, d, e, f:\")\n",
    "a, b, c, d, e, f = map(float, input().split())\n",
    "result = solve(a, b, c, d, e, f)\n",
    "\n",
    "print(\"Values of x and y:\")\n",
    "if result:\n",
    "    print(*result)\n",
    "else:\n",
    "    print(\"No unique solution.\")"
   ]
  },
  {
   "cell_type": "markdown",
   "metadata": {},
   "source": [
    "133) Прога, которая считает сумму долга в месяцах. Каждый месяц 5% прибавляется к 100,000 долларам и округляем до ближайшего 1000 вверх. Инпутом пишем 7 месяцев, выдаст долг в 144000 долларов.   \n",
    "Write a  Python program to compute the amount of debt in n months. Each month, the loan adds 5% interest to the $100,000 debt and rounds to the nearest 1,000 above.   "
   ]
  },
  {
   "cell_type": "code",
   "execution_count": null,
   "metadata": {},
   "outputs": [],
   "source": [
    "def compute_debt(months, debt=100000):\n",
    "    for _ in range(months):\n",
    "        debt = ((int(debt * 1.05) + 999) // 1000) * 1000\n",
    "    return debt\n",
    "\n",
    "months = int(input(\"Input number of months:\\n\"))\n",
    "print(\"Amount of debt:\", f\"${compute_debt(months)}\")"
   ]
  },
  {
   "cell_type": "markdown",
   "metadata": {},
   "source": [
    "___\n",
    "134) Надо написать прогу, которая возвращает длину самой длинной строки без повторяющихся символов.   "
   ]
  },
  {
   "cell_type": "code",
   "execution_count": null,
   "metadata": {},
   "outputs": [],
   "source": [
    "# Сначала медленная реализация\n",
    "def length_of_longest(s):\n",
    "    max_len = 0\n",
    "\n",
    "    for i in range(len(s)):\n",
    "        seen = set()\n",
    "        for j in range(i, len(s)):\n",
    "            if s[j] in seen:\n",
    "                break\n",
    "            seen.add(s[j])\n",
    "            max_len = max(max_len, j - i + 1)\n",
    "\n",
    "    return max_len\n",
    "\n",
    "\n",
    "# Так лучше и быстрее\n",
    "def length_of_longest(s):\n",
    "    start = 0\n",
    "    max_len = 0\n",
    "    seen = {}                                                       # Для каждого ключа словарь хранит только последнее значение. Если строка 'fff' то венрется f : 2.\n",
    "\n",
    "    for i, char in enumerate(s):                                    # На примере строки 'abcabcd' и первая итерация\n",
    "        if char in seen and seen[char] >= start:                    # Если 'a' в словаре уже у нас сразу False. 2 итер - Если 'b' в словаре = снова False будет\n",
    "            start = seen[char] + 1                                  #\n",
    "        seen[char] = i                                              # seen['a'] = 0. Теперь словарь {'a': 0}. Обновляем словарь теперь {'a': 0, 'b': 1}\n",
    "        max_len = max(max_len, i - start + 1)                       # 0 = максимальное из (0, 0 - 0 + 1) = 1. Обновляем длину (1, 1 - 0 + 1) = 2\n",
    "\n",
    "    return max_len\n",
    "\n",
    "\n",
    "# Или такой вариант\n",
    "def lengthOfLongest(s):\n",
    "    n = len(s)\n",
    "    maxLength = 0\n",
    "    charIndex = [-1] * 128\n",
    "    left = 0\n",
    "\n",
    "    for right in range(n):\n",
    "        if charIndex[ord(s[right])] >= left:\n",
    "            left = charIndex[ord(s[right])] + 1\n",
    "        charIndex[ord(s[right])] = right\n",
    "        maxLength = max(maxLength, right - left + 1)\n",
    "\n",
    "    return maxLength"
   ]
  },
  {
   "cell_type": "markdown",
   "metadata": {},
   "source": [
    "____\n",
    "135) Функция, которая возвращает число комбинаций 4 чисел a,b,c,d которые дадут нам нужное число. Например для 1, комбинаций будет 4 так как a = 1, b = 0, c = 0 и d = 0.   \n",
    "Write a Python program that reads an integer n and finds the number of combinations of a,b,c and d (0 = a,b,c,d = 9) where (a + b + c + d) will be equal to n"
   ]
  },
  {
   "cell_type": "code",
   "execution_count": null,
   "metadata": {},
   "outputs": [],
   "source": [
    "def combo(target):\n",
    "    count = 0\n",
    "    for a in range(10):\n",
    "        for b in range(10):\n",
    "            for c in range(10):\n",
    "                for d in range(10):\n",
    "                    if a + b + c + d == target:\n",
    "                        count += 1\n",
    "    return count\n",
    "\n",
    "combo(11)\n",
    "\n",
    "# Либо правильнее через itertools\n",
    "from itertools import product\n",
    "\n",
    "def combos(n):\n",
    "    count = 0\n",
    "    for combo in product(range(10), repeat=4):\n",
    "        if sum(combo) == n:\n",
    "            count += 1\n",
    "    return count\n",
    "\n",
    "combos(11)"
   ]
  },
  {
   "cell_type": "markdown",
   "metadata": {},
   "source": [
    "____\n",
    "136) Функция, которая суммирует два числа, если числа a и b длиннее 80 символов или их сумма длиннее 80 символов - печатаем \"Overflow\".   \n",
    "Write a Python program to compute and print the sum of two given integers (greater or equal to zero). In the event that the given integers or the sum exceed 80 digits, print \"overflow\"."
   ]
  },
  {
   "cell_type": "code",
   "execution_count": null,
   "metadata": {},
   "outputs": [],
   "source": [
    "def sum_or_overflow(a, b):\n",
    "    if len(str(a)) > 80 or len(str(b)) > 80 or len(str(a + b)) > 80:\n",
    "        print(\"overflow\")\n",
    "    else:\n",
    "        print(a + b)"
   ]
  },
  {
   "cell_type": "markdown",
   "metadata": {},
   "source": [
    "____\n",
    "137) Нам дан список цифр, которые могут содержать в себе и отрицательные и положительные. Нам нужно найти максимальную сумму отрезка. (Алгоритм Кадане).   Например [1,2,3,-4,2,6,7] выдаст нам 15.     \n",
    "Write a Python program to find the maximum sum of a contiguous subsequence from a given sequence of numbers a1, a2, a3, ... an. A subsequence of one element is also a continuous subsequence."
   ]
  },
  {
   "cell_type": "code",
   "execution_count": null,
   "metadata": {},
   "outputs": [],
   "source": [
    "def max_subsequence_sum(nums):\n",
    "    max_sum = current_sum = nums[0]\n",
    "    for num in nums[1:]:\n",
    "        current_sum = max(num, current_sum + num)\n",
    "        max_sum = max(max_sum, current_sum)\n",
    "    return max_sum\n",
    "\n",
    "print(max_subsequence_sum([-2, 1, -3, 4, -1, 2, 1, -5, 4]))  # Вывод будет: 6\n",
    "\n",
    "\n",
    "# Более сложная задача, если у нас есть ограничение по длине\n",
    "def max_subarray_sum_with_limit(nums, k):\n",
    "    max_sum = float('-inf')                               # - бесконечность это когда у нас есть еще и отрицательные.\n",
    "    n = len(nums)\n",
    "\n",
    "    for i in range(n):\n",
    "        curr_sum = 0\n",
    "        for j in range(i, max(i - k, -1), -1):            # максимум k элементов назад\n",
    "            curr_sum += nums[j]\n",
    "            max_sum = max(max_sum, curr_sum)\n",
    "\n",
    "    return max_sum"
   ]
  },
  {
   "cell_type": "markdown",
   "metadata": {},
   "source": [
    "____\n",
    "138) Прога которая читает дату и возвращает нам день недели. Например 1 января 2016 года выдаст нам пятница.   \n",
    "Write a Python program that reads a date (from 2016/1/1 to 2016/12/31) and prints the day of the date. Jan. 1, 2016, is Friday. Note that 2016 is a leap year."
   ]
  },
  {
   "cell_type": "code",
   "execution_count": null,
   "metadata": {},
   "outputs": [],
   "source": [
    "from datetime import date\n",
    "\n",
    "def get_weekday_name(month, day):\n",
    "    return date(2016, month, day).strftime('%A')\n",
    "\n",
    "get_weekday_name(1,1)     # Вывод будет friday"
   ]
  },
  {
   "cell_type": "markdown",
   "metadata": {},
   "source": [
    "____\n",
    "139) Написать функцию, которая принимает два значения до 10, например 2 и 5. 2 это значит что нам нужна пара, а 5 таргет значение и считает сколько пар без повторов дают нам таргет значение 5.   \n",
    "Write a Python program that reads n digits (given) chosen from 0 to 9 and prints the number of combinations where the sum of the digits equals another given number (s). Do not use the same digits in a combination."
   ]
  },
  {
   "cell_type": "code",
   "execution_count": null,
   "metadata": {},
   "outputs": [],
   "source": [
    "from itertools import combinations\n",
    "\n",
    "def count_combinations_with_sum(n, s):\n",
    "    valid_combos = combinations(range(10), n)     # Все возможные уникальные комбинации длины n\n",
    "    count = 0                                     # Счётчик подходящих комбинаций\n",
    "\n",
    "    for combo in valid_combos:\n",
    "        if sum(combo) == s:\n",
    "            count += 1\n",
    "    return count\n",
    "\n",
    "\n",
    "# Либо так, короче\n",
    "from itertools import combinations\n",
    "\n",
    "def count_digit_combinations(n, s):\n",
    "    valid_combos = combinations(range(10), n)\n",
    "    return sum(1 for combo in valid_combos if sum(combo) == s)"
   ]
  },
  {
   "cell_type": "markdown",
   "metadata": {},
   "source": [
    "____\n",
    "140) Функцию написать, которая принимает текст и заменяет слова Python на Java и обратно.   \n",
    "Write a Python program to replace a string \"Python\" with \"Java\" and \"Java\" with \"Python\" in a given string."
   ]
  },
  {
   "cell_type": "code",
   "execution_count": null,
   "metadata": {},
   "outputs": [],
   "source": [
    "def swap_text(text):\n",
    "    text = text.replace('Python','__TEMP__')   # Вместо TEMP можно использовать любой маркер, который вряд ли встретиться в нашем тексте.\n",
    "    text = text.replace('Java','Python')\n",
    "    text = text.replace('__TEMP__','Java')\n",
    "    return text\n",
    "\n",
    "swap_text('Java is better than Python')"
   ]
  },
  {
   "cell_type": "markdown",
   "metadata": {},
   "source": [
    "____\n",
    "141) Функция, которая считает разницу между наибольшим и наименьшим числом полученным из 8 чисел от 0 до 9.   \n",
    "Write a Python program that determines the difference between the largest and smallest integers created by 8 numbers from 0 to 9. The number that can be rearranged shall start with 0 as in 00135668.\n"
   ]
  },
  {
   "cell_type": "code",
   "execution_count": null,
   "metadata": {},
   "outputs": [],
   "source": [
    "def raznica(nums):\n",
    "    str_nums = list(map(str, nums))                              # Если, например, nums = [1,2,3,4]. Если бы мы принимали строкой, например '1,2,3,4', то это не нужно было.\n",
    "    biggest = int(''.join(sorted(str_nums, reverse=True)))\n",
    "    smallest = int(''.join(sorted(str_nums)))\n",
    "    return biggest - smallest"
   ]
  },
  {
   "cell_type": "markdown",
   "metadata": {},
   "source": [
    "____\n",
    "142) Написать функцию, которая считает сумму первых n простых чисел. Например сумма первых 25 простых чисел вернет нам 1060.   \n",
    "Write a Python program to compute the sum of the first n prime numbers."
   ]
  },
  {
   "cell_type": "code",
   "execution_count": null,
   "metadata": {},
   "outputs": [],
   "source": [
    "def is_prime(num):\n",
    "    if num == 2:\n",
    "        return True\n",
    "    if num < 2 or num % 2 == 0:\n",
    "        return False\n",
    "    for i in range(3, int(num**0.5) + 1, 2):\n",
    "        if num % i == 0:\n",
    "            return False\n",
    "    return True\n",
    "\n",
    "def sum_first_n_primes(n):\n",
    "    count = 0\n",
    "    total = 0\n",
    "    num = 2\n",
    "    while count < n:\n",
    "        if is_prime(num):\n",
    "            total += num\n",
    "            count += 1\n",
    "        num += 1 if num == 2 else 2                                   # После 2 проверяем только нечетные\n",
    "    return total\n",
    "\n",
    "# Лучше всего через решето Эратосфена\n",
    "def sum_first_n_primes(n):\n",
    "    MAX = 105000                                                      # Достаточно, чтобы покрыть первые 10000 простых\n",
    "    is_prime = [True] * MAX\n",
    "    is_prime[0] = is_prime[1] = False\n",
    "\n",
    "    for i in range(2, int(MAX**0.5) + 1):\n",
    "        if is_prime[i]:\n",
    "            for j in range(i * i, MAX, i):\n",
    "                is_prime[j] = False\n",
    "\n",
    "    primes = []\n",
    "    for i in range(len(is_prime)):\n",
    "        if is_prime[i]:\n",
    "            primes.append(i)\n",
    "\n",
    "    total = 0\n",
    "    for p in primes:\n",
    "        total += p\n",
    "\n",
    "    return total\n",
    "\n",
    "    # Либо так одной строкой\n",
    "    # primes = [i for i, prime in enumerate(is_prime) if prime][:n]\n",
    "\n",
    "    # return sum(primes)"
   ]
  },
  {
   "cell_type": "markdown",
   "metadata": {},
   "source": [
    "____\n",
    "143) Функция, которая принимает четное число большее или равное 4 (гипотеза Голдбаха звучит как каждое четное число >= 4 это сумма двух простых чисел). Функция должна вернуть все пары простых чисел, сумма которых даст нам наше число.   \n",
    "Write a Python program which accepts an even number (>=4, Goldbach number) from the user and creates combinations which express the given number as a sum of two prime numbers. Print the number of combinations."
   ]
  },
  {
   "cell_type": "code",
   "execution_count": null,
   "metadata": {},
   "outputs": [],
   "source": [
    "def sieve(n):\n",
    "    is_prime = [True] * (n + 1)\n",
    "    is_prime[0] = is_prime[1] = False\n",
    "\n",
    "    for i in range(2, int(n ** 0.5) + 1):\n",
    "        if is_prime[i]:\n",
    "            for j in range(i * i, n + 1, i):\n",
    "                is_prime[j] = False\n",
    "    return is_prime\n",
    "\n",
    "def goldbach_combinations(n):\n",
    "    if n < 4 or n % 2 != 0:\n",
    "        print(\"Введите чётное число не меньше 4.\")\n",
    "        return\n",
    "\n",
    "    is_prime = sieve(n)\n",
    "    count = 0\n",
    "\n",
    "    for i in range(2, n // 2 + 1):\n",
    "        if is_prime[i] and is_prime[n - i]:\n",
    "            print(f\"{i} + {n - i} = {n}\")\n",
    "            count += 1\n",
    "\n",
    "    print(f\"Количество комбинаций: {count}\")\n",
    "\n",
    "number = int(input(\"Введите чётное число (>=4): \"))\n",
    "goldbach_combinations(number)"
   ]
  },
  {
   "cell_type": "markdown",
   "metadata": {},
   "source": [
    "____\n",
    "144) Вернуть максимальное количество областей (регионов), на которые плоскость разбивается при проведении n прямых линий. Классическая задача из комбинаторики и геометрии. Иаксимальное пересечение линий.   \n",
    "Write a Python program to create the maximum number of regions obtained by drawing n given straight lines."
   ]
  },
  {
   "cell_type": "code",
   "execution_count": null,
   "metadata": {},
   "outputs": [],
   "source": [
    "def max_regions(n):\n",
    "    return (n * n + n + 2) // 2   # Это формула, которую просто надо запомнить"
   ]
  },
  {
   "cell_type": "markdown",
   "metadata": {},
   "source": [
    "____\n",
    "145) Функцию, которая суммирует все цифры в строке или строках. Например 'abc3 bbd6' вернет нам 9.   \n",
    "Write a Python program to sum all numerical values (positive integers) embedded in a sentence."
   ]
  },
  {
   "cell_type": "code",
   "execution_count": null,
   "metadata": {},
   "outputs": [],
   "source": [
    "import re\n",
    "\n",
    "def test(stri):\n",
    "    numbers = re.findall(r\"\\d+\", stri)          # Найти все числа без ограничения по длине\n",
    "    numeric_sum = sum(map(int, numbers))\n",
    "    return numeric_sum\n",
    "\n",
    "result = test(\"sd1fdsfs23 dssd56\")\n",
    "print(\"Sum of the numeric values:\", result)\n",
    "\n",
    "# Так, когда строк много\n",
    "import re\n",
    "\n",
    "def sum_numbers_in_line(*lines):\n",
    "    total = 0\n",
    "    for line in lines:\n",
    "        numbers = re.findall(r\"\\d+\", line)\n",
    "        total += sum(map(int, numbers))\n",
    "    return total\n",
    "\n",
    "print(sum_numbers_in_line('saf','2'))"
   ]
  },
  {
   "cell_type": "markdown",
   "metadata": {},
   "source": [
    "____\n",
    "146) Алгоритмическая задача. Есть правило сжатия. # - это особый символ. Если у нас в строке #5Y например значит оригинальная строка это 5 штук YYYYY. Написать функцию которая сжатую строку раскрывает.   \n",
    "When character are consecutive in a string , it is possible to shorten the character string by replacing the character with a certain rule. For example, in the case of the character string YYYYY, if it is expressed as # 5 Y, it is compressed by one character."
   ]
  },
  {
   "cell_type": "code",
   "execution_count": null,
   "metadata": {},
   "outputs": [],
   "source": [
    "def compress(text):\n",
    "    result = ''\n",
    "    i = 0\n",
    "    while i < len(text):\n",
    "        if text[i] == '#':\n",
    "            count = int(text[i+1])\n",
    "            char = text[i+2]\n",
    "            result += count * char\n",
    "            i += 3\n",
    "        else:\n",
    "            result += text[i]\n",
    "            i += 1\n",
    "    return result\n",
    "\n",
    "compress('abc#4t')"
   ]
  },
  {
   "cell_type": "markdown",
   "metadata": {},
   "source": [
    "____\n",
    "147) Функция, которая из текста длиною максимум в 1024 слов даст нам только слова длиной от 3 до 6 букв. Знаки препинания тоже убираем все.   \n",
    "Write a Python program to cut out words of 3 to 6 characters length from a given sentence not more than 1024 characters."
   ]
  },
  {
   "cell_type": "code",
   "execution_count": null,
   "metadata": {},
   "outputs": [],
   "source": [
    "def extraction(text):\n",
    "    text = text[:1024]\n",
    "    for char in \",.!?:;\\'(){}[]\":\n",
    "        text = text.replace(char, ' ')\n",
    "        words = text.split()\n",
    "        filtered_words = [word for word in words if 3 <= len(word) <= 6]\n",
    "\n",
    "    return filtered_words\n",
    "\n",
    "extraction('You are very beatiful woman')\n",
    "\n",
    "# Либо так, по минимуму\n",
    "def extraction(text):\n",
    "    text = text[:1024]\n",
    "    words = text.replace('.',' ')\n",
    "    words = text.replace(',',' ')       # replace только точки и запятой, без других символов\n",
    "    return [word for word in words.split() if 3 <= len(word) <=6]\n",
    "\n",
    "my_input = input('Write your text: ')\n",
    "extraction(my_input)"
   ]
  },
  {
   "cell_type": "markdown",
   "metadata": {},
   "source": [
    "____\n",
    "148) У нас есть узкий холмик из чисел в виде ромба. Мы должны пройти по этому ромбу из цифр сверху вниз так, чтобы сумма выбранных чисел была максимальной. На каждом шаге мы выбираем либо нижний левый, либо нижний правый. В решении используем `динамическое` программирование — запоминаем для каждой строки все максимально возможные суммы путей до каждой позиции.   \n",
    "Arrange integers (0 to 99) as narrow hilltop, as illustrated in Figure 1. Reading such data representing huge, when starting from the top and proceeding according to the next rule to the bottom. Write a Python program that compute the maximum value of the sum of the passing integers according to the following rules."
   ]
  },
  {
   "cell_type": "code",
   "execution_count": null,
   "metadata": {},
   "outputs": [],
   "source": [
    "def max_hilltop_sum(nums):\n",
    "    max_val = nums[0]                                                # Сначала максимальные суммы — это просто значения в первой строке (топе холмика)\n",
    "\n",
    "    for i in range(1, (len(nums) + 1) // 2):                         # Мы делим ромбик пополам, то есть мы обрабатываем сначала сверху до самой широкой части ромба включительно. //2 с округлением вверх.\n",
    "        int_val = [0] * (i + 1)                                      # Так мы создаем временный список для хранения максимальных сумм. То есть если i = 4, то int_val = [0,0,0,0,0]\n",
    "        for j in range(i):\n",
    "            int_val[j] = max(int_val[j], max_val[j] + nums[i][j])                # Тут заполняем список сверху вниз налево. i это строка. j это элемент на этой строке.\n",
    "            int_val[j + 1] = max(int_val[j + 1], max_val[j] + nums[i][j + 1])    # Тут заполняем список сверху вниз направо. j + 1 это берем элемент справа\n",
    "        max_val = int_val                                            # То есть перед выполнением второго цикла, max_val будет например [10,11,12,13,14]\n",
    "\n",
    "    for i in range((len(nums) + 1) // 2, len(nums)):                 # А тут как раз с самой широкой части до самого низа ромбика.\n",
    "        int_val = [0] * (len(max_val) - 1)                           # Пишем -1 так как ромб сужается и следующая строка будет содержать на один элемент меньше.\n",
    "        for j in range(len(int_val)):\n",
    "            int_val[j] = max(max_val[j], max_val[j + 1]) + nums[i][j]\n",
    "        max_val = int_val\n",
    "\n",
    "    return max_val[0]\n",
    "\n",
    "nums = [\n",
    "    [8],\n",
    "    [4,9],\n",
    "    [8,6,8],\n",
    "    [2,3,5,6],\n",
    "    [9,9,9],\n",
    "    [9,4],\n",
    "    [8]\n",
    "]\n",
    "\n",
    "result = max_hilltop_sum(nums)\n",
    "print(\"Максимальная сумма пути:\", result)"
   ]
  },
  {
   "cell_type": "markdown",
   "metadata": {},
   "source": [
    "____\n",
    "149) У нас есть столбцы и строки например таблицей 4 на 4, неважно. Нам нужно в итоге получить таблицу 5 на 5, где на последней строке и столбце будут суммы выведены.   \n",
    "Your task is to develop a small part of spreadsheet software.\n",
    "Write a Python program that adds up the columns and rows of the given table as shown in the specified figure."
   ]
  },
  {
   "cell_type": "code",
   "execution_count": null,
   "metadata": {},
   "outputs": [],
   "source": [
    "def sum_rows_and_columns(table):\n",
    "    rows = len(table)                                       # Узнаем количество строк. То есть у нас таблица с 3мя списками, то есть 3 строки выдаст нам.\n",
    "    cols = len(table[0])                                    # Узнаем сначала сколько колонок.\n",
    "\n",
    "    row_sums = [sum(row) for row in table]                  # Расчитаем сумму каждой строки\n",
    "\n",
    "    col_sums = []\n",
    "    for col in range(cols):                                 # Расчитаем сумму колонок\n",
    "        # col_sum = sum(table[r][col] for r in range(rows)) # Сумма каждой колонки генератором, но мне пока проще код снизу\n",
    "        col_sum = 0\n",
    "        for r in range(rows):\n",
    "            col_sum += table[r][col]\n",
    "        col_sums.append(col_sum)\n",
    "\n",
    "    total_sum = sum(row_sums)\n",
    "\n",
    "    for i in range(rows):\n",
    "        table[i].append(row_sums[i])\n",
    "\n",
    "    col_sums.append(total_sum)\n",
    "    table.append(col_sums)\n",
    "\n",
    "    return table\n",
    "\n",
    "data = [\n",
    "    [1, 2, 3],\n",
    "    [4, 5, 6],\n",
    "    [7, 8, 9]\n",
    "]\n",
    "\n",
    "result = sum_rows_and_columns(data)\n",
    "for row in result:\n",
    "    print(row)"
   ]
  },
  {
   "cell_type": "markdown",
   "metadata": {},
   "source": [
    "____\n",
    "150) Надо написать прогу, которая принимает слово и множество слов. И проверяет подпоследовательности(subsequence) и выводит самую длинную. Например слово `Green`. И набор слов `{\"Gn\", \"Gren\", \"ree\", \"en\"}`. Например слово `ne` не subsequence.   \n",
    "The list of all subsequences for the word \"apple\" would be \"a\", \"ap\", \"al\", \"ae\", \"app\", \"apl\", \"ape\", \"ale\", \"appl\", \"appe\", \"aple\", \"apple\", \"p\", \"pp\", \"pl\", \"pe\", \"ppl\", \"ppe\", \"ple\", \"pple\", \"l\", \"le\", \"e\", \"\".\n",
    "Write a Python program to find the longest word in a set of words which is a subsequence of a given string."
   ]
  },
  {
   "cell_type": "code",
   "execution_count": null,
   "metadata": {},
   "outputs": [],
   "source": [
    "def is_subsequence(word, slovo):                    # s это наше основное слово 'Green', а word это одно слово, которое мы проверяем, например 'ree'\n",
    "    it = iter(slovo)                                # Итерируем слово s побуквенно, буква за буквой.\n",
    "    return all(letter in it for letter in word)     # all здесь вернёт True, если все буквы из слова встречаются в строке в том же порядке, по одной за другой, с возможными пропусками между ними.\n",
    "\n",
    "def longest_word_sequence(slovo, slova):                               # slova тут список слов ['ree', 'Gn', 'en', 'Gren']\n",
    "    longest = \"\"\n",
    "    for word in slova:\n",
    "        if len(word) > len(longest) and is_subsequence(word, slovo):   # is_subsequence(word, slovo) это значит если это True.\n",
    "            longest = word                                             # Обновляем longest нашим словом самым длинным\n",
    "    return longest\n",
    "\n",
    "print(longest_word_sequence(\"Green\", {\"Gn\", \"Gren\", \"ree\", \"en\"}))  # Выведет \"Gren\""
   ]
  },
  {
   "cell_type": "markdown",
   "metadata": {},
   "source": [
    "____\n",
    "151) Написать функцию, которая проверяет число счастливое или нет. `Счастливое` число это если после многократной замены его на сумму квадратов его цифр, в итоге получится 1. Например если число 7, заменяем его на 49. Потом заменяем 49 на 16 + 81 -> на 97. Потом на 81 + 49. И так далее пока не получим 1. `Доп задание` напечатать первые 10 счастливых чисел.   \n",
    "Write a Python program to check whether a number is \"happy\" or not."
   ]
  },
  {
   "cell_type": "code",
   "execution_count": null,
   "metadata": {},
   "outputs": [],
   "source": [
    "def happy_numbers(n):\n",
    "    past = set()                              # Set чтобы если вдруг повторились цифры, код не считался бесконечно.\n",
    "    while n != 1:\n",
    "        n = sum(int(i) ** 2 for i in str(n))\n",
    "        if n in past:\n",
    "            return False\n",
    "        past.add(n)\n",
    "    return True\n",
    "\n",
    "# Эта часть кода например если хотим напечатать первые 10 счастливых чисел.\n",
    "def get_first_n_happy_numbers(n):\n",
    "    happy_list = []\n",
    "    current = 1\n",
    "    while len(happy_list) < n:\n",
    "        if happy_numbers(current):\n",
    "            happy_list.append(current)\n",
    "        current += 1\n",
    "    return happy_list\n",
    "\n",
    "print(happy_numbers(7))\n",
    "get_first_n_happy_numbers(10)"
   ]
  },
  {
   "cell_type": "markdown",
   "metadata": {},
   "source": [
    "____\n",
    "152) У нас есть два слова. Их длина должна быть одинакова. И мы проверяем являются ли эти слова изоморфными. (То есть символ первой строки должен равняться символу второй. То есть буква `о` не может равняться одновремнно двум другим буквам другого слова.)   \n",
    "Check if two given strings are isomorphic to each other or not"
   ]
  },
  {
   "cell_type": "code",
   "execution_count": null,
   "metadata": {},
   "outputs": [],
   "source": [
    "def are_isomorphic(s1, s2):\n",
    "    if len(s1) != len(s2):\n",
    "        return False\n",
    "\n",
    "    map1 = {}\n",
    "    map2 = {}\n",
    "\n",
    "    for c1, c2 in zip(s1, s2):             # zip сделает следующее [('p','t'), ('a','i'), ('p','t'), ('e','l'), ('r','e')]\n",
    "        if map1.get(c1) != map2.get(c2):   # get дает значение по ключу, и если его нет выведет None вместо ошибки. get сильно сокращает код, так бы пришлось писать \"if c1 in map1\" и \"if c2 in map2\"\n",
    "            return False\n",
    "        map1[c1] = c2                      # Тут мы прописываем например что p = t, t = p\n",
    "        map2[c2] = c1\n",
    "\n",
    "    return True\n",
    "\n",
    "# Или так\n",
    "def are_isomorphic(s1, s2):\n",
    "    return [s1.index(c) for c in s1] == [s2.index(c) for c in s2]"
   ]
  },
  {
   "cell_type": "markdown",
   "metadata": {},
   "source": [
    "____\n",
    "153) Да, задача — найти самый длинный общий префикс среди массива строк. Если общего префикса нет — вернуть False. Для [\"abcdefgh\", \"abcefgh\"] → общий префикс \"abc\" .Для [\"dog\", \"cat\", \"bird\"] → нет общего префикса, вернуть False   \n",
    "Write a Python program to find the longest common prefix string among a given array of strings. Return false if there is no common prefix.\n",
    "For Example, longest common prefix of \"abcdefgh\" and \"abcefgh\" is \"abc\"."
   ]
  },
  {
   "cell_type": "code",
   "execution_count": null,
   "metadata": {},
   "outputs": [],
   "source": [
    "def longest_Common_Prefix(str1):\n",
    "    if not str1:\n",
    "        return False\n",
    "\n",
    "    short_str = min(str1, key=len)                          # Выбираем самое короткое слово, чтобы от него и искать.\n",
    "\n",
    "    for i, char in enumerate(short_str):\n",
    "        for other in str1:\n",
    "            if other[i] != char:\n",
    "                return short_str[:i] if i > 0 else False    # По идее эту часть с if i > 0 else False можно не писать, но просто нам не выведет True и будет ощущение что код не выполняется.\n",
    "\n",
    "    return short_str\n",
    "\n",
    "print(longest_Common_Prefix([\"abcdefgh\", \"abcefgh\"]))  # \"abc\"\n",
    "print(longest_Common_Prefix([\"dog\", \"cat\", \"bird\"]))   # False"
   ]
  },
  {
   "cell_type": "markdown",
   "metadata": {},
   "source": [
    "____\n",
    "154) Написать функцию, которая переворачивает порядок гласных букв в строке, при этом все остальные символы остаются на своих местах. Например Apple вернет как epplA.   \n",
    "Write a Python program to reverse only the vowels of a given string."
   ]
  },
  {
   "cell_type": "code",
   "execution_count": null,
   "metadata": {},
   "outputs": [],
   "source": [
    "def reverse_vowels(str1):\n",
    "    vowels = \"\"\n",
    "    for char in str1:\n",
    "        if char in \"aeiouAEIOU\":\n",
    "            vowels += char\n",
    "    result = \"\"\n",
    "    for char in str1:                        # Берем каждую букву из слова\n",
    "        if char in \"aeiouAEIOU\":             # Если буква гласная\n",
    "            result += vowels[-1]      # Берем последнюю гласную букву из vowels и вставляем в конечный результат\n",
    "            vowels = vowels[:-1]             # Потом обновляем vowels не включая эту самую последнюю букву\n",
    "        else:\n",
    "            result += char            # Если буква согласная, в конечный результат добавляем согласную\n",
    "    return result\n",
    "\n",
    "reverse_vowels('Apple')   # Выдаст нам epplA"
   ]
  },
  {
   "cell_type": "markdown",
   "metadata": {},
   "source": [
    "____\n",
    "155) Проверка палиндром ли число заданное.   "
   ]
  },
  {
   "cell_type": "code",
   "execution_count": null,
   "metadata": {},
   "outputs": [],
   "source": [
    "def palindrom(num):\n",
    "    num = str(num)\n",
    "    return num == num[::-1]"
   ]
  },
  {
   "cell_type": "markdown",
   "metadata": {},
   "source": [
    "____\n",
    "156) Написать функцию, которая принимает список чисел, и возвращает без дубликатов и еще возвращает количество этих цифр.   \n",
    "Write a Python program that removes duplicate elements from a given array of numbers so that each element appears only once and returns the new length of the array."
   ]
  },
  {
   "cell_type": "code",
   "execution_count": null,
   "metadata": {},
   "outputs": [],
   "source": [
    "def duplicat(nums):\n",
    "    nums = set(nums)\n",
    "    return nums, len(nums)\n",
    "\n",
    "duplicat([10,1,2,3,3,3,3])\n",
    "\n",
    "\n",
    "# Либо так через del\n",
    "def remove_duplicates(nums):\n",
    "    for i in range(len(nums)-1, 0, -1):  # Но тут стоит обязательно отметить, что такая реализация работает с учетом что мы получаем изначально отсортированный список, а в коде выше мы сразу сортируем.\n",
    "        if nums[i] == nums[i-1]:\n",
    "            del nums[i-1]\n",
    "    return len(nums)"
   ]
  },
  {
   "cell_type": "markdown",
   "metadata": {},
   "source": [
    "____\n",
    "157) Написать функцию которая считает максимальную прибыль от покупки и продажи акций. Список чисел это хронологический порядок цен на акции по дням с первого до последнего.      \n",
    "Write a Python program to calculate the maximum profit from selling and buying values of stock. An array of numbers represent the stock prices in chronological order."
   ]
  },
  {
   "cell_type": "code",
   "execution_count": null,
   "metadata": {},
   "outputs": [],
   "source": [
    "def buy_and_sell(stock_price):\n",
    "    max_profit = 0\n",
    "    max_val = 0\n",
    "\n",
    "    for price in reversed(stock_price):                  # Будет считать с [1, 20, 7, 1, 10, 5, 2, 30]. То есть в обратную сторону с последнего дня до первого.\n",
    "        max_val = max(max_val, price)                    # max из сначала 0,1 - получим 1\n",
    "        profit = max_val - price                         # profit = 1 - 1 = 0\n",
    "        max_profit = max(profit, max_profit)             # max_profit = max(0,0) Это всё первая итерация. Далее уже возьмем 20\n",
    "\n",
    "    return max_profit\n",
    "\n",
    "buy_and_sell([30,2,5,10,1,7,20,1])"
   ]
  },
  {
   "cell_type": "markdown",
   "metadata": {},
   "source": [
    "____\n",
    "158) Получаем список цифр, и значение. Например [1,2,3,4,4,5,3,2], 5. Надо удалить все 5 из списка с цифрами и вывести конечный список.   \n",
    "Write a Python program to remove all instances of a given value from a given array of integers and find the length of the newly created array."
   ]
  },
  {
   "cell_type": "code",
   "execution_count": null,
   "metadata": {},
   "outputs": [],
   "source": [
    "def delete(nums, target):\n",
    "    nums = [num for num in nums if num != target]   # Либо можно создать пустой список и методом append решить\n",
    "    return nums, len(nums)\n",
    "\n",
    "\n",
    "# Либо так, через remove\n",
    "def delete(nums, target):\n",
    "    index = 0\n",
    "    while index < len(nums):\n",
    "        if nums[index] == target:\n",
    "            nums.remove(nums[index])\n",
    "        else:\n",
    "            index += 1\n",
    "\n",
    "    return nums, len(nums)\n",
    "\n",
    "delete([1,2,3,3,3,3],3)"
   ]
  },
  {
   "cell_type": "markdown",
   "metadata": {},
   "source": [
    "____\n",
    "159) Написать прогу, которая возвращает нам начальную и конечную позицию числа. [1,2,3,3], 3. Должен вернуть нам [2,3]. Если нет нужного числа, должен вернуть [-1,-1].   \n",
    "Write a Python program to find the starting and ending position of a given value in an array of integers, sorted in ascending order.\n",
    "If the target is not found in the array, return [-1, -1]."
   ]
  },
  {
   "cell_type": "code",
   "execution_count": null,
   "metadata": {},
   "outputs": [],
   "source": [
    "def search_range(nums, target):\n",
    "    start = -1\n",
    "    end = -1\n",
    "\n",
    "    for i in range(len(nums)):\n",
    "        if nums[i] == target:           # Если число по индексу равно таргет числу\n",
    "            if start == -1:             # Такое написание значит \"если не найдено\". Если число по инд. равно тарг. числу например 2 = 2 и -1 = -1, то мы обновляем start и он будет 2 уже на след.итер.\n",
    "                start = i\n",
    "            end = i\n",
    "\n",
    "    return [start, end]"
   ]
  },
  {
   "cell_type": "markdown",
   "metadata": {},
   "source": [
    "____\n",
    "160) У нас есть цены на акции списком `[224, 236, 247, 258, 259, 225]`. Список отсортирован по дням. Нам нужно купить один раз и продать один раз и вывести максимально-возможную прибыль.   \n",
    "The price of a given stock on each day is stored in an array. Write a Python program to find the maximum profit in one transaction i.e., buy one and sell one share of the stock from the given price value of the said array. You cannot sell a stock before you buy one.   "
   ]
  },
  {
   "cell_type": "code",
   "execution_count": null,
   "metadata": {},
   "outputs": [],
   "source": [
    "def max_profit(prices):\n",
    "    min_p = prices[0]\n",
    "    max_profit = 0\n",
    "\n",
    "    for price in prices:\n",
    "        min_p = min(min_p, price)\n",
    "        profit = price - min_p\n",
    "        max_profit = max(max_profit, profit)\n",
    "\n",
    "    return max_profit\n",
    "\n",
    "\n",
    "prices = [224, 236, 247, 258, 259, 225]\n",
    "max_profit(prices)"
   ]
  },
  {
   "cell_type": "markdown",
   "metadata": {},
   "source": [
    "____\n",
    "161) У нас есть много списков из цифр (матрица). Мы должны вернуть или напечатать каждую строчку, но первая строка слева направа, вторая страка справа налево.   \n",
    "Write a Python program to print a given N by M matrix of numbers line by line in forward > backwards > forward >... order."
   ]
  },
  {
   "cell_type": "code",
   "execution_count": null,
   "metadata": {},
   "outputs": [],
   "source": [
    "def zigzag(matrix):\n",
    "    result = []\n",
    "    for i, row in enumerate(matrix):       # мы присваиваем индекс каждой строчке из цифр\n",
    "        if i % 2 == 0:\n",
    "            for value in row:\n",
    "                result.append(value)\n",
    "        else:\n",
    "            for value in reversed(row):\n",
    "                result.append(value)\n",
    "    return result\n",
    "\n",
    "matrix = [\n",
    "    [1, 2, 3, 4],\n",
    "    [5, 6, 7, 8],\n",
    "    [9, 10, 11, 12],\n",
    "    [13, 14, 15, 16]\n",
    "]\n",
    "\n",
    "zigzag(matrix)"
   ]
  },
  {
   "cell_type": "markdown",
   "metadata": {},
   "source": [
    "____\n",
    "162) Найти наибольшее произведение из трех чисел из заданного списка чисел.   \n",
    "Write a Python program to compute the largest product of three integers from a given list of integers."
   ]
  },
  {
   "cell_type": "code",
   "execution_count": null,
   "metadata": {},
   "outputs": [],
   "source": [
    "def max_product_of_three(nums):\n",
    "    if len(nums) < 3:\n",
    "        return False\n",
    "\n",
    "    nums.sort()\n",
    "    return max(\n",
    "        nums[-1] * nums[-2] * nums[-3],  # три максимальных\n",
    "        nums[0] * nums[1] * nums[-1]     # два минимальных и максимальное\n",
    "    )\n",
    "\n",
    "nums = [-10, -10, 5, 2]\n",
    "print(max_product_of_three(nums))        # Выведет 500"
   ]
  },
  {
   "cell_type": "markdown",
   "metadata": {},
   "source": [
    "____\n",
    "163) Надо написать функцию, которая находит первую положительную цифру, которой нет в исходном списке. [2, 3, 7, 6, 8, -1, -10, 15, 16] вернет нам 1. Если цифр нет, вернет тоже 1.      \n",
    "Write a Python program to find the first missing positive integer that does not exist in a given list."
   ]
  },
  {
   "cell_type": "code",
   "execution_count": null,
   "metadata": {},
   "outputs": [],
   "source": [
    "def first_num(nums):\n",
    "    if len(nums) == 0:\n",
    "        return 1\n",
    "\n",
    "    nums.sort()\n",
    "    min_num = 1\n",
    "\n",
    "    for i in range(len(nums)):\n",
    "        if nums[i] == min_num:\n",
    "            min_num += 1\n",
    "        elif nums[i] > min_num:\n",
    "            return min_num\n",
    "\n",
    "    return min_num\n",
    "\n",
    "first_num([2,3,-1,-3,6,7])"
   ]
  },
  {
   "cell_type": "markdown",
   "metadata": {},
   "source": [
    "____\n",
    "164) Вывести 10 рандомных чисел четных с 1 до 100 включительно.    \n",
    "Write a Python program to randomly generate a list of 10 even numbers between 1 and 100 inclusive."
   ]
  },
  {
   "cell_type": "code",
   "execution_count": null,
   "metadata": {},
   "outputs": [],
   "source": [
    "import random\n",
    "\n",
    "def rand():\n",
    "    return random.sample([n for n in range(1,100) if n % 2 ==0],10)   # sample в качестве аргумента принимает последовательность (например, список) и через запятую сколько надо.\n",
    "\n",
    "rand()\n",
    "\n",
    "# print(random.sample([i for i in range(1, 100) if i % 2 == 0], 10))   либо такой строчкой одной"
   ]
  },
  {
   "cell_type": "markdown",
   "metadata": {},
   "source": [
    "____\n",
    "165) Написать функцию, которая принимает список из цифр и выводит медиану (среднее упорядоченного списка по возрастанию)   \n",
    "Write a Python program to calculate the median from a list of numbers.   "
   ]
  },
  {
   "cell_type": "code",
   "execution_count": null,
   "metadata": {},
   "outputs": [],
   "source": [
    "def cal_median(nums):\n",
    "    nums = sorted(nums)\n",
    "    n = len(nums)\n",
    "    m = n // 2\n",
    "    if n % 2 == 0:\n",
    "        return (nums[m - 1] + nums[m]) / 2\n",
    "    else:\n",
    "        return nums[m]"
   ]
  },
  {
   "cell_type": "markdown",
   "metadata": {},
   "source": [
    "____\n",
    "166) Функция, которая принимает список из цифр, и возвращает сумму положительных цифр и возвращает количество отрицательных цифр в формате [1,15]   \n",
    "Write a Python program that accepts a list of numbers. Count the negative numbers and compute the sum of the positive numbers of the said list. Return these values through a list."
   ]
  },
  {
   "cell_type": "code",
   "execution_count": null,
   "metadata": {},
   "outputs": [],
   "source": [
    "def sum_neg(nums):\n",
    "    if not nums:\n",
    "        return []\n",
    "\n",
    "    return len([num for num in nums if num < 0]), sum([num for num in nums if num > 0])\n",
    "\n",
    "sum_neg([1,2,3,4,5])\n",
    "\n",
    "\n",
    "# Либо так\n",
    "def sum_neg(nums):\n",
    "    if not nums:\n",
    "        return []\n",
    "\n",
    "    minus = 0\n",
    "    plus = 0\n",
    "\n",
    "    for num in nums:\n",
    "        if num < 0:\n",
    "            minus += 1\n",
    "        elif num > 0:\n",
    "            plus += num\n",
    "\n",
    "    return minus, plus\n",
    "\n",
    "sum_neg([-1, -2, -3, -4, -5])"
   ]
  },
  {
   "cell_type": "markdown",
   "metadata": {},
   "source": [
    "____\n",
    "167) Проверить является ли слово изограммой (буквы в слове все разные и не повторяются)   \n",
    "Write a Python program to check whether a given string is an \"isogram\" or not."
   ]
  },
  {
   "cell_type": "code",
   "execution_count": null,
   "metadata": {},
   "outputs": [],
   "source": [
    "def isogram(word):\n",
    "    return len(word) == len(set(word.lower()))"
   ]
  },
  {
   "cell_type": "markdown",
   "metadata": {},
   "source": [
    "____\n",
    "168) Мы получаем 3 числа, надо вернуть количество дублирующихся значений. При [1,1,2] вернет нам 2. Можно усложнить задачу и еще написать функцию, когда у нас просто список из рандомного количества цифр. И мы должны получить какие именно цифры из списка являются дупликатами и сколько дублирующихся цифр.   \n",
    "Write a Python program to count the number of equal numbers from three given integers."
   ]
  },
  {
   "cell_type": "code",
   "execution_count": null,
   "metadata": {},
   "outputs": [],
   "source": [
    "def tree(a,b,c):\n",
    "    result = set([a,b,c])\n",
    "    if len(result) == 3:\n",
    "        return 0\n",
    "    else:\n",
    "        return 4 - len(result)\n",
    "\n",
    "tree(1,1,2)\n",
    "\n",
    "\n",
    "# Когда список цифр\n",
    "def count_dubl(nums):\n",
    "    dublicates = set()\n",
    "    seen = set()\n",
    "    for num in nums:\n",
    "        if num in seen:\n",
    "            dublicates.add(num)\n",
    "        else:\n",
    "            seen.add(num)\n",
    "\n",
    "    return len(dublicates), dublicates\n",
    "\n",
    "count_dubl([1,2,1,3,4,5,6,1,1,2])    # Вывод будет (2, {1,2})"
   ]
  },
  {
   "cell_type": "markdown",
   "metadata": {},
   "source": [
    "____\n",
    "169) Написать функцию которая проверяет является ли заданный код строкой либо из 8 либо из 12 символов и должно быть только цифрами код. True или False должно быть.      \n",
    "Write a Python program to check whether a given employee code is exactly 8 digits or 12 digits. Return True if the employee code is valid and False if it's not."
   ]
  },
  {
   "cell_type": "code",
   "execution_count": null,
   "metadata": {},
   "outputs": [],
   "source": [
    "def code(code):\n",
    "    return len(code) in [8,12] and code.isdigit()\n",
    "\n",
    "code('123456789101')"
   ]
  },
  {
   "cell_type": "markdown",
   "metadata": {},
   "source": [
    "____\n",
    "170) Нам дан список из цифр(могут быть как отрицательные так и положительные). И нам надо вернуть сумму первых трех самых маленьких положительных цифр.   \n",
    "Write a Python program to compute the sum of the three lowest positive numbers from a given list of numbers. "
   ]
  },
  {
   "cell_type": "code",
   "execution_count": null,
   "metadata": {},
   "outputs": [],
   "source": [
    "def posit(nums):\n",
    "    nums = sorted(nums)\n",
    "    return sum([num for num in nums if num > 0][:3])\n",
    "\n",
    "posit([-1,5,3,2,1])"
   ]
  },
  {
   "cell_type": "markdown",
   "metadata": {},
   "source": [
    "____\n",
    "171) Написать функцию, которая заменяет все символы звездочкой(маскирует) кроме последних 5 значений.   \n",
    "Write a Python program that replaces all but the last five characters of a string with \"*\" and returns the modified string."
   ]
  },
  {
   "cell_type": "code",
   "execution_count": null,
   "metadata": {},
   "outputs": [],
   "source": [
    "def mask_string(str1):\n",
    "    return '*' * (len(str1) - 5) + str1[-5:]   # Значит возьми длину всей строки и вычти 5 и змени звездочками и добавь к ним последние 5 символов."
   ]
  },
  {
   "cell_type": "markdown",
   "metadata": {},
   "source": [
    "____\n",
    "172) Написать функцию, которая маскирует часть номера телефона российского. Например номер +79284512345 превратит в +7 928 *** ** 45    "
   ]
  },
  {
   "cell_type": "code",
   "execution_count": null,
   "metadata": {},
   "outputs": [],
   "source": [
    "def mask_phone(phone):\n",
    "    clean_num = ''.join(filter(str.isdigit, phone))\n",
    "    if len(clean_num) != 11:\n",
    "        return 'Invalid number'\n",
    "    return f'{clean_num[0]}-{clean_num[1:4]}-***-**-{clean_num[-2:]}'\n",
    "\n",
    "print(mask_phone('+7-968-702-11-22'))  # 7-968-***-**-22"
   ]
  },
  {
   "cell_type": "markdown",
   "metadata": {},
   "source": [
    "____\n",
    "173) Написать функцию, которая маскирует почту. Например superman@gmail.com превращает в s******n@gmail.com   "
   ]
  },
  {
   "cell_type": "code",
   "execution_count": null,
   "metadata": {},
   "outputs": [],
   "source": [
    "def mask_mail(email):\n",
    "    if '@' not in email:\n",
    "        return 'Invalid mail'\n",
    "    name, domain = email.split('@')\n",
    "    if len(name) <= 2:\n",
    "        return '*' * len(name) + '@' + domain\n",
    "    return name[0] + '*' * (len(name) - 2) + name[-1] + '@' + domain\n",
    "\n",
    "mask_mail('superman@gmail.com')"
   ]
  },
  {
   "cell_type": "markdown",
   "metadata": {},
   "source": [
    "____\n",
    "174) Функция, которая возвращает число аргументов в функции.   \n",
    "Write a Python program to count the number of arguments in a given function."
   ]
  },
  {
   "cell_type": "code",
   "execution_count": null,
   "metadata": {},
   "outputs": [],
   "source": [
    "def chislo(*args):\n",
    "    return len(args)\n",
    "\n",
    "chislo([1,2,3])   # Вернет 1\n",
    "chislo(1,2,3)     # Вернет 3"
   ]
  },
  {
   "cell_type": "markdown",
   "metadata": {},
   "source": [
    "____\n",
    "175) Написать функцию, которая считает кумулятивную сумму заданного списка. Из такого [1,2,3,4] вернет [1,3,6,10].   \n",
    "Write a Python program to compute the cumulative sum of numbers in a given list."
   ]
  },
  {
   "cell_type": "code",
   "execution_count": null,
   "metadata": {},
   "outputs": [],
   "source": [
    "def cumulative_sum(nums):\n",
    "    result = []\n",
    "    total = 0\n",
    "    for num in nums:\n",
    "        total += num\n",
    "        result.append(total)\n",
    "    return result\n",
    "\n",
    "cumulative_sum([1,2,3,4])"
   ]
  },
  {
   "cell_type": "markdown",
   "metadata": {},
   "source": [
    "____\n",
    "176) Написать функцию которая принимает строку и возвращает нам значение из середины. А если количество символов четное - возвращает средние два значения.   \n",
    "Write a Python program to find the central character(s) of a given string. Return the two middle characters if the length of the string is even. Return the middle character if the length of the string is odd."
   ]
  },
  {
   "cell_type": "code",
   "execution_count": null,
   "metadata": {},
   "outputs": [],
   "source": [
    "def middle(string):\n",
    "    n = len(string)\n",
    "    mid = n // 2\n",
    "    if n % 2 == 0:\n",
    "        return string[mid - 1: mid + 1]\n",
    "    else:\n",
    "        return string[mid]\n",
    "\n",
    "middle('text')"
   ]
  },
  {
   "cell_type": "markdown",
   "metadata": {},
   "source": [
    "____\n",
    "177) Найти наибольшее произведение пары соседних элементов в списке целых чисел.   \n",
    "Write a Python program to find the largest product of a pair of adjacent elements from a given list of integers."
   ]
  },
  {
   "cell_type": "code",
   "execution_count": null,
   "metadata": {},
   "outputs": [],
   "source": [
    "def adjacent_num_product(lst):\n",
    "    if len(lst) < 2:\n",
    "        return None\n",
    "    max_product = lst[0] * lst[1]         # Начальное значение\n",
    "\n",
    "    for i in range(1, len(lst) - 1):\n",
    "        product = lst[i] * lst[i + 1]\n",
    "        if product > max_product:\n",
    "            max_product = product\n",
    "    return max_product\n",
    "\n",
    "# Или так короче\n",
    "def adjacent_num_product(list_nums):\n",
    "    return max(a * b for a, b in zip(list_nums, list_nums[1:]))\n",
    "\n",
    "# list_nums      = [a, b, c, d]\n",
    "# list_nums[1:]  =    [b, c, d]\n",
    "#                    ↑  ↑  ↑\n",
    "#                    │  │  │\n",
    "#                    │  │  └── (c, d)\n",
    "#                    │  └───── (b, c)\n",
    "#                    └─────── (a, b)"
   ]
  },
  {
   "cell_type": "markdown",
   "metadata": {},
   "source": [
    "____\n",
    "178) Написать функцию которая проверяет что под каждым четным индекс - четное число, и под нечетным индексом - нечетное.   \n",
    "Write a Python program that checks whether every even index contains an even number and every odd index contains an odd number of a given list."
   ]
  },
  {
   "cell_type": "code",
   "execution_count": null,
   "metadata": {},
   "outputs": [],
   "source": [
    "def checkeven(nums):\n",
    "    return all(nums[i] % 2 == i % 2 for i in range(len(nums)))\n",
    "\n",
    "checkeven([2,1,2,3])\n",
    "\n",
    "# Или так\n",
    "def checkeven2(nums):\n",
    "    for i in range(len(nums)):\n",
    "        if nums[i] % 2 == i % 2:\n",
    "            return True\n",
    "    return False\n",
    "\n",
    "checkeven2([2,1,2,3])\n",
    "\n",
    "# Ну или так\n",
    "def checkeven3(nums):\n",
    "    for i, num in enumerate(nums):\n",
    "        if num % 2 == i % 2:\n",
    "            return True\n",
    "    return False\n",
    "\n",
    "checkeven3([2,1,2,3])"
   ]
  },
  {
   "cell_type": "markdown",
   "metadata": {},
   "source": [
    "____\n",
    "179) Написать функцию, которая проверяет введенное число является нарциссическим числом или нет. (123) - 3 числа. Значит если 1 в степени 3 + 2 в степени 3 + 3 в степени 3 равно 123 значит True.   \n",
    "Write a Python program to check whether a given number is a narcissistic number or not."
   ]
  },
  {
   "cell_type": "code",
   "execution_count": null,
   "metadata": {},
   "outputs": [],
   "source": [
    "def is_narcissistic_num(num):\n",
    "    return num == sum([int(x) ** len(str(num)) for x in str(num)])\n",
    "\n",
    "is_narcissistic_num(153)"
   ]
  },
  {
   "cell_type": "markdown",
   "metadata": {},
   "source": [
    "____\n",
    "180) Наибольшее и наименьшее число в строке, где числа идут через пробел.      \n",
    "Highest and lowest in string"
   ]
  },
  {
   "cell_type": "code",
   "execution_count": null,
   "metadata": {},
   "outputs": [],
   "source": [
    "def highest_lowest_num(str1):\n",
    "    num_list = list(map(int, str1.split()))\n",
    "    return max(num_list), min(num_list)"
   ]
  },
  {
   "cell_type": "markdown",
   "metadata": {},
   "source": [
    "____\n",
    "181) Функция, которая проверяет является ли список из чисел возрастающим или нет [1,2,3,4] - да. [2,3,1,5] - нет.   \n",
    "Write a Python program to check whether a sequence of numbers has an increasing trend or not."
   ]
  },
  {
   "cell_type": "code",
   "execution_count": null,
   "metadata": {},
   "outputs": [],
   "source": [
    "def increasing_trend(nums):\n",
    "    return sorted(nums) == nums\n",
    "\n",
    "# Или так, если хотим возрастающий список и без повторений.\n",
    "def increas(nums):\n",
    "    return sorted(nums) == nums and len(nums) == len(set(nums))"
   ]
  },
  {
   "cell_type": "markdown",
   "metadata": {},
   "source": [
    "____\n",
    "182) Написать функцию, которая ищет позицию где заданное слово или текст встечается во второй раз в тексте. Мы принимаем два значения изначально.   \n",
    "Write a Python program to find the position of the second occurrence of a given string in another given string. If there is no such string return -1."
   ]
  },
  {
   "cell_type": "code",
   "execution_count": null,
   "metadata": {},
   "outputs": [],
   "source": [
    "def find_string(txt, str1):\n",
    "    return txt.find(str1, txt.find(str1) + 1)\n",
    "\n",
    "# Либо так плюс еще с lower\n",
    "def findim(text, word):\n",
    "    text_lower = text.lower()\n",
    "    word_lower = word.lower()\n",
    "    first = text_lower.find(word_lower)\n",
    "    return text_lower.find(word_lower, first + 1)"
   ]
  },
  {
   "cell_type": "markdown",
   "metadata": {},
   "source": [
    "____\n",
    "183) Вывести сумму умножения чисел на их индекс.   \n",
    "Write a Python program to compute the sum of all items in a given array of integers where each integer is multiplied by its index. Return 0 if there is no number."
   ]
  },
  {
   "cell_type": "code",
   "execution_count": null,
   "metadata": {},
   "outputs": [],
   "source": [
    "def sum_index_multiplier(nums):\n",
    "    return sum(j * i for i, j in enumerate(nums))\n",
    "\n",
    "# То же самое только через цикл for\n",
    "def sum_index(nums):\n",
    "    total = 0\n",
    "    for index, num in enumerate(nums):\n",
    "        total += index * num\n",
    "    return total\n",
    "\n",
    "# Или так\n",
    "def sum_index(nums):\n",
    "    total = 0\n",
    "    for i in range(len(nums)):\n",
    "        total += nums[i] * i\n",
    "    return total"
   ]
  },
  {
   "cell_type": "markdown",
   "metadata": {},
   "source": [
    "____\n",
    "184) Нам надо вернуть имя и фамилию студента который старше всех. `\"Kristie Lopes\": 21` получаем данные в таком формате.   \n",
    "Write a Python program to find the name of the oldest student in a given dictionary containing the names and ages of a group of students."
   ]
  },
  {
   "cell_type": "code",
   "execution_count": null,
   "metadata": {},
   "outputs": [],
   "source": [
    "def oldest_student(students):\n",
    "    oldest_name = None\n",
    "    oldest_age = -1\n",
    "    for name, age in students.items():\n",
    "        if age > oldest_age:\n",
    "            oldest_age = age\n",
    "            oldest_name = name\n",
    "\n",
    "    return name\n",
    "\n",
    "oldest_student({\"David Jones\": 22,\n",
    "                \"John Smith\": 21,\n",
    "                \"Sara Eniston\": 24,\n",
    "                \"Tom Riddle\": 21,\n",
    "                \"Endy Brown\": 25})\n",
    "\n",
    "# Одной строчкой\n",
    "def oldest_student(students):\n",
    "    return max(students, key=students.get)     # key это специальный параметр.\n",
    "\n",
    "def oldest_student(students):\n",
    "    name = max(students, key = students.get)\n",
    "    return name, students[name]                # Если хотим вернуть не только имя, но и возраст"
   ]
  },
  {
   "cell_type": "markdown",
   "metadata": {},
   "source": [
    "____\n",
    "185) Написать функцию, которая получает строку и выводит текст без подряд идущих дулирующихся букв. DDAAVVIID = DAVID.   \n",
    "Write a Python program to create a string with no duplicate consecutive letters from a given string."
   ]
  },
  {
   "cell_type": "code",
   "execution_count": null,
   "metadata": {},
   "outputs": [],
   "source": [
    "def no_consecutive_letters(txt):\n",
    "    return txt[0] + ''.join(txt[i] for i in range(1, len(txt)) if txt[i] != txt[i-1])\n",
    "\n",
    "\n",
    "# Или так\n",
    "def no_consecutive_letters(txt):\n",
    "    if not txt:\n",
    "        return \"\"\n",
    "    result = txt[0]\n",
    "    for i in range(1, len(txt)):\n",
    "        if txt[i] != txt[i-1]:\n",
    "            result += txt[i]\n",
    "\n",
    "    return result\n",
    "\n",
    "no_consecutive_letters('TThhhhhanos')"
   ]
  },
  {
   "cell_type": "markdown",
   "metadata": {},
   "source": [
    "____\n",
    "186) Найти в заданной матрице число, которое одновременно: максимально в своём столбце, и минимально в своей строке.   \n",
    "Write a Python program to find a number in a given matrix that is maximum in its column and minimum in its row."
   ]
  },
  {
   "cell_type": "code",
   "execution_count": null,
   "metadata": {},
   "outputs": [],
   "source": [
    "def matrix_number(matrix):\n",
    "    result = set(map(min, matrix)) & set(map(max, zip(*matrix)))     # & это знак пересечения который работает только с уникальными значениями set.  zip(*matrix) это очень уникальный трюк,\n",
    "    return list(result)                                              # который меняет местами строки и столбцы.\n",
    "\n",
    "matrix = [\n",
    "    [1, 2, 3],\n",
    "    [4, 1, 6],\n",
    "    [7, 8, 1]\n",
    "]\n",
    "matrix_number(matrix)   # Вернет [] так как нет таких цифр."
   ]
  },
  {
   "cell_type": "markdown",
   "metadata": {},
   "source": [
    "____\n",
    "187) Написать функцию, которая принимает список и определяет, к какой последовательности относится, к линейной, квадратичной или кубической.   \n",
    "Write a Python program to check whether a given sequence is linear, quadratic or cubic."
   ]
  },
  {
   "cell_type": "code",
   "execution_count": null,
   "metadata": {},
   "outputs": [],
   "source": [
    "def Seq_Linear_Quadratic_Cubic(seq_nums):\n",
    "    first_diff = [seq_nums[i] - seq_nums[i-1] for i in range(1, len(seq_nums))]\n",
    "    second_diff = [first_diff[i] - first_diff[i-1] for i in range(1, len(first_diff))]\n",
    "    third_diff = [second_diff[i] - second_diff[i-1] for i in range(1, len(second_diff))]\n",
    "    if len(set(first_diff)) == 1:\n",
    "        return 'Linear'\n",
    "    elif len(set(second_diff)) == 1:\n",
    "        return 'Quadratic'\n",
    "    elif len(set(third_diff)) == 1:\n",
    "        return 'Cubic'\n",
    "    return None                                     # Суть формулы в том, что мы считаем разности чисел с первого элемента, а не нулевого.\n",
    "\n",
    "print(Seq_Linear_Quadratic_Cubic([1, 2, 3]))        # Линейная\n",
    "print(Seq_Linear_Quadratic_Cubic([1, 4, 9, 16]))    # Квадратичная\n",
    "print(Seq_Linear_Quadratic_Cubic([1, 8, 27, 64]))   # Кубическая"
   ]
  },
  {
   "cell_type": "markdown",
   "metadata": {},
   "source": [
    "____\n",
    "188) Проверить пандигитальное или нет — это число, которое содержит в своём десятичном представлении все цифры от 1 до 9 ровно по одному разу или от 0 до 9.   \n",
    "Write a Python program to test whether a given integer is a Pandigital number or not."
   ]
  },
  {
   "cell_type": "code",
   "execution_count": null,
   "metadata": {},
   "outputs": [],
   "source": [
    "def pandig(num):\n",
    "    return len(set(str(num))) == 10\n",
    "\n",
    "pandig('0123456788')"
   ]
  },
  {
   "cell_type": "markdown",
   "metadata": {},
   "source": [
    "____\n",
    "189) Написать функцию, которая проверяет сумма чисел заданного значения четная или нет. Oddish если нечетная, Evenish если четная.   \n",
    "Write a Python program to check whether a given number is odd or even. A number is called \"Oddish\" if the sum of all of its digits is odd, and a number is called \"Evenish\" if the sum of all of its digits is even."
   ]
  },
  {
   "cell_type": "code",
   "execution_count": null,
   "metadata": {},
   "outputs": [],
   "source": [
    "def oddish(num):\n",
    "    return 'Oddish' if sum(map(int, str(num))) % 2 else 'Evenish'"
   ]
  },
  {
   "cell_type": "markdown",
   "metadata": {},
   "source": [
    "____\n",
    "190) Функция, которая получает три числа и проверяет равняется ли последнее значение 3 числа сумме последних значений 1 и 2 числа. (11,12,43) вернет нам True, так как 1 + 2 = 3.   \n",
    "Write a Python program that takes three integers and checks whether the sum of the last digit of the first number and the last digit of the second number equals the last digit of the third number."
   ]
  },
  {
   "cell_type": "code",
   "execution_count": null,
   "metadata": {},
   "outputs": [],
   "source": [
    "def check(a,b,c):\n",
    "    return str(a+b)[-1] == str(c)[-1]\n",
    "\n",
    "check(11,12,43)"
   ]
  },
  {
   "cell_type": "markdown",
   "metadata": {},
   "source": [
    "____\n",
    "191) Написать функцию, которая принимает список чисел и таргет число, и возвращает все индексы на которых этот элемент встречается в списке.   \n",
    "Write a Python program to find the indices of all occurrences of a given item in a given list."
   ]
  },
  {
   "cell_type": "code",
   "execution_count": null,
   "metadata": {},
   "outputs": [],
   "source": [
    "def indices(nums,target):\n",
    "    result = []\n",
    "    for i,val in enumerate(nums):\n",
    "        if val == target:\n",
    "            result.append(i)\n",
    "    return result\n",
    "\n",
    "indices([1,2,3,4,1],1)\n",
    "\n",
    "\n",
    "# Или через генераторы одной строчкой\n",
    "def indices(nums, target):\n",
    "    return [i for i, val in enumerate(nums) if val == target]"
   ]
  },
  {
   "cell_type": "markdown",
   "metadata": {},
   "source": [
    "____\n",
    "192) Написать функцию которая получает список, и возвращает уникальный список из цифр, которые встречаются только один раз (удаляет все дубликаты).   \n",
    "Write a Python program to remove duplicate numbers from a given list of numbers."
   ]
  },
  {
   "cell_type": "code",
   "execution_count": null,
   "metadata": {},
   "outputs": [],
   "source": [
    "from collections import Counter\n",
    "\n",
    "def unique_nums(nums):\n",
    "    counts = Counter(nums)\n",
    "    return [num for num in nums if counts[num] == 1]\n",
    "\n",
    "print(unique_nums([1,2,3,3,4,4,5,5,6]))  # Вернет [1, 2, 6]\n",
    "\n",
    "\n",
    "# Или так\n",
    "def unique_nums(nums):\n",
    "    return [num for num in nums if nums.count(num) == 1]   # Но с counter код работает быстрее\n",
    "\n",
    "unique_nums([1,2,3,3,4,4,5,5,6])"
   ]
  },
  {
   "cell_type": "markdown",
   "metadata": {},
   "source": [
    "____\n",
    "193) Написать функцию, которая считает абсолютную дитанцию(разницу) между двумя цифрами. С 123 и 256 получим |1-2| + |2-5| + |3-6| = 7.    \n",
    "Write a Python program to compute the digit distance between two integers. Digit distance of 123 and 256 is Since |1 - 2| + |2 - 5| + |3 - 6| = 1 + 3 + 3 = 7"
   ]
  },
  {
   "cell_type": "code",
   "execution_count": null,
   "metadata": {},
   "outputs": [],
   "source": [
    "def digit_distance_nums(num1, num2):\n",
    "    return sum(abs(i - j) for i, j in zip(map(int, str(num1)), map(int, str(num2))))\n",
    "\n",
    "digit_distance_nums(509,89)\n",
    "\n",
    "\n",
    "# Этот код лучше, так как если мы получаем цифры разной длины, zip игнорирует последнюю, а так с помощью zfill мы добавляем 0 справа.\n",
    "def digit_distance_nums(num1, num2):\n",
    "    str1, str2 = str(num1), str(num2)\n",
    "    max_len = max(len(str1), len(str2))\n",
    "    str1 = str1.zfill(max_len)\n",
    "    str2 = str2.zfill(max_len)\n",
    "    return sum(abs(int(a) - int(b)) for a, b in zip(str1, str2))"
   ]
  },
  {
   "cell_type": "markdown",
   "metadata": {},
   "source": [
    "____\n",
    "194) Написать функцию, которая берет текст и реверсит все слова у которых сумма количества букв нечетная.   \n",
    "Write a Python program to reverse all words of odd lengths."
   ]
  },
  {
   "cell_type": "code",
   "execution_count": null,
   "metadata": {},
   "outputs": [],
   "source": [
    "def reverse_odd(text):\n",
    "    words = text.split()\n",
    "    result = []\n",
    "    for word in words:\n",
    "        if len(word) % 2 != 0:\n",
    "            result.append(word[::-1])\n",
    "        else:\n",
    "            result.append(word)\n",
    "    return ' '.join(result)\n",
    "\n",
    "\n",
    "# Или так короче\n",
    "def reverse_even(txt):\n",
    "    reversed_words = [i[::-1] if len(i) % 2 == 0 else i for i in txt.split()]   # Если написать i[::-1] for i in txt.split..... он вернет только четные, а остальные удалит\n",
    "    return ' '.join(reversed_words)\n",
    "\n",
    "reverse_even('Brown fox is clever beast')"
   ]
  },
  {
   "cell_type": "markdown",
   "metadata": {},
   "source": [
    "____\n",
    "195) Написать функцию, которая печатает англ алфавит от a-z и от A-Z.   \n",
    "Write a Python program to print letters from the English alphabet from a-z and A-Z."
   ]
  },
  {
   "cell_type": "code",
   "execution_count": null,
   "metadata": {},
   "outputs": [],
   "source": [
    "import string\n",
    "\n",
    "print(\"Alphabet from a-z:\")\n",
    "for letter in string.ascii_uppercase:    # uppercase для заглавных, lowercase для строчных.\n",
    "    print(letter, end=' ')               # По умолчанию print завершает строку символом \\n, то есть печатает всё в столбик. end = ' ' значит что вместо переноса будет ставится пробел просто и всё."
   ]
  },
  {
   "cell_type": "markdown",
   "metadata": {},
   "source": [
    "____\n",
    "196) Написать функцию, которая возвращает все составные числа от 1 до 100 включительно. (Все числа кроме простых)   \n",
    "Write a Python program to identify non-prime numbers between 1 and 100 (integers). Print the non-prime numbers."
   ]
  },
  {
   "cell_type": "code",
   "execution_count": null,
   "metadata": {},
   "outputs": [],
   "source": [
    "def not_primes():\n",
    "    result = []\n",
    "    for num in range(1, 101):\n",
    "        if num < 2:\n",
    "            result.append(num)\n",
    "        else:\n",
    "            for i in range(2, int(num**0.5) + 1):\n",
    "                if num % i == 0:\n",
    "                    result.append(num)\n",
    "                    break\n",
    "    return result\n",
    "\n",
    "# Или так\n",
    "def not_primes():\n",
    "    result = [1]\n",
    "    for num in range(2, 101):\n",
    "        for i in range(2, int(num**0.5) + 1):\n",
    "            if num % i == 0:\n",
    "                result.append(num)\n",
    "                break\n",
    "    return result\n",
    "\n",
    "\n",
    "# короткая версия\n",
    "def not_primes():\n",
    "    return [n for n in range(1, 101) if n < 2 or any(n % d == 0 for d in range(2, int(n**0.5) + 1))]"
   ]
  },
  {
   "cell_type": "markdown",
   "metadata": {},
   "source": [
    "____\n",
    "197) Написать код на Python делает HTTP-запрос к веб-странице и выводит её HTML-код, если запрос успешен.   \n",
    "Write a Python program to make a request to a web page, and test the status code, and display the HTML code of the specified web page."
   ]
  },
  {
   "cell_type": "code",
   "execution_count": null,
   "metadata": {},
   "outputs": [],
   "source": [
    "import requests\n",
    "\n",
    "url = 'http://www.example.com/'\n",
    "headers = {'User-Agent': 'Mozilla/5.0 (Macintosh) Gecko/20100101 Firefox/38.0'}   # User-Agent нужен, чтобы \"представиться браузером\". Это нужно, чтобы сервер не заблокировал наш скрипт как \"бота\".\n",
    "request = requests.get(url, headers=headers)\n",
    "\n",
    "\n",
    "print(\"Web page status: \", request)        # Если ответ от сервера в диапазоне от 200-399 значит ок.\n",
    "\n",
    "if request.ok:                             # request.ok проверяет запрос успешен или нет\n",
    "    print(request.text)"
   ]
  },
  {
   "cell_type": "markdown",
   "metadata": {},
   "source": [
    "___\n",
    "198) Проверить true false являются ли два заданных числа взаимно простыми. (Если у них нет общих делителей кроме `1`)   \n",
    "Write a Python program to check if two given numbers are Co Prime or not. Return True if two numbers are Co Prime otherwise return false."
   ]
  },
  {
   "cell_type": "code",
   "execution_count": null,
   "metadata": {},
   "outputs": [],
   "source": [
    "def obsh(a,b):\n",
    "    while b != 0:\n",
    "        a, b = b, a % b\n",
    "    return a                       # Алгоритм Евклида (Можно нижнюю функцию не писать, а просто тут return a == 1)\n",
    "\n",
    "def is_comprime(x, y):\n",
    "    return obsh(x, y) == 1\n",
    "\n",
    "is_comprime(5,11)\n",
    "\n",
    "\n",
    "# Или так через import math\n",
    "import math\n",
    "\n",
    "def are_coprime(a, b):\n",
    "    return math.gcd(a, b) == 1"
   ]
  },
  {
   "cell_type": "markdown",
   "metadata": {},
   "source": [
    "____\n",
    "199) Функция, которая считает сколько чисел от 1 до n включительно являются взаимно простыми с числом n. Например если вводим 5 то с числом 5 взаимно простые - 1,2,3,4 то есть вернет нам 4.   \n",
    "Write a Python program to calculate Euclid's totient function for a given integer. Use a primitive method to calculate Euclid's totient function."
   ]
  },
  {
   "cell_type": "code",
   "execution_count": null,
   "metadata": {},
   "outputs": [],
   "source": [
    "def obsh(a,b):\n",
    "    while b != 0:\n",
    "        a, b = b, a % b\n",
    "    return a\n",
    "\n",
    "def phi(n):\n",
    "    count = 0\n",
    "    for i in range(1, n + 1):\n",
    "        if gcd(i, n) == 1:\n",
    "            count += 1\n",
    "    return count\n",
    "\n",
    "phi(n)"
   ]
  },
  {
   "cell_type": "markdown",
   "metadata": {},
   "source": [
    "____\n",
    "200) Написать функцию, которая кодирует строчку заменяя 'P' на '9', 'T' на '0', 'S' на '1', 'H' на '6' and 'A' на '8'   \n",
    "Write a Python program to create a coded string from a given string, using a specified formula. Replace all 'P' with '9', 'T' with '0', 'S' with '1', 'H' with '6' and 'A' with '8'"
   ]
  },
  {
   "cell_type": "code",
   "execution_count": null,
   "metadata": {},
   "outputs": [],
   "source": [
    "def code(text):\n",
    "    coded = text.translate(str.maketrans('PTSHA', '90168'))    # translate() и maketrans() работают только со строками.\n",
    "    # text = text.replace('P', '9').replace('T', '0').replace('S', '1').replace('H', '6')      replace всего вместе нельзя сделать, только по очереди, что неудобно и он медленнее чем translate\n",
    "    return coded\n",
    "\n",
    "code('PenSil')"
   ]
  },
  {
   "cell_type": "markdown",
   "metadata": {},
   "source": [
    "____\n",
    "201) Функция, которая удаляет первый и последний символ строки, если строка не меньше 3 символов. А если меньше, пусть вернет всю строку.   \n",
    "Write a Python program to remove the first and last elements from a given string."
   ]
  },
  {
   "cell_type": "code",
   "execution_count": null,
   "metadata": {},
   "outputs": [],
   "source": [
    "def remove(word):\n",
    "    if len(word) < 3:\n",
    "        return word\n",
    "    else:\n",
    "        return word[1:-1]\n",
    "\n",
    "remove('Silva')"
   ]
  },
  {
   "cell_type": "markdown",
   "metadata": {},
   "source": [
    "____\n",
    "202) Функция, которая проверяет наша строка включает в себя две одинаковые подряд идущих символа или нет.   \n",
    "Write a Python program to check if a given string contains two similar consecutive letters."
   ]
  },
  {
   "cell_type": "code",
   "execution_count": null,
   "metadata": {},
   "outputs": [],
   "source": [
    "def test(str1):\n",
    "    return any(c1 == c2 for c1, c2 in zip(str1, str1[1:]))\n",
    "\n",
    "\n",
    "# Медленнее вариант\n",
    "def has_consecutive_duplicates(s):\n",
    "    for i in range(len(s) - 1):\n",
    "        if s[i] == s[i + 1]:\n",
    "            return True\n",
    "    return False"
   ]
  },
  {
   "cell_type": "markdown",
   "metadata": {},
   "source": [
    "____\n",
    "203) Написать функцию, которая проверяет является ли среднее арифмитическое число из списка целым.   \n",
    "Write a Python program to check whether the average value of the elements of a given array of numbers is a whole number or not."
   ]
  },
  {
   "cell_type": "code",
   "execution_count": null,
   "metadata": {},
   "outputs": [],
   "source": [
    "def average(nums):\n",
    "    return sum(nums) % len(nums) == 0\n",
    "\n",
    "# Либо так, через is_integer\n",
    "def is_average_whole(arr):\n",
    "    avg = sum(arr) / len(arr)\n",
    "    return avg.is_integer()"
   ]
  },
  {
   "cell_type": "markdown",
   "metadata": {},
   "source": [
    "____\n",
    "204) Функция, которая удаляет из текса гласные `aeiouAEIOU`   \n",
    "Write a Python program to remove all vowels from a given string."
   ]
  },
  {
   "cell_type": "code",
   "execution_count": null,
   "metadata": {},
   "outputs": [],
   "source": [
    "def test(text):\n",
    "    vowels = \"aeiouAEIOU\"\n",
    "    return ''.join([char for char in text if char not in vowels])\n",
    "\n",
    "# Либо так\n",
    "def test(text):\n",
    "    vowels = \"aeiouAEIOU\"\n",
    "    for v in vowels:\n",
    "        text = text.replace(v, '')\n",
    "    return text"
   ]
  },
  {
   "cell_type": "markdown",
   "metadata": {},
   "source": [
    "____\n",
    "205) Функция, которая получает индексы всех строчных букв в тексте или слове.   \n",
    "Write a Python program to get the index number of all lower case letters in a given string."
   ]
  },
  {
   "cell_type": "code",
   "execution_count": null,
   "metadata": {},
   "outputs": [],
   "source": [
    "def lower2(text):\n",
    "    result = []\n",
    "    for i in range(len(text)):\n",
    "        if text[i].islower():\n",
    "            result += [i]\n",
    "    return result\n",
    "\n",
    "lower2('BarcElOnA')\n",
    "\n",
    "# Либо короче и проще\n",
    "def lower2(text):\n",
    "    return [i for i, char in enumerate(text) if char.islower()]"
   ]
  },
  {
   "cell_type": "markdown",
   "metadata": {},
   "source": [
    "____\n",
    "206) Функцию, которая проверяет, полученный месяц и год включают в себя понедельник 13 числа или нет.   \n",
    "Write a Python program to check whether a given month and year contains a Monday 13th."
   ]
  },
  {
   "cell_type": "code",
   "execution_count": null,
   "metadata": {},
   "outputs": [],
   "source": [
    "# Через datetime\n",
    "from datetime import date\n",
    "\n",
    "def monday(month, year):\n",
    "    is_mon = date(year, month, 13).strftime(\"%A\") == 'Monday'     # '%A' это длинное название дня недели.   strftime форматирование времени в строку.\n",
    "    return str(is_mon)\n",
    "\n",
    "monday(6, 2022)\n",
    "\n",
    "# Через календарь\n",
    "import calendar\n",
    "\n",
    "def test(month, year):\n",
    "    is_mon = calendar.weekday(year, month, 13) == 0                # 0 для понедельника 6 для воскресенья\n",
    "    return str(is_mon)\n"
   ]
  },
  {
   "cell_type": "markdown",
   "metadata": {},
   "source": [
    "____\n",
    "207) Написать функцию, которая ищет все делители заданного числа. 12 например имеет 6 делителей. Функция должна вернуть нам 1,2,3,4,6,12.   \n",
    "Write a Python program to find all the factors of a given natural number."
   ]
  },
  {
   "cell_type": "code",
   "execution_count": null,
   "metadata": {},
   "outputs": [],
   "source": [
    "def alldel(num):\n",
    "    result = []\n",
    "    if num == 0:\n",
    "        return False\n",
    "    for i in range(1, num+1):\n",
    "        if num % i == 0:\n",
    "            result.append(i)\n",
    "    return result\n",
    "\n",
    "alldel(12)\n",
    "\n",
    "\n",
    "# Так лучше. Во-первых через set быстрее, во вторых с большими числами мы подбираем до квадратного корня заданного числа, что сильно упрощает нам задачу.\n",
    "def alldel(num):\n",
    "    result = set()\n",
    "    if num == 0:\n",
    "        return False\n",
    "    for i in range(1, int(num**0.5)+1):\n",
    "        if num % i == 0:\n",
    "            result.add(i)\n",
    "            result.add(num // i)\n",
    "    return sorted(result)\n",
    "\n",
    "alldel(12)"
   ]
  },
  {
   "cell_type": "markdown",
   "metadata": {},
   "source": [
    "____\n",
    "208) Написать функцию, которая чередует регистр букв в строке, начиная с заглавной.   \n",
    "Write a Python program that alternates the case of each letter in a given string, with the first letter in the string being uppercase."
   ]
  },
  {
   "cell_type": "code",
   "execution_count": null,
   "metadata": {},
   "outputs": [],
   "source": [
    "def alternate(text):\n",
    "    result = ''\n",
    "    upper = True\n",
    "    for char in text:\n",
    "        if char.isalpha():\n",
    "            result += char.upper() if upper else char.lower()\n",
    "            upper = not upper\n",
    "        else:\n",
    "            result += char\n",
    "    return result\n",
    "\n",
    "alternate('Smetana')"
   ]
  },
  {
   "cell_type": "markdown",
   "metadata": {},
   "source": [
    "____\n",
    "209) Написать программу на Python, которая вычисляет наименьшее общее кратное (НОК, LCM) для более чем двух чисел из списка положительных целых чисел.    \n",
    "Write a Python program that calculates the Least Common Multiple (LCM) of more than two numbers. The numbers should be taken from a given list of positive integers.   "
   ]
  },
  {
   "cell_type": "code",
   "execution_count": null,
   "metadata": {},
   "outputs": [],
   "source": [
    "def gcd(a, b):\n",
    "    while b != 0:\n",
    "        a, b = b, a % b                # Нашли наибольший общий делитель. Евклидов алгоритм\n",
    "    return a\n",
    "\n",
    "def lcm_two(a, b):\n",
    "    return a * b // gcd(a, b)          # Нашли наименьшее общее кратное из двух. Формула: НОК = a * b / НОД\n",
    "\n",
    "\n",
    "def lcm(nums):\n",
    "    result = 1\n",
    "    for num in nums:\n",
    "        result = lcm_two(result, num)  # Нашли наименьшее общее кратное из списка из чисел\n",
    "    return result\n",
    "\n",
    "\n",
    "lcm([2,4,5])\n",
    "\n",
    "\n",
    "# С импортами намного короче и быстрее:\n",
    "import math\n",
    "from functools import reduce\n",
    "\n",
    "def lcm_two(a, b):\n",
    "    return a * b // math.gcd(a, b)\n",
    "\n",
    "def lcm(nums):\n",
    "    return reduce(lcm_two, nums)        # reduce последовательно применяет ко всем значениям. В основном он работает со списком.\n",
    "\n",
    "lcm([1,2,3,5])"
   ]
  },
  {
   "cell_type": "markdown",
   "metadata": {},
   "source": [
    "____\n",
    "210) Написать функцию, которая принимает текст и возвращает текст со словами наоборот, у которых длина слова нечетная.   \n",
    "Write a Python program to reverse all words of odd lengths."
   ]
  },
  {
   "cell_type": "code",
   "execution_count": null,
   "metadata": {},
   "outputs": [],
   "source": [
    "def test(text):\n",
    "    result = ''\n",
    "    text = text.split()\n",
    "    for i in range(len(text)):\n",
    "        if len(text[i]) % 2 == 1:\n",
    "            result += text[i][::-1]\n",
    "        else:\n",
    "            result += text[i]\n",
    "        if i != len(text) - 1:\n",
    "            result += ' '\n",
    "\n",
    "    return result\n",
    "\n",
    "\n",
    "test('Brown fox is unique creature')\n",
    "\n",
    "\n",
    "# Но лучше так\n",
    "def test(text):\n",
    "    result = []\n",
    "    words = text.split()\n",
    "    for word in words:\n",
    "        if len(word) % 2 == 1:\n",
    "            result.append(word[::-1])\n",
    "        else:\n",
    "            result.append(word)\n",
    "    return ' '.join(result)"
   ]
  },
  {
   "cell_type": "markdown",
   "metadata": {},
   "source": [
    "____\n",
    "211) Написать функцию, которая ищет самое длинное общее окончание из двух слов. Например bread glad вернет нам `ad`.   \n",
    "Write a Python program to find the longest common ending between two given strings."
   ]
  },
  {
   "cell_type": "code",
   "execution_count": null,
   "metadata": {},
   "outputs": [],
   "source": [
    "def longest_common_ending(str1, str2):\n",
    "    common = ''\n",
    "    for c1, c2 in zip(reversed(str1), reversed(str2)):\n",
    "        if c1 == c2:\n",
    "            common = c1 + common\n",
    "        else:\n",
    "            break\n",
    "    return common\n",
    "\n",
    "\n",
    "# Или так\n",
    "def test(word1, word2):\n",
    "    common = ''\n",
    "    min_len = min(len(word1), len(word2))\n",
    "\n",
    "    for i in range(1, min_len+1):\n",
    "        if word1[-i] == word2[-i]:\n",
    "            common = word1[-i] + common\n",
    "        else:\n",
    "            break\n",
    "\n",
    "    return common\n",
    "\n",
    "\n",
    "# Можно вообще так\n",
    "def test(str1, str2):\n",
    "    while not str1.endswith(str2):          # Пока 2 слово не является суффиксом 1 слова\n",
    "        str2 = str2[1:]                     # Превращаем строку в ту же строку кроме символа 0. То есть убираем первый символ.\n",
    "\n",
    "    return str2"
   ]
  },
  {
   "cell_type": "markdown",
   "metadata": {},
   "source": [
    "____\n",
    "212) Вернуть ближайшее наименьшее число-палиндром полученного числа. Если число уже палиндром, его и возвращаем.   \n",
    "Write a Python program to find the closest palindrome number to a given integer. If there are two palindrome numbers in absolute distance return the smaller number."
   ]
  },
  {
   "cell_type": "code",
   "execution_count": null,
   "metadata": {},
   "outputs": [],
   "source": [
    "def palindrom(n):\n",
    "    lower = n\n",
    "    upper = n\n",
    "\n",
    "    while True:\n",
    "        if str(lower) == str(lower)[::-1]:\n",
    "            return lower\n",
    "        if str(upper) == str(upper)[::-1]:\n",
    "            return upper\n",
    "        lower -= 1\n",
    "        upper += 1\n",
    "\n",
    "palindrom(123)"
   ]
  },
  {
   "cell_type": "markdown",
   "metadata": {},
   "source": [
    "____\n",
    "213) Написать функцию, которая возвращает самую большую и самую маленькую цифру из числа. (Но использовать нужно для решения матем. подход, без преоброзований)   \n",
    "Write a Python program to find the largest and smallest digits of a given number."
   ]
  },
  {
   "cell_type": "code",
   "execution_count": null,
   "metadata": {},
   "outputs": [],
   "source": [
    "def Largest_Smallest_digit(n):\n",
    "    largest = 0                                             # Максимальная не может быть меньше 0\n",
    "    smallest = 9                                            # Наименьшая не может быть больше 9\n",
    "\n",
    "    while (n):\n",
    "        digit = n % 10                                      # Остаток от деления 1234 % 10 вернет нам 4\n",
    "        largest = max(digit, largest)                       # Наибольшее равно max(4, 0) -> 4\n",
    "        smallest = min(digit, smallest)                     # Наименьшее равно min(4, 9) -> 4\n",
    "        n = n // 10                                         # Обновляем n на целочисленное деление то есть 1234 // 10 = 123. И уже max(3, 4) и min(3, 4) и т.д. пока не закончим\n",
    "\n",
    "    return largest, smallest"
   ]
  },
  {
   "cell_type": "markdown",
   "metadata": {},
   "source": [
    "____\n",
    "214) У нас есть список из 3 чисел [12,3,14]. Если 1+2 = 3 = 1+4 возвращаем True. Решить то же самое, если цифр не 3, а больше.   \n",
    "A Python list contains three positive integers. Write a Python program to check whether the sum of the digits in each number is equal or not. Return true otherwise false."
   ]
  },
  {
   "cell_type": "code",
   "execution_count": null,
   "metadata": {},
   "outputs": [],
   "source": [
    "def test(nums):\n",
    "    return nums[0] % 9 == nums[1] % 9 == nums[2] % 9        # Математический факт, сумма цифр числа и само число дают одинаковый остаток при делении на 9. (Начальные классы)\n",
    "\n",
    "\n",
    "# Или так, если цифр не 3, а больше\n",
    "def digit_sum(n):\n",
    "    total = 0\n",
    "    while n > 0:\n",
    "        total += n % 10\n",
    "        n = n // 10\n",
    "    return total\n",
    "\n",
    "def test(nums):\n",
    "    s = digit_sum(nums[0])                           # сумма цифр первого числа\n",
    "    return all(digit_sum(x) == s for x in nums[1:])  # сравниваем с остальными\n",
    "\n",
    "\n",
    "# Или вторую функцию очень примитивно прописать\n",
    "def suma(nums):\n",
    "    s = digit_sum(nums[0])\n",
    "    for i in range(len(nums)):\n",
    "        for j in range(i+1, len(nums)):\n",
    "            if digit_sum(nums[i]) != digit_sum(nums[j]):\n",
    "                return False\n",
    "    return True\n",
    "\n",
    "# либо так (такой вариант работает быстрее чем примитивный через подбор всех пар)\n",
    "def suma(nums):\n",
    "    sums = [digit_sum(num) for num in nums]\n",
    "    first = sums[0]\n",
    "    for s in sums[1:]:\n",
    "        if s != first:\n",
    "            return False\n",
    "    return True"
   ]
  },
  {
   "cell_type": "markdown",
   "metadata": {},
   "source": [
    "____\n",
    "215) Функция, которая считает сколько цифр больше предыдущей. [1,2,2,4] выдаст нам 2 (2 больше 1, и 4 больше 2).   \n",
    "A Python list contains some positive integers. Write a Python program to count the numbers that are greater than the previous number on the list."
   ]
  },
  {
   "cell_type": "code",
   "execution_count": null,
   "metadata": {},
   "outputs": [],
   "source": [
    "def test(nums):\n",
    "    ctr = 0\n",
    "    for i in range(1, len(nums)):\n",
    "        if nums[i] > nums[i - 1]:\n",
    "            ctr += 1\n",
    "    return ctr\n",
    "\n",
    "\n",
    "# Через генератор короче\n",
    "def test(nums):\n",
    "    return sum(nums[i] > nums[i - 1] for i in range(1, len(nums)))"
   ]
  },
  {
   "cell_type": "markdown",
   "metadata": {},
   "source": [
    "____\n",
    "216) Прога, которая принимает положительное число, например 2 и возвращает списком [[2,2], [2,2]]   \n",
    "Write a Python program that takes a positive integer and creates an N x N square filled with the integer N. Display the N x N square."
   ]
  },
  {
   "cell_type": "code",
   "execution_count": null,
   "metadata": {},
   "outputs": [],
   "source": [
    "def pozit(num):\n",
    "    if num <= 0:\n",
    "        return []\n",
    "    return [num * [num]] * num\n",
    "\n",
    "pozit(2)"
   ]
  },
  {
   "cell_type": "markdown",
   "metadata": {},
   "source": [
    "____\n",
    "217) Функция которая будет извлекать кубический корень из заданного числа, пока число не станет меньше 3. Надо вывести количество шагов за которое число станет меньше 3.   \n",
    "Write a Python program that takes a positive integer and calculates the cube root of the number until the number is less than three. Count the number of steps to complete the task."
   ]
  },
  {
   "cell_type": "code",
   "execution_count": null,
   "metadata": {},
   "outputs": [],
   "source": [
    "def root3(num):\n",
    "    s = 0\n",
    "    while n >= 3:\n",
    "        n **= 1/3\n",
    "        s += 1\n",
    "\n",
    "print(s)\n",
    "\n",
    "# Либо через math\n",
    "import math\n",
    "\n",
    "def cube_root_process(number):\n",
    "    steps = 0\n",
    "    while number >= 3:\n",
    "        number = math.pow(number, 1/3)\n",
    "        steps += 1\n",
    "    return steps"
   ]
  },
  {
   "cell_type": "markdown",
   "metadata": {},
   "source": [
    "____\n",
    "218) Функция, которая принимает список, и возвращает True если в нем встречается 2 раза число 19 и как минимум 3 раза число 5.   \n",
    "Write a Python program to find a list of integers with exactly two occurrences of nineteen and at least three occurrences of five. Return True otherwise False."
   ]
  },
  {
   "cell_type": "code",
   "execution_count": null,
   "metadata": {},
   "outputs": [],
   "source": [
    "def occur(nums):\n",
    "    return count.nums(19) == 2 and count.nums(5) >= 3"
   ]
  },
  {
   "cell_type": "markdown",
   "metadata": {},
   "source": [
    "____\n",
    "219) Есть список из цифр, надо проверить что все они идут с шагом 10.   "
   ]
  },
  {
   "cell_type": "code",
   "execution_count": null,
   "metadata": {},
   "outputs": [],
   "source": [
    "def shag10(lst):\n",
    "    return all(lst[i+1] - lst[i] == 10 for i in range(len(lst) - 1))\n",
    "\n",
    "# Либо так\n",
    "def test(lst):\n",
    "    for i in range(len(lst)-1):\n",
    "        if lst[i+1] - lst[i] != 10:\n",
    "            return False\n",
    "    return True\n",
    "\n",
    "test([0,10,20,30,40,50,60])"
   ]
  },
  {
   "cell_type": "markdown",
   "metadata": {},
   "source": [
    "____\n",
    "220) Дан список цифр и пороговое значение. Надо вернуть список индексов, под которыми цифры ниже чем пороговое значение.   \n",
    "Write a Python program to find the indexes of numbers in a given list below a given threshold."
   ]
  },
  {
   "cell_type": "code",
   "execution_count": null,
   "metadata": {},
   "outputs": [],
   "source": [
    "def test(nums, thresh):\n",
    "    return [i for i, n in enumerate(nums) if n < thresh]"
   ]
  },
  {
   "cell_type": "markdown",
   "metadata": {},
   "source": [
    "____\n",
    "221) Функция, которая возвращает длину каждого слова из списка.   \n",
    "Write a Python program to find the length of a given list of non-empty strings."
   ]
  },
  {
   "cell_type": "code",
   "execution_count": null,
   "metadata": {},
   "outputs": [],
   "source": [
    "def test(strs):\n",
    "    return [*map(len, strs)]    # * означает распаковка. Иначе он просто вернет [<map at 0x234d7d1baf0>]"
   ]
  },
  {
   "cell_type": "markdown",
   "metadata": {},
   "source": [
    "____\n",
    "222) Функция, которая принимает число например 4 и создает текстом через пробел 0 1 2 3 4.    \n",
    "Write a Python program to create a string consisting of non-negative integers up to n inclusive."
   ]
  },
  {
   "cell_type": "code",
   "execution_count": null,
   "metadata": {},
   "outputs": [],
   "source": [
    "def test(n):\n",
    "    return ' '.join(map(str, range(n + 1)))\n",
    "\n",
    "# Или так\n",
    "def test(n):\n",
    "    return ' '.join(str(i) for i in range(n + 1))"
   ]
  },
  {
   "cell_type": "markdown",
   "metadata": {},
   "source": [
    "____\n",
    "223) У нас есть неравномерная матрица. Нужно найти индексы где встречается таргет число в матрице.   \n",
    "Write a Python program to find the indices of all occurrences of target in the uneven matrix."
   ]
  },
  {
   "cell_type": "code",
   "execution_count": null,
   "metadata": {},
   "outputs": [],
   "source": [
    "def test(M, T):\n",
    "    return [[i, j] for i, row in enumerate(M) for j, n in enumerate(row) if n == T]\n",
    "\n",
    "M = [[1, 3, 2, 32, 19], [19, 2, 48, 19], [], [9, 35, 4], [3, 19]]\n",
    "T = 19"
   ]
  },
  {
   "cell_type": "markdown",
   "metadata": {},
   "source": [
    "____\n",
    "224) Выбрать слово из списка из слов, у которого больше всего уникальных символов.   \n",
    "Select a string from a given list of strings with the most unique characters"
   ]
  },
  {
   "cell_type": "code",
   "execution_count": null,
   "metadata": {},
   "outputs": [],
   "source": [
    "def test(words):\n",
    "    return max(words, key=lambda x: len(set(x)))     # Для каждого слова x вычисляем len(set())."
   ]
  },
  {
   "cell_type": "markdown",
   "metadata": {},
   "source": [
    "____\n",
    "225) Функция, которая считает сумму всех чисел из списка которые больше чем 2 символа, до числа `k`   \n",
    "Write a Python program to find the sum of the numbers in a given list among the first k with more than 2 digits."
   ]
  },
  {
   "cell_type": "code",
   "execution_count": null,
   "metadata": {},
   "outputs": [],
   "source": [
    "def test(nums, k):\n",
    "    return sum(n for n in nums[:k] if len(str(abs(n))) > 2)\n",
    "\n",
    "test([1,2,3,4,124,1], 6)"
   ]
  },
  {
   "cell_type": "markdown",
   "metadata": {},
   "source": [
    "____\n",
    "226) Функция, которая перемножает все числа если они не делятся на 2 без остатка. Вернуть 0 если таких чисел нет. Изначально мы получаем число строчкой, например \"523\".   \n",
    "Write a Python program to compute the product of the odd digits in a given number, or 0 if there aren't any."
   ]
  },
  {
   "cell_type": "code",
   "execution_count": null,
   "metadata": {},
   "outputs": [],
   "source": [
    "def prod(num):\n",
    "    product = 1\n",
    "    found = False\n",
    "    for a in range(len(num)):\n",
    "        if int(num[a]) % 2 != 0:\n",
    "            product *= int(num[a])\n",
    "            found = True\n",
    "    return product if found else 0\n",
    "\n",
    "\n",
    "num = '523'\n",
    "prod(num)\n",
    "\n",
    "# Или так\n",
    "def test(n):\n",
    "    if any(int(c) % 2 for c in str(n)):\n",
    "        prod = 1\n",
    "        for c in str(n):\n",
    "            if int(c) % 2 == 1:\n",
    "                prod *= int(c)\n",
    "        return prod\n",
    "    return 0"
   ]
  },
  {
   "cell_type": "markdown",
   "metadata": {},
   "source": [
    "____\n",
    "227) Написать функцию, котораяя сортирует числа из списка по сумме их каждого числа.   \n",
    "Write a Python program to sort the numbers in a given list by the sum of their digits."
   ]
  },
  {
   "cell_type": "code",
   "execution_count": null,
   "metadata": {},
   "outputs": [],
   "source": [
    "def digit_sum(num):\n",
    "    return sum(int(n) for n in str(num) if n != '-')\n",
    "    # sign = -1 if num < 0 else 1\n",
    "    # return (sum(sign * int(n) for n in str(abs(num))))                 # Так, если хотим учитывать еще и отрицательные значения\n",
    "\n",
    "def sorted_lst(nums):\n",
    "    return sorted(nums, key=digit_sum)\n",
    "\n",
    "\n",
    "nums = [1,34,45,-67,81]\n",
    "sorted_lst(nums)\n",
    "\n",
    "\n",
    "# Либо короче, через lambda функцию\n",
    "def test(nums):\n",
    "    return sorted(nums, key=lambda n: sum(int(c) for c in str(n) if c != \"-\"))"
   ]
  },
  {
   "cell_type": "markdown",
   "metadata": {},
   "source": [
    "____\n",
    "229) Функция, которая сортирует числа исходя из их наименований текстовых 'one two three ...'   \n",
    "Write a Python program to sort numbers based on strings."
   ]
  },
  {
   "cell_type": "code",
   "execution_count": null,
   "metadata": {},
   "outputs": [],
   "source": [
    "def test(strs):\n",
    "    selection = 'one two three four five six seven eight nine'.split()\n",
    "    selected_numbers = [x for x in selection if x in strs]\n",
    "    result = ' '.join(selected_numbers)\n",
    "    return result\n",
    "\n",
    "\n",
    "strs = 'eight nine one two'\n",
    "test(strs)"
   ]
  },
  {
   "cell_type": "markdown",
   "metadata": {},
   "source": [
    "____\n",
    "230) Мы задаем число и должны вернуть список из чисел Фиббоначи. Если ввели 10, то должны вернуть 10 чисел.   \n",
    "Write a Python program to find the product of the units digits in the numbers in a given list."
   ]
  },
  {
   "cell_type": "code",
   "execution_count": null,
   "metadata": {},
   "outputs": [],
   "source": [
    "def test(n):\n",
    "    result = [1, 1]\n",
    "    while len(result) < n:\n",
    "        result.append(result[-1] + result[-2])\n",
    "    return result"
   ]
  },
  {
   "cell_type": "markdown",
   "metadata": {},
   "source": [
    "____\n",
    "231) Функция, которая реверсит все str, в которых нет букв, а те str в которых есть хотя бы одна буква возвращает сменой заглавных на строчные и наоборот.   \n",
    "Write a Python program to reverse the case of all strings. For those strings, which contain no letters, reverse the strings."
   ]
  },
  {
   "cell_type": "code",
   "execution_count": null,
   "metadata": {},
   "outputs": [],
   "source": [
    "def rever(words):\n",
    "    return [word.swapcase() if any(char.isalpha() for char in word) else word[::-1] for word in words]\n",
    "\n",
    "words = ['Green', 'Red', 'Orange', 'Yellow', '', 'White']\n",
    "rever(words)"
   ]
  },
  {
   "cell_type": "markdown",
   "metadata": {},
   "source": [
    "____\n",
    "232) Вернуть числа из списка которые больше 10 и где первая и последняя цифра числа нечетные.   \n",
    "Find the numbers that are greater than 10 and have odd first and last digits"
   ]
  },
  {
   "cell_type": "code",
   "execution_count": null,
   "metadata": {},
   "outputs": [],
   "source": [
    "def odd(nums):\n",
    "    return [num for num in nums if num > 10 and int(str(num)[0]) % 2 != 0 and int(str(num)[-1]) % 2 != 0]\n",
    "\n",
    "nums = [1, 3, 79, 10, 4, 1, 39, 62]\n",
    "odd(nums)\n",
    "\n",
    "\n",
    "# Либо так, но это примитивное решени\n",
    "def odd(nums):\n",
    "    lst = []\n",
    "    for num in nums:\n",
    "        if num > 10:\n",
    "            first_digit = int(str(num)[0])\n",
    "            last_digit = int(str(num)[-1])\n",
    "            if first_digit % 2 != 0 and last_digit % 2 != 0:\n",
    "                lst.append(num)\n",
    "    return lst"
   ]
  },
  {
   "cell_type": "markdown",
   "metadata": {},
   "source": [
    "____\n",
    "233) У нас есть два числа a и n. Найти число x, в степени которого а даст нам n.   \n",
    "Write a Python program to find an integer exponent x such that a^x = n."
   ]
  },
  {
   "cell_type": "code",
   "execution_count": null,
   "metadata": {},
   "outputs": [],
   "source": [
    "def find_exponent(a, n):\n",
    "    if a <= 0 or n <= 0:\n",
    "        return 'Wrong!'\n",
    "\n",
    "    x = 0\n",
    "    while a ** x < n:\n",
    "        x += 1\n",
    "    return x if a ** x == n else 'There is no exponent'\n",
    "\n",
    "\n",
    "find_exponent(2,1024)"
   ]
  },
  {
   "cell_type": "markdown",
   "metadata": {},
   "source": [
    "____\n",
    "234) У нас есть два числа, например 3 и 13. Надо взять максимальное четное число от 3 до 13 включительно.   \n",
    "Write a Python program to find the biggest even number between two numbers inclusive."
   ]
  },
  {
   "cell_type": "code",
   "execution_count": null,
   "metadata": {},
   "outputs": [],
   "source": [
    "def test(m, n):\n",
    "    if m > n or (m == n and m % 2 == 1):     # Это самое правильное решение, так как мы ничего не перебираем, а пляшем от последнего числа. То есть генератор тут не нужен.\n",
    "        return -1\n",
    "    return n if n % 2 == 0 else n - 1"
   ]
  },
  {
   "cell_type": "markdown",
   "metadata": {},
   "source": [
    "____\n",
    "235) Вернуть список из чисел, которые соседствуют (справа и слева) от простого числа в другом списке.   \n",
    "Write a Python program to find a list of all numbers that are adjacent to a prime number in the list, sorted without duplicates."
   ]
  },
  {
   "cell_type": "code",
   "execution_count": null,
   "metadata": {},
   "outputs": [],
   "source": [
    "def prime(m):\n",
    "    if m < 2:\n",
    "        return False\n",
    "    for i in range(2, int(m ** 0.5) + 1):\n",
    "        if m % i == 0:\n",
    "            return False\n",
    "    return True\n",
    "\n",
    "def test(nums):\n",
    "    neighbors = set()\n",
    "\n",
    "    for i, n in enumerate(nums):\n",
    "        left_is_prime = (i > 0 and prime(nums[i - 1]))                  # Если от числа n есть левый сосед и этот сосед простое число = True, иначе False\n",
    "        right_is_prime = (i < len(nums) - 1 and prime(nums[i + 1]))     # Если от числа n есть правый сосед и этот сосед простое число = True, иначе False\n",
    "\n",
    "        if left_is_prime or right_is_prime:\n",
    "            neighbors.add(n)                                            # Добавим n число\n",
    "\n",
    "    return sorted(neighbors)\n",
    "\n",
    "    # return sorted({ n for i, n in enumerate(nums) if (i > 0 and prime(nums[i - 1])) or (i < len(nums) - 1 and prime(nums[i + 1])) })           -         Либо так одной строчкой\n",
    "\n",
    "\n",
    "nums = [2, 17, 16, 0, 6, 4, 5]\n",
    "test(nums)"
   ]
  },
  {
   "cell_type": "markdown",
   "metadata": {},
   "source": [
    "____\n",
    "236) Функция, которая суммирует четные числа с нечетными индексами.   \n",
    "Write a Python program to find the sum of the even elements that are at odd indices in a given list."
   ]
  },
  {
   "cell_type": "code",
   "execution_count": null,
   "metadata": {},
   "outputs": [],
   "source": [
    "def count_odd(nums):\n",
    "    return sum(num for num in nums[1::2] if num % 2 == 0)\n",
    "\n",
    "nums = [1,2,3,4]\n",
    "count_odd(nums)"
   ]
  },
  {
   "cell_type": "markdown",
   "metadata": {},
   "source": [
    "____\n",
    "237) Функция, которая возвращает слова из текста, чья длина букв - простое число.   \n",
    "Write a Python program to find the string consisting of all the words whose lengths are prime numbers."
   ]
  },
  {
   "cell_type": "code",
   "execution_count": null,
   "metadata": {},
   "outputs": [],
   "source": [
    "def is_prime(n):\n",
    "    return n > 1 and all(n % j != 0 for j in range(2, int(n ** 0.5) + 1))   # Это самый короткий и сложный для восприятия вариант. Можно обычной функцией, что я не раз делал раньше.\n",
    "\n",
    "\n",
    "def test(s):\n",
    "    return \" \".join(word for word in s.split() if is_prime(len(word)))\n",
    "\n",
    "\n",
    "s = 'little brown fox is'\n",
    "test(s)"
   ]
  },
  {
   "cell_type": "markdown",
   "metadata": {},
   "source": [
    "____\n",
    "238) У нас есть два числа например 1234, 2. Надо написать функцию которая возвращает число, со сдвигом вправо на 2. То есть получится 3412.   \n",
    "Write a Python program to shift the decimal digits n places to the left, wrapping the extra digits around. If the shift > the number of digits in n, reverse the string."
   ]
  },
  {
   "cell_type": "code",
   "execution_count": null,
   "metadata": {},
   "outputs": [],
   "source": [
    "def test(n, shift):\n",
    "    s = str(n)\n",
    "\n",
    "    if shift > len(s):\n",
    "        return s[::-1]\n",
    "\n",
    "    return s[shift:] + s[:shift]    # 34 + 12"
   ]
  },
  {
   "cell_type": "markdown",
   "metadata": {},
   "source": [
    "____\n",
    "239) Написать функцию, которая возвращает индексы пар чисел, чья разница меньше всего.   \n",
    "Write a Python program to find the indices of the closest pair from a list of numbers."
   ]
  },
  {
   "cell_type": "code",
   "execution_count": null,
   "metadata": {},
   "outputs": [],
   "source": [
    "def closest_pair_indices(nums):\n",
    "    min_diff = float('inf')                   # ставим максимально большое значение\n",
    "    if len(nums) < 2:\n",
    "        return 'There must be at least 2 elements'\n",
    "\n",
    "    for i in range(len(nums)):\n",
    "        for j in range(i + 1, len(nums)):\n",
    "            diff = abs(nums[i] - nums[j])\n",
    "            if diff < min_diff:\n",
    "                min_diff = diff\n",
    "                pair = [i, j]                  # сохраняем индексы\n",
    "    return pair\n",
    "\n",
    "\n",
    "nums = [1,2,8,9]\n",
    "closest_pair_indices(nums)\n",
    "\n",
    "\n",
    "# Либо такой вариант, он работает быстрее\n",
    "def closest_pair_indices(nums):\n",
    "    if len(nums) < 2:\n",
    "        return 'There must be at least 2 elements'\n",
    "\n",
    "    indexed_nums = list(enumerate(nums))\n",
    "    indexed_nums.sort(key=lambda x: x[1])                              # Сортируем по значению, при этом не меняя индексы. x[0] это индекс, x[1] это значение\n",
    "    min_diff = float('inf')\n",
    "\n",
    "    for i in range(len(indexed_nums) - 1):\n",
    "        diff = abs(indexed_nums[i+1][1] - indexed_nums[i][1])\n",
    "        if diff < min_diff:\n",
    "            min_diff = diff\n",
    "            pair = [indexed_nums[i][0], indexed_nums[i+1][0]]\n",
    "\n",
    "    return pair"
   ]
  },
  {
   "cell_type": "markdown",
   "metadata": {},
   "source": [
    "____\n",
    "240) Функция, которая принимаеn список и списков(по дням, допустим) и возвращает нам первые негативный балансы (как снятие денег в банке). balances = [[1200, 100, -900], [100, 100, -2400]]. Вернет [None, -2200 ]   \n",
    "Write a Python program to find the first negative balance from a given list of numbers that represent bank deposits and withdrawals."
   ]
  },
  {
   "cell_type": "code",
   "execution_count": null,
   "metadata": {},
   "outputs": [],
   "source": [
    "def first_neg(nums):\n",
    "    lst = []\n",
    "    for num in nums:\n",
    "        total = 0\n",
    "        for n in num:\n",
    "            total += n\n",
    "            if total < 0:\n",
    "                lst.append(total)\n",
    "                break\n",
    "        else:\n",
    "            lst.append(None)\n",
    "\n",
    "    return lst\n",
    "\n",
    "\n",
    "balances = [[1200, 100, -900], [100, 100, -2400], [100,200,-700]]\n",
    "first_neg(balances)"
   ]
  },
  {
   "cell_type": "markdown",
   "metadata": {},
   "source": [
    "____\n",
    "241) Написать функцию, которая получает список, и цифру-разделитель. Надо вернуть список, где после каждой цифры из списка ставится наше число-разделитель.   \n",
    "Given a list of numbers and a number to inject, write a Python program to create a list containing that number in between each pair of adjacent numbers."
   ]
  },
  {
   "cell_type": "code",
   "execution_count": null,
   "metadata": {},
   "outputs": [],
   "source": [
    "def separator(nums, sep):\n",
    "    lst = [sep] * (2 * len(nums))    # например 2 умножим на 5 получим 10.\n",
    "    lst[::2] = nums\n",
    "    return lst\n",
    "\n",
    "\n",
    "nums = [1,1,1,1,1]\n",
    "sep = 2\n",
    "separator(nums, sep)\n",
    "\n",
    "# Или так\n",
    "def test(nums, sep):\n",
    "    result = []\n",
    "    for i in range(len(nums)):\n",
    "        if i == len(nums) - 1:\n",
    "            result.append(nums[i])\n",
    "        else:\n",
    "            result.append(nums[i])\n",
    "            result.append(sep)\n",
    "    return result"
   ]
  },
  {
   "cell_type": "markdown",
   "metadata": {},
   "source": [
    "____\n",
    "242) Найти ближайшее слова - палиндром заданной str.   \n",
    "Write a Python program to find the closest palindrome to a given string."
   ]
  },
  {
   "cell_type": "code",
   "execution_count": null,
   "metadata": {},
   "outputs": [],
   "source": [
    "def make_palindrome(s):\n",
    "    s = list(s)\n",
    "    for i in range(len(s) // 2):\n",
    "        if s[i] != s[~i]:             # [~i] значит зеркальное значение числа [i]. То есть если у нас слово car. Оно делится на два и получился c != r, то просто c подставляем на место r.\n",
    "            s[~i] = s[i]\n",
    "    return ''.join(s)\n",
    "\n",
    "make_palindrome('bdibo')"
   ]
  },
  {
   "cell_type": "markdown",
   "metadata": {},
   "source": [
    "____\n",
    "243) Функция, которая берет только однозначные числа, и возвращает нам его их текстовое значение в обратном порядке. [1,2,3,12] вернет нам ['Three','Two','One']   \n",
    "Write a Python program to get the single digits in numbers sorted backwards and converted into English words."
   ]
  },
  {
   "cell_type": "code",
   "execution_count": null,
   "metadata": {},
   "outputs": [],
   "source": [
    "def reverse(nums):\n",
    "    digits = {\n",
    "        0: 'Zero', 1: 'One', 2: 'Two', 3: 'Three', 4: 'Four',\n",
    "        5: 'Five', 6: 'Six', 7: 'Seven', 8: 'Eight', 9: 'Nine'\n",
    "    }\n",
    "\n",
    "    return [digits[num] for num in sorted([n for n in nums if 0 <= n <= 9], reverse=True)]\n",
    "\n",
    "print(reverse([27, 3, 8, 5, 1, 31]))"
   ]
  },
  {
   "cell_type": "markdown",
   "metadata": {},
   "source": [
    "____\n",
    "244) Прога, которая решает задачу Фибоначчи используя рекурсию   \n",
    "Write a Python program to solve the Fibonacci sequence using recursion using recursion."
   ]
  },
  {
   "cell_type": "code",
   "execution_count": null,
   "metadata": {},
   "outputs": [],
   "source": [
    "def fibbo(n):\n",
    "    if n == 1 or n == 2:\n",
    "        return 1\n",
    "    else:\n",
    "        return fibbo(n-1) + fibbo(n-2)     # Рекурсия подразумевает что функция вызывает сама себя для решения задачи."
   ]
  },
  {
   "cell_type": "markdown",
   "metadata": {},
   "source": [
    "____\n",
    "245) Дан массив целых чисел nums и целое число target. Найдите индексы двух чисел, сумма которых равна target.       \n",
    "Two sums indexes"
   ]
  },
  {
   "cell_type": "code",
   "execution_count": null,
   "metadata": {},
   "outputs": [],
   "source": [
    "def two_sum2(nums, target):\n",
    "    result = []\n",
    "    for a in range(len(nums)):\n",
    "        for b in range(a + 1, len(nums)):\n",
    "            if nums[a] + nums[b] == target:\n",
    "                result.append([a, b])\n",
    "    return result\n",
    "\n",
    "\n",
    "# Такая реализация работает быстрее\n",
    "def two_sum_all_pairs(nums, target):\n",
    "    seen = {}\n",
    "    result = []\n",
    "\n",
    "    for i, num in enumerate(nums):\n",
    "        complement = target - num\n",
    "        if complement in seen:\n",
    "            for j in seen[complement]:\n",
    "                result.append([j, i])\n",
    "        if num in seen:\n",
    "            seen[num].append(i)\n",
    "        else:\n",
    "            seen[num] = [i]\n",
    "\n",
    "    return result"
   ]
  },
  {
   "cell_type": "markdown",
   "metadata": {},
   "source": [
    "____\n",
    "246) Функция, которая считает сколько раз встречается каждая буква в слове.    \n",
    "Write a Python program to count the number of characters (character frequency) in a string."
   ]
  },
  {
   "cell_type": "code",
   "execution_count": null,
   "metadata": {},
   "outputs": [],
   "source": [
    "from collections import Counter\n",
    "\n",
    "def char_frequency(str1):\n",
    "    return Counter(str1)\n",
    "\n",
    "\n",
    "# Либо вручную\n",
    "def char_freq(str1):\n",
    "    dict = {}                                 # Создаем словарь, так как у нас будет ключ: значение\n",
    "    for char in str1:\n",
    "        dict[char] = dict.get(char, 0) + 1    # get пытается получить значение по ключу, если ключа нет - 0. dict[g]\n",
    "    return dict\n",
    "\n",
    "\n",
    "char_freq('google')"
   ]
  },
  {
   "cell_type": "markdown",
   "metadata": {},
   "source": [
    "____\n",
    "247) Функция, которая, когда встречает слово not и poor заменяет на good. Но только если poor идет после not и неважно что между нами. Начиная с not до poor все заменяется.   \n",
    "Write a Python program to find the first appearance of the substrings 'not' and 'poor' in a given string. If 'not' follows 'poor', replace the whole 'not'...'poor' substring with 'good'. Return the resulting string."
   ]
  },
  {
   "cell_type": "code",
   "execution_count": null,
   "metadata": {},
   "outputs": [],
   "source": [
    "def replacepoor(str1):\n",
    "    snot = str1.lower().find('not')                           # lower на всякий, если в тексте не not a Not\n",
    "    spoor = str1.lower().find('poor')\n",
    "    if spoor > snot:\n",
    "        str1 = str1.replace(str1[snot:(spoor+4)], 'good')\n",
    "        return str1\n",
    "    else:\n",
    "        return str1\n",
    "\n",
    "replacepoor('This is not something poor')"
   ]
  },
  {
   "cell_type": "markdown",
   "metadata": {},
   "source": [
    "____\n",
    "248) Функция, которая вставляет слово/строку в середину другой строки.   \n",
    "Write a Python function to insert a string in the middle of a string."
   ]
  },
  {
   "cell_type": "code",
   "execution_count": null,
   "metadata": {},
   "outputs": [],
   "source": [
    "def middlestring(str1, word):\n",
    "    middle_i = len(str1) // 2\n",
    "    return str1[:middle_i] + word + str1[middle_i:]\n",
    "\n",
    "\n",
    "middlestring('{{[()]}}', 'PHP')"
   ]
  },
  {
   "cell_type": "markdown",
   "metadata": {},
   "source": [
    "____\n",
    "249) У нас есть символ разделитель `/`. Надо вернуть строку до этого символа.   \n",
    "Write a Python program to get the last part of a string before a specified character."
   ]
  },
  {
   "cell_type": "code",
   "execution_count": null,
   "metadata": {},
   "outputs": [],
   "source": [
    "str1 = 'https://www.w3resource.com/python-exercises/string'\n",
    "\n",
    "print(str1.rsplit('/', 2)[0])     # Вернет https://www.w3resource.com, так как 2 значит что до последних двух символов '/'"
   ]
  },
  {
   "cell_type": "markdown",
   "metadata": {},
   "source": [
    "____\n",
    "250) Функция, которая ищет первый неповторяющийся символ в строчке, иначе пусть вернет None.   \n",
    "Write a Python program to find the first non-repeating character in a given string."
   ]
  },
  {
   "cell_type": "code",
   "execution_count": null,
   "metadata": {},
   "outputs": [],
   "source": [
    "from collections import Counter\n",
    "\n",
    "def firstrep(str1):\n",
    "    counts = Counter(str1)\n",
    "    for s in str1:\n",
    "        if counts[s] == 1:\n",
    "            return s\n",
    "    return None\n",
    "\n",
    "first_non_repeating = lambda s: next((c for c in s if Counter(s)[c] == 1), None)    # Либо вообще так, одной строчкой\n",
    "\n",
    "\n",
    "firstrep('abcabcdef')\n",
    "\n",
    "\n",
    "# Либо так, но это мудренее\n",
    "def first_non_repeating_character(str1):\n",
    "    char_order = []\n",
    "    ctr = {}\n",
    "    for c in str1:\n",
    "        if c in ctr:\n",
    "            ctr[c] += 1\n",
    "        else:\n",
    "            ctr[c] = 1\n",
    "            char_order.append(c)\n",
    "\n",
    "    for c in char_order:\n",
    "        if ctr[c] == 1:\n",
    "            return c\n",
    "    return None"
   ]
  },
  {
   "cell_type": "markdown",
   "metadata": {},
   "source": [
    "____\n",
    "251) Найти первое повторяющееся слово из строчки.   \n",
    "Write a Python program to find the first repeated word in a given string."
   ]
  },
  {
   "cell_type": "code",
   "execution_count": null,
   "metadata": {},
   "outputs": [],
   "source": [
    "def firstrep(s):\n",
    "    seen = set()\n",
    "    for word in s.split():\n",
    "        if word in seen:\n",
    "            return word\n",
    "        seen.add(word)\n",
    "    return 'None'\n",
    "\n",
    "firstrep('cd er ab er')"
   ]
  },
  {
   "cell_type": "markdown",
   "metadata": {},
   "source": [
    "____\n",
    "252) Найти второе самое повторяющееся слово в тексте.   \n",
    "Write a Python program to find the second most repeated word in a given string."
   ]
  },
  {
   "cell_type": "code",
   "execution_count": null,
   "metadata": {},
   "outputs": [],
   "source": [
    "from collections import Counter\n",
    "\n",
    "def second_most_common(text):\n",
    "    words = text.split()\n",
    "    counts = Counter(words)\n",
    "    most_common = counts.most_common()\n",
    "\n",
    "    if len(most_common) < 2:\n",
    "        return None\n",
    "\n",
    "    return most_common[1][0]"
   ]
  },
  {
   "cell_type": "markdown",
   "metadata": {},
   "source": [
    "____\n",
    "253) Найти символ, чаще всего встречающийся в строке.   \n",
    "Write a Python program to find the maximum number of characters in a given string."
   ]
  },
  {
   "cell_type": "code",
   "execution_count": null,
   "metadata": {},
   "outputs": [],
   "source": [
    "from collections import Counter\n",
    "\n",
    "def word_count(str1):\n",
    "    a = Counter(str1)\n",
    "    c = a.most_common()\n",
    "    return c[0][0]\n",
    "\n",
    "\n",
    "word_count(\"Python: Get file creation and modification date/times\")\n",
    "\n",
    "\n",
    "# Либо так, так как через ord быстрее\n",
    "def get_max_occuring_char(str1):\n",
    "    ASCII_SIZE = 256                   # Расширенное количество символов, в основном англ буквы и цифры\n",
    "    ctr = [0] * ASCII_SIZE\n",
    "    max = -1\n",
    "    ch = ''\n",
    "\n",
    "    for i in str1:\n",
    "        ctr[ord(i)] += 1\n",
    "\n",
    "    for i in str1:\n",
    "        if max < ctr[ord(i)]:\n",
    "            max = ctr[ord(i)]\n",
    "            ch = i\n",
    "\n",
    "    return ch"
   ]
  },
  {
   "cell_type": "markdown",
   "metadata": {},
   "source": [
    "____\n",
    "254) Функция, которая удаляет дублирующиеся символы из строки и возвращает строку.   \n",
    "Write a Python program to remove duplicate characters from a given string."
   ]
  },
  {
   "cell_type": "code",
   "execution_count": null,
   "metadata": {},
   "outputs": [],
   "source": [
    "from collections import OrderedDict\n",
    "\n",
    "def remove_duplicate(str1):\n",
    "    unique_characters = OrderedDict.fromkeys(str1)     # Создаёт структуру без повторяющихся символов, в порядке их появления\n",
    "    return \"\".join(unique_characters.keys())           # Возвращает все ключи из OrderDict или из любого Dict\n",
    "\n",
    "\n",
    "# Либо можно решить так, ведь с set даже быстрее, но не сильно\n",
    "def remove_duplicates(s):\n",
    "    seen = set()\n",
    "    result = []\n",
    "    for char in s:\n",
    "        if char not in seen:\n",
    "            seen.add(char)\n",
    "            result.append(char)\n",
    "    return ''.join(result)"
   ]
  },
  {
   "cell_type": "markdown",
   "metadata": {},
   "source": [
    "____\n",
    "255) Функцию, которая принимает две разные строки/слова и возвращает общие символы и возвращает их в алфавитном порядке.   \n",
    "Write a Python program to find all the common characters in lexicographical order from two given lower case strings. If there are no similar letters print \"No common characters\"."
   ]
  },
  {
   "cell_type": "code",
   "execution_count": null,
   "metadata": {},
   "outputs": [],
   "source": [
    "def common_characters(s1, s2):\n",
    "    common = set(s1) & set(s2)\n",
    "    if common:\n",
    "        return ''.join(sorted(common))\n",
    "    else:\n",
    "        return \"No common characters\"\n",
    "\n",
    "# Пример использования:\n",
    "s1 = \"apple\"\n",
    "s2 = \"grape\"\n",
    "print(common_characters(s1, s2))"
   ]
  },
  {
   "cell_type": "markdown",
   "metadata": {},
   "source": [
    "____\n",
    "256) Надо сделать из двух слов анаграммы, и вернуть сколько нужно удалить символов чтобы получилась анаграмма.      \n",
    "Make two given strings anagrams removing any characters from any of the strings"
   ]
  },
  {
   "cell_type": "code",
   "execution_count": null,
   "metadata": {},
   "outputs": [],
   "source": [
    "from collections import Counter\n",
    "\n",
    "def make_anagram(s1, s2):\n",
    "    c1 = Counter(s1)\n",
    "    c2 = Counter(s2)\n",
    "\n",
    "    total = 0\n",
    "    all_set = set(c1.keys()).union(c2.keys())\n",
    "    for char in all_set:\n",
    "        total += abs(c1[char] - c2[char])        # Для каждого символа из all_set считаем сколько раз встрелся нам (То есть 5 подсчетов, так как уникальных символов 5)\n",
    "\n",
    "    return total\n",
    "\n",
    "\n",
    "print(make_anagram(\"abc\", \"cde\"))"
   ]
  },
  {
   "cell_type": "markdown",
   "metadata": {},
   "source": [
    "____\n",
    "257) Функция, которая ищет самую длинную общую подстроку из двух разных строк.   \n",
    "Write a Python program to find the longest common sub-string from two given strings."
   ]
  },
  {
   "cell_type": "code",
   "execution_count": null,
   "metadata": {},
   "outputs": [],
   "source": [
    "from difflib import SequenceMatcher\n",
    "\n",
    "def subseq(s1, s2):\n",
    "    seq_match = SequenceMatcher(None,s1,s2)                       # None означает, что не используется специальная функция сравнения символов, а по умолч.\n",
    "    match = seq_match.find_longest_match(0, len(s1), 0, len(s2))  # От 0 до длины s1 и от 0 до длины s2\n",
    "\n",
    "    if (match.size!=0):                                           # Если длина подстроки больше 0, возвращаем\n",
    "        return (s1[match.a: match.a + match.size])                # match.a это индекс в строке где начинается совпадение s1. match = Match(a, b, size)\n",
    "\n",
    "    else:\n",
    "        return ('Longest common sub-string not present')\n",
    "\n",
    "s1 = 'abcdefgh'\n",
    "s2 = 'xswerabcdwd'\n",
    "subseq(s1,s2)"
   ]
  },
  {
   "cell_type": "markdown",
   "metadata": {},
   "source": [
    "____\n",
    "258) Функция, которая объединяет значения и двух разных строк, которые не совпадают между собой по символам.   \n",
    "Write a Python program that concatenates uncommon characters from two strings."
   ]
  },
  {
   "cell_type": "code",
   "execution_count": null,
   "metadata": {},
   "outputs": [],
   "source": [
    "def uncommon(s1: str, s2: str) -> str:\n",
    "    u1 = set(s1)\n",
    "    u2 = set(s2)\n",
    "\n",
    "    common_chars = u1 & u2\n",
    "    result = [a for a in s1 if a not in common_chars] + [a for a in s2 if a not in common_chars]\n",
    "    return ''.join(result)\n",
    "\n",
    "\n",
    "s1 = 'abcdpqr'\n",
    "s2 = 'xyzabcd'\n",
    "uncommon(s1, s2)"
   ]
  },
  {
   "cell_type": "markdown",
   "metadata": {},
   "source": [
    "____\n",
    "259) Функция, которая находит самое короткое и самое длинное слово с тексте.      \n",
    "Write a Python program to find the smallest and largest words in a given string."
   ]
  },
  {
   "cell_type": "code",
   "execution_count": null,
   "metadata": {},
   "outputs": [],
   "source": [
    "def smallest_largest_words(s):\n",
    "    words = s.split()\n",
    "    if not words:\n",
    "        return None, None\n",
    "    small = min(words, key=len)\n",
    "    large = max(words, key=len)\n",
    "    return small, large"
   ]
  },
  {
   "cell_type": "markdown",
   "metadata": {},
   "source": [
    "____\n",
    "260)"
   ]
  },
  {
   "cell_type": "markdown",
   "metadata": {},
   "source": []
  }
 ],
 "metadata": {
  "language_info": {
   "name": "python"
  }
 },
 "nbformat": 4,
 "nbformat_minor": 2
}
